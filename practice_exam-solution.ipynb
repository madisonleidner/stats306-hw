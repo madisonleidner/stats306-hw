{
  "cells": [
    {
      "cell_type": "code",
      "execution_count": 1,
      "metadata": {
        "id": "RJk6EaG6fKje",
        "outputId": "e02921b6-4af0-4d25-e0e9-74fab53c92db",
        "colab": {
          "base_uri": "https://localhost:8080/"
        }
      },
      "outputs": [
        {
          "output_type": "stream",
          "name": "stderr",
          "text": [
            "Warning message in system(\"timedatectl\", intern = TRUE):\n",
            "“running command 'timedatectl' had status 1”\n",
            "── \u001b[1mAttaching packages\u001b[22m ─────────────────────────────────────── tidyverse 1.3.1 ──\n",
            "\n",
            "\u001b[32m✔\u001b[39m \u001b[34mggplot2\u001b[39m 3.4.1     \u001b[32m✔\u001b[39m \u001b[34mpurrr  \u001b[39m 1.0.1\n",
            "\u001b[32m✔\u001b[39m \u001b[34mtibble \u001b[39m 3.2.1     \u001b[32m✔\u001b[39m \u001b[34mdplyr  \u001b[39m 1.1.1\n",
            "\u001b[32m✔\u001b[39m \u001b[34mtidyr  \u001b[39m 1.3.0     \u001b[32m✔\u001b[39m \u001b[34mstringr\u001b[39m 1.4.1\n",
            "\u001b[32m✔\u001b[39m \u001b[34mreadr  \u001b[39m 2.1.4     \u001b[32m✔\u001b[39m \u001b[34mforcats\u001b[39m 1.0.0\n",
            "\n",
            "── \u001b[1mConflicts\u001b[22m ────────────────────────────────────────── tidyverse_conflicts() ──\n",
            "\u001b[31m✖\u001b[39m \u001b[34mdplyr\u001b[39m::\u001b[32mfilter()\u001b[39m masks \u001b[34mstats\u001b[39m::filter()\n",
            "\u001b[31m✖\u001b[39m \u001b[34mdplyr\u001b[39m::\u001b[32mlag()\u001b[39m    masks \u001b[34mstats\u001b[39m::lag()\n",
            "\n"
          ]
        }
      ],
      "source": [
        "library(modelr)\n",
        "library(tidyverse)\n",
        "\n",
        "library(modelr)"
      ]
    },
    {
      "cell_type": "code",
      "source": [
        "sim2$x %>% unique"
      ],
      "metadata": {
        "colab": {
          "base_uri": "https://localhost:8080/",
          "height": 34
        },
        "id": "Oz8PuFJfz9pD",
        "outputId": "96ffb83c-ebe4-433d-c531-1af594221958"
      },
      "execution_count": 3,
      "outputs": [
        {
          "output_type": "display_data",
          "data": {
            "text/html": [
              "<style>\n",
              ".list-inline {list-style: none; margin:0; padding: 0}\n",
              ".list-inline>li {display: inline-block}\n",
              ".list-inline>li:not(:last-child)::after {content: \"\\00b7\"; padding: 0 .5ex}\n",
              "</style>\n",
              "<ol class=list-inline><li>'a'</li><li>'b'</li><li>'c'</li><li>'d'</li></ol>\n"
            ],
            "text/markdown": "1. 'a'\n2. 'b'\n3. 'c'\n4. 'd'\n\n\n",
            "text/latex": "\\begin{enumerate*}\n\\item 'a'\n\\item 'b'\n\\item 'c'\n\\item 'd'\n\\end{enumerate*}\n",
            "text/plain": [
              "[1] \"a\" \"b\" \"c\" \"d\""
            ]
          },
          "metadata": {}
        }
      ]
    },
    {
      "cell_type": "code",
      "source": [
        "sim2 %>% glimpse"
      ],
      "metadata": {
        "colab": {
          "base_uri": "https://localhost:8080/"
        },
        "id": "CnW82BJt1BA8",
        "outputId": "11cb3715-1362-46ae-b336-c39d2705bab4"
      },
      "execution_count": 5,
      "outputs": [
        {
          "output_type": "stream",
          "name": "stdout",
          "text": [
            "Rows: 40\n",
            "Columns: 2\n",
            "$ x \u001b[3m\u001b[90m<chr>\u001b[39m\u001b[23m \"a\", \"a\", \"a\", \"a\", \"a\", \"a\", \"a\", \"a\", \"a\", \"a\", \"b\", \"b\", \"b\", \"b\"…\n",
            "$ y \u001b[3m\u001b[90m<dbl>\u001b[39m\u001b[23m 1.9353632, 1.1764886, 1.2436855, 2.6235489, 1.1120381, 0.8660030, -0…\n"
          ]
        }
      ]
    },
    {
      "cell_type": "code",
      "source": [
        "md <- lm(y ~ x, sim2)\n",
        "summary(md)"
      ],
      "metadata": {
        "colab": {
          "base_uri": "https://localhost:8080/",
          "height": 372
        },
        "id": "_NePmhU00eJk",
        "outputId": "bf8e9b18-e641-4b0e-cccf-e1bc7bbe3bb9"
      },
      "execution_count": 4,
      "outputs": [
        {
          "output_type": "display_data",
          "data": {
            "text/plain": [
              "\n",
              "Call:\n",
              "lm(formula = y ~ x, data = sim2)\n",
              "\n",
              "Residuals:\n",
              "     Min       1Q   Median       3Q      Max \n",
              "-2.40131 -0.43996 -0.05776  0.49066  2.63938 \n",
              "\n",
              "Coefficients:\n",
              "            Estimate Std. Error t value Pr(>|t|)    \n",
              "(Intercept)   1.1522     0.3475   3.316  0.00209 ** \n",
              "xb            6.9639     0.4914  14.171 2.68e-16 ***\n",
              "xc            4.9750     0.4914  10.124 4.47e-12 ***\n",
              "xd            0.7588     0.4914   1.544  0.13131    \n",
              "---\n",
              "Signif. codes:  0 ‘***’ 0.001 ‘**’ 0.01 ‘*’ 0.05 ‘.’ 0.1 ‘ ’ 1\n",
              "\n",
              "Residual standard error: 1.099 on 36 degrees of freedom\n",
              "Multiple R-squared:  0.8852,\tAdjusted R-squared:  0.8756 \n",
              "F-statistic: 92.52 on 3 and 36 DF,  p-value: < 2.2e-16\n"
            ]
          },
          "metadata": {}
        }
      ]
    },
    {
      "cell_type": "markdown",
      "source": [
        "## Regression\n",
        "\n",
        "Problem 4"
      ],
      "metadata": {
        "id": "BZAX830r2Rzj"
      }
    },
    {
      "cell_type": "code",
      "source": [
        "x1 = 4\n",
        "\n",
        "y = 1.9733 + x1 * 1.0852 - 1.0469\n",
        "y"
      ],
      "metadata": {
        "colab": {
          "base_uri": "https://localhost:8080/",
          "height": 34
        },
        "id": "CByClg-w2Sgp",
        "outputId": "b4628585-737d-40d0-80d8-f060b1a27fc7"
      },
      "execution_count": 6,
      "outputs": [
        {
          "output_type": "display_data",
          "data": {
            "text/html": [
              "5.2672"
            ],
            "text/markdown": "5.2672",
            "text/latex": "5.2672",
            "text/plain": [
              "[1] 5.2672"
            ]
          },
          "metadata": {}
        }
      ]
    },
    {
      "cell_type": "code",
      "source": [
        "sim2 %>% filter(x == 'c') %>% print"
      ],
      "metadata": {
        "colab": {
          "base_uri": "https://localhost:8080/"
        },
        "id": "6sLUX0rz3CK9",
        "outputId": "384547c6-769d-47e1-b85f-ab7c9c2b8419"
      },
      "execution_count": 12,
      "outputs": [
        {
          "output_type": "stream",
          "name": "stdout",
          "text": [
            "\u001b[90m# A tibble: 10 × 2\u001b[39m\n",
            "   x         y\n",
            "   \u001b[3m\u001b[90m<chr>\u001b[39m\u001b[23m \u001b[3m\u001b[90m<dbl>\u001b[39m\u001b[23m\n",
            "\u001b[90m 1\u001b[39m c      6.86\n",
            "\u001b[90m 2\u001b[39m c      5.76\n",
            "\u001b[90m 3\u001b[39m c      5.79\n",
            "\u001b[90m 4\u001b[39m c      6.02\n",
            "\u001b[90m 5\u001b[39m c      6.03\n",
            "\u001b[90m 6\u001b[39m c      6.55\n",
            "\u001b[90m 7\u001b[39m c      3.73\n",
            "\u001b[90m 8\u001b[39m c      8.68\n",
            "\u001b[90m 9\u001b[39m c      5.64\n",
            "\u001b[90m10\u001b[39m c      6.21\n"
          ]
        }
      ]
    },
    {
      "cell_type": "markdown",
      "source": [
        "## Sibilants\n"
      ],
      "metadata": {
        "id": "BiM3y405rmgO"
      }
    },
    {
      "cell_type": "code",
      "source": [
        "words[str_detect(words, '^[aeiou].*ss$')] "
      ],
      "metadata": {
        "colab": {
          "base_uri": "https://localhost:8080/",
          "height": 34
        },
        "id": "aKNcQ9y-4sul",
        "outputId": "2e377979-e745-448f-d427-3feb50d4897c"
      },
      "execution_count": 18,
      "outputs": [
        {
          "output_type": "display_data",
          "data": {
            "text/html": [
              "<style>\n",
              ".list-inline {list-style: none; margin:0; padding: 0}\n",
              ".list-inline>li {display: inline-block}\n",
              ".list-inline>li:not(:last-child)::after {content: \"\\00b7\"; padding: 0 .5ex}\n",
              "</style>\n",
              "<ol class=list-inline><li>'across'</li><li>'address'</li><li>'express'</li><li>'unless'</li></ol>\n"
            ],
            "text/markdown": "1. 'across'\n2. 'address'\n3. 'express'\n4. 'unless'\n\n\n",
            "text/latex": "\\begin{enumerate*}\n\\item 'across'\n\\item 'address'\n\\item 'express'\n\\item 'unless'\n\\end{enumerate*}\n",
            "text/plain": [
              "[1] \"across\"  \"address\" \"express\" \"unless\" "
            ]
          },
          "metadata": {}
        }
      ]
    },
    {
      "cell_type": "markdown",
      "source": [
        "## Mode"
      ],
      "metadata": {
        "id": "Yjd78oBsrr_M"
      }
    },
    {
      "cell_type": "code",
      "source": [
        "mode <- function(v){\n",
        "  df <- tibble(v)\n",
        "  result <- df %>% count(v) %>% top_n(1) \n",
        "  result$v[1]\n",
        "}"
      ],
      "metadata": {
        "id": "SHYqskit69nz"
      },
      "execution_count": 30,
      "outputs": []
    },
    {
      "cell_type": "code",
      "source": [
        "v = c(1,2,2,3,3)\n",
        "df <- tibble(v)\n",
        "result <- df %>% count(v) %>% top_n(1) \n",
        "result$v[1]"
      ],
      "metadata": {
        "colab": {
          "base_uri": "https://localhost:8080/",
          "height": 52
        },
        "id": "K0GEGNrX7Gub",
        "outputId": "110b76cb-0a84-4333-b30f-d9dddf7bc2c3"
      },
      "execution_count": 27,
      "outputs": [
        {
          "output_type": "stream",
          "name": "stderr",
          "text": [
            "\u001b[1m\u001b[22mSelecting by n\n"
          ]
        },
        {
          "output_type": "display_data",
          "data": {
            "text/html": [
              "2"
            ],
            "text/markdown": "2",
            "text/latex": "2",
            "text/plain": [
              "[1] 2"
            ]
          },
          "metadata": {}
        }
      ]
    },
    {
      "cell_type": "code",
      "source": [
        "df <- tibble(a=c(1, 2, 3, 4, 4, 5), b=c(T, T, F, T, F, T),\n",
        "c=c(\"dog\", \"cat\", \"lion\", \"tiger\", \"penguin\", \"wolf\")) \n",
        "df %>% summarize(across(everything(), mode))"
      ],
      "metadata": {
        "colab": {
          "base_uri": "https://localhost:8080/",
          "height": 182
        },
        "id": "ReOT3SGs66Ng",
        "outputId": "8c8cb3cb-2755-481f-bf54-95d53f5b2cf6"
      },
      "execution_count": 31,
      "outputs": [
        {
          "output_type": "stream",
          "name": "stderr",
          "text": [
            "\u001b[1m\u001b[22mSelecting by n\n",
            "\u001b[1m\u001b[22mSelecting by n\n",
            "\u001b[1m\u001b[22mSelecting by n\n"
          ]
        },
        {
          "output_type": "display_data",
          "data": {
            "text/html": [
              "<table class=\"dataframe\">\n",
              "<caption>A tibble: 1 × 3</caption>\n",
              "<thead>\n",
              "\t<tr><th scope=col>a</th><th scope=col>b</th><th scope=col>c</th></tr>\n",
              "\t<tr><th scope=col>&lt;dbl&gt;</th><th scope=col>&lt;lgl&gt;</th><th scope=col>&lt;chr&gt;</th></tr>\n",
              "</thead>\n",
              "<tbody>\n",
              "\t<tr><td>4</td><td>TRUE</td><td>cat</td></tr>\n",
              "</tbody>\n",
              "</table>\n"
            ],
            "text/markdown": "\nA tibble: 1 × 3\n\n| a &lt;dbl&gt; | b &lt;lgl&gt; | c &lt;chr&gt; |\n|---|---|---|\n| 4 | TRUE | cat |\n\n",
            "text/latex": "A tibble: 1 × 3\n\\begin{tabular}{lll}\n a & b & c\\\\\n <dbl> & <lgl> & <chr>\\\\\n\\hline\n\t 4 & TRUE & cat\\\\\n\\end{tabular}\n",
            "text/plain": [
              "  a b    c  \n",
              "1 4 TRUE cat"
            ]
          },
          "metadata": {}
        }
      ]
    },
    {
      "cell_type": "markdown",
      "source": [
        "## Sundaes"
      ],
      "metadata": {
        "id": "mQl-V7rrr2DP"
      }
    },
    {
      "cell_type": "code",
      "source": [
        "library(lubridate)\n",
        "start_date = ymd('2023-04-28')\n",
        "end_date = ymd('2023-08-27')\n",
        "\n",
        "days = seq(from = start_date, to = end_date, by = 'day')\n",
        "total_days = length(days)\n",
        "total_sundays = length(days[wday(days) == 1])\n",
        "\n",
        "total_days * 4.25 + total_sundays * 4.25"
      ],
      "metadata": {
        "colab": {
          "base_uri": "https://localhost:8080/",
          "height": 34
        },
        "id": "8QlOi6F684xG",
        "outputId": "87c5f859-b0af-4355-e1b1-a17690d44a70"
      },
      "execution_count": 41,
      "outputs": [
        {
          "output_type": "display_data",
          "data": {
            "text/html": [
              "595"
            ],
            "text/markdown": "595",
            "text/latex": "595",
            "text/plain": [
              "[1] 595"
            ]
          },
          "metadata": {}
        }
      ]
    },
    {
      "cell_type": "code",
      "source": [
        "total_days"
      ],
      "metadata": {
        "colab": {
          "base_uri": "https://localhost:8080/",
          "height": 34
        },
        "id": "H0pTY9Vz-fY-",
        "outputId": "e8f5ee0a-2de5-4fcd-9715-ef04f4d2925a"
      },
      "execution_count": 42,
      "outputs": [
        {
          "output_type": "display_data",
          "data": {
            "text/html": [
              "122"
            ],
            "text/markdown": "122",
            "text/latex": "122",
            "text/plain": [
              "[1] 122"
            ]
          },
          "metadata": {}
        }
      ]
    },
    {
      "cell_type": "markdown",
      "source": [
        "##  Coin-tossing game\n"
      ],
      "metadata": {
        "id": "tA_JmWMMsHYW"
      }
    },
    {
      "cell_type": "code",
      "source": [
        "n = 10000\n",
        "win = 0\n",
        "for(x in c(1:n)){\n",
        "  toss = str_flatten(sample(c('H', 'T'), size=10, replace=T))\n",
        "  win = win + str_detect(toss, 'TTTT|HHHH')\n",
        "}\n",
        "win/n"
      ],
      "metadata": {
        "colab": {
          "base_uri": "https://localhost:8080/",
          "height": 34
        },
        "id": "rYfs1Lcf_BR5",
        "outputId": "0fc61e4d-0cbd-475e-b248-77596f88017c"
      },
      "execution_count": 75,
      "outputs": [
        {
          "output_type": "display_data",
          "data": {
            "text/html": [
              "0.4649"
            ],
            "text/markdown": "0.4649",
            "text/latex": "0.4649",
            "text/plain": [
              "[1] 0.4649"
            ]
          },
          "metadata": {}
        }
      ]
    },
    {
      "cell_type": "markdown",
      "source": [
        "## Prime numbers\n"
      ],
      "metadata": {
        "id": "FggRMoYSsM0p"
      }
    },
    {
      "cell_type": "code",
      "source": [
        "is_prime <- function(x){\n",
        "  for(n in c(2:sqrt(x))){\n",
        "    if(x %% n == 0) return (F)\n",
        "  }\n",
        "  return (T)\n",
        "}\n",
        "n = 0\n",
        "for (m in c(2:2024)){\n",
        "  if(is_prime(m)){\n",
        "    n = n+1\n",
        "  }\n",
        "}\n",
        "n"
      ],
      "metadata": {
        "colab": {
          "base_uri": "https://localhost:8080/",
          "height": 34
        },
        "id": "s0Te8zWoAyIO",
        "outputId": "04dea8cb-45ca-4491-8712-8687f357dacd"
      },
      "execution_count": 87,
      "outputs": [
        {
          "output_type": "display_data",
          "data": {
            "text/html": [
              "305"
            ],
            "text/markdown": "305",
            "text/latex": "305",
            "text/plain": [
              "[1] 305"
            ]
          },
          "metadata": {}
        }
      ]
    }
  ],
  "metadata": {
    "celltoolbar": "Slideshow",
    "colab": {
      "provenance": []
    },
    "kernelspec": {
      "display_name": "R",
      "language": "R",
      "name": "ir"
    },
    "language_info": {
      "codemirror_mode": "r",
      "file_extension": ".r",
      "mimetype": "text/x-r-source",
      "name": "R",
      "pygments_lexer": "r",
      "version": "4.2.1"
    }
  },
  "nbformat": 4,
  "nbformat_minor": 0
}