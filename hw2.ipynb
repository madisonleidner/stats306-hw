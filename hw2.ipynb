{
  "cells": [
    {
      "cell_type": "code",
      "execution_count": 1,
      "metadata": {
        "nbgrader": {
          "grade": false,
          "grade_id": "cell-1be04a157d86c84b",
          "locked": true,
          "schema_version": 3,
          "solution": false
        },
        "id": "G2kdyqEzUc1C",
        "outputId": "a20ed280-98b2-4d43-b316-3686fde463c2",
        "colab": {
          "base_uri": "https://localhost:8080/"
        }
      },
      "outputs": [
        {
          "output_type": "stream",
          "name": "stderr",
          "text": [
            "Installing package into ‘/usr/local/lib/R/site-library’\n",
            "(as ‘lib’ is unspecified)\n",
            "\n",
            "also installing the dependencies ‘textshaping’, ‘conflicted’, ‘jsonlite’, ‘ragg’, ‘stringr’\n",
            "\n",
            "\n",
            "Warning message in install.packages(\"tidyverse\"):\n",
            "“installation of package ‘textshaping’ had non-zero exit status”\n",
            "Warning message in install.packages(\"tidyverse\"):\n",
            "“installation of package ‘ragg’ had non-zero exit status”\n",
            "Warning message in install.packages(\"tidyverse\"):\n",
            "“installation of package ‘tidyverse’ had non-zero exit status”\n",
            "Installing package into ‘/usr/local/lib/R/site-library’\n",
            "(as ‘lib’ is unspecified)\n",
            "\n",
            "Warning message in system(\"timedatectl\", intern = TRUE):\n",
            "“running command 'timedatectl' had status 1”\n",
            "── \u001b[1mAttaching packages\u001b[22m ─────────────────────────────────────── tidyverse 1.3.1 ──\n",
            "\n",
            "\u001b[32m✔\u001b[39m \u001b[34mggplot2\u001b[39m 3.4.1     \u001b[32m✔\u001b[39m \u001b[34mpurrr  \u001b[39m 1.0.1\n",
            "\u001b[32m✔\u001b[39m \u001b[34mtibble \u001b[39m 3.2.1     \u001b[32m✔\u001b[39m \u001b[34mdplyr  \u001b[39m 1.1.1\n",
            "\u001b[32m✔\u001b[39m \u001b[34mtidyr  \u001b[39m 1.3.0     \u001b[32m✔\u001b[39m \u001b[34mstringr\u001b[39m 1.5.0\n",
            "\u001b[32m✔\u001b[39m \u001b[34mreadr  \u001b[39m 2.1.4     \u001b[32m✔\u001b[39m \u001b[34mforcats\u001b[39m 1.0.0\n",
            "\n",
            "── \u001b[1mConflicts\u001b[22m ────────────────────────────────────────── tidyverse_conflicts() ──\n",
            "\u001b[31m✖\u001b[39m \u001b[34mdplyr\u001b[39m::\u001b[32mfilter()\u001b[39m masks \u001b[34mstats\u001b[39m::filter()\n",
            "\u001b[31m✖\u001b[39m \u001b[34mdplyr\u001b[39m::\u001b[32mlag()\u001b[39m    masks \u001b[34mstats\u001b[39m::lag()\n",
            "\n"
          ]
        }
      ],
      "source": [
        "install.packages(\"tidyverse\")\n",
        "install.packages(\"nycflights13\")\n",
        "library(tidyverse)\n",
        "library(nycflights13)\n",
        "options(repr.plot.width=5, repr.plot.height=4)"
      ]
    },
    {
      "cell_type": "markdown",
      "metadata": {
        "deletable": false,
        "editable": false,
        "nbgrader": {
          "grade": false,
          "grade_id": "cell-281caadd66986182",
          "locked": true,
          "schema_version": 3,
          "solution": false
        },
        "id": "xLF_4HAKUc1E"
      },
      "source": [
        "# STATS 306\n",
        "## Homework 2:  Using `dplyr`\n",
        "\n",
        "For each problem, enter the R code in the cell marked \"YOUR SOLUTION HERE\"."
      ]
    },
    {
      "cell_type": "markdown",
      "metadata": {
        "deletable": false,
        "editable": false,
        "nbgrader": {
          "grade": false,
          "grade_id": "cell-421557d86106e43b",
          "locked": true,
          "schema_version": 3,
          "solution": false
        },
        "id": "EvBmFu3qUc1F"
      },
      "source": [
        "## Problem 1: Naming frequency (4 points)\n",
        "Problem 1 is based on the `babynames` data set. Use help(babynames) to learn more on this dataset"
      ]
    },
    {
      "cell_type": "code",
      "execution_count": 2,
      "metadata": {
        "nbgrader": {
          "grade": false,
          "grade_id": "cell-88e1b70275693fee",
          "locked": true,
          "schema_version": 3,
          "solution": false
        },
        "id": "SUSYRDKxUc1F",
        "outputId": "c8f972a3-69a8-484e-cc14-3eb092b382df",
        "colab": {
          "base_uri": "https://localhost:8080/",
          "height": 321
        }
      },
      "outputs": [
        {
          "output_type": "stream",
          "name": "stderr",
          "text": [
            "Installing package into ‘/usr/local/lib/R/site-library’\n",
            "(as ‘lib’ is unspecified)\n",
            "\n"
          ]
        },
        {
          "output_type": "display_data",
          "data": {
            "text/plain": [
              "      year          sex                name                 n          \n",
              " Min.   :1880   Length:1924665     Length:1924665     Min.   :    5.0  \n",
              " 1st Qu.:1951   Class :character   Class :character   1st Qu.:    7.0  \n",
              " Median :1985   Mode  :character   Mode  :character   Median :   12.0  \n",
              " Mean   :1975                                         Mean   :  180.9  \n",
              " 3rd Qu.:2003                                         3rd Qu.:   32.0  \n",
              " Max.   :2017                                         Max.   :99686.0  \n",
              "      prop          \n",
              " Min.   :2.260e-06  \n",
              " 1st Qu.:3.870e-06  \n",
              " Median :7.300e-06  \n",
              " Mean   :1.363e-04  \n",
              " 3rd Qu.:2.288e-05  \n",
              " Max.   :8.155e-02  "
            ]
          },
          "metadata": {}
        }
      ],
      "source": [
        "install.packages(\"babynames\")\n",
        "library(babynames)\n",
        "summary(babynames)"
      ]
    },
    {
      "cell_type": "markdown",
      "metadata": {
        "deletable": false,
        "editable": false,
        "id": "Dq93-KQVUc1F"
      },
      "source": [
        "**(a)** What were the top five most popular names for boys and girls in 1925? _1 point_"
      ]
    },
    {
      "cell_type": "markdown",
      "source": [
        "The top five most popular names for girls in 1925 were Mary, Dorothy, Betty, Helen and Margaret. The top five most popular names for boys in 1925 were Robert, John, William, James and Charles."
      ],
      "metadata": {
        "id": "XESEzd6FWHAd"
      }
    },
    {
      "cell_type": "code",
      "execution_count": 3,
      "metadata": {
        "id": "1pxOvDjiUc1F",
        "colab": {
          "base_uri": "https://localhost:8080/",
          "height": 412
        },
        "outputId": "38c6bd7e-31ad-4a71-8c2a-3f06283e7362"
      },
      "outputs": [
        {
          "output_type": "display_data",
          "data": {
            "text/html": [
              "<table class=\"dataframe\">\n",
              "<caption>A tibble: 10 × 3</caption>\n",
              "<thead>\n",
              "\t<tr><th scope=col>sex</th><th scope=col>name</th><th scope=col>prop</th></tr>\n",
              "\t<tr><th scope=col>&lt;chr&gt;</th><th scope=col>&lt;chr&gt;</th><th scope=col>&lt;dbl&gt;</th></tr>\n",
              "</thead>\n",
              "<tbody>\n",
              "\t<tr><td>F</td><td>Mary    </td><td>0.05589296</td></tr>\n",
              "\t<tr><td>F</td><td>Dorothy </td><td>0.03053659</td></tr>\n",
              "\t<tr><td>F</td><td>Betty   </td><td>0.02597866</td></tr>\n",
              "\t<tr><td>F</td><td>Helen   </td><td>0.02309443</td></tr>\n",
              "\t<tr><td>F</td><td>Margaret</td><td>0.01936860</td></tr>\n",
              "\t<tr><td>M</td><td>Robert  </td><td>0.05288659</td></tr>\n",
              "\t<tr><td>M</td><td>John    </td><td>0.04967411</td></tr>\n",
              "\t<tr><td>M</td><td>William </td><td>0.04629227</td></tr>\n",
              "\t<tr><td>M</td><td>James   </td><td>0.04575208</td></tr>\n",
              "\t<tr><td>M</td><td>Charles </td><td>0.02569033</td></tr>\n",
              "</tbody>\n",
              "</table>\n"
            ],
            "text/markdown": "\nA tibble: 10 × 3\n\n| sex &lt;chr&gt; | name &lt;chr&gt; | prop &lt;dbl&gt; |\n|---|---|---|\n| F | Mary     | 0.05589296 |\n| F | Dorothy  | 0.03053659 |\n| F | Betty    | 0.02597866 |\n| F | Helen    | 0.02309443 |\n| F | Margaret | 0.01936860 |\n| M | Robert   | 0.05288659 |\n| M | John     | 0.04967411 |\n| M | William  | 0.04629227 |\n| M | James    | 0.04575208 |\n| M | Charles  | 0.02569033 |\n\n",
            "text/latex": "A tibble: 10 × 3\n\\begin{tabular}{lll}\n sex & name & prop\\\\\n <chr> & <chr> & <dbl>\\\\\n\\hline\n\t F & Mary     & 0.05589296\\\\\n\t F & Dorothy  & 0.03053659\\\\\n\t F & Betty    & 0.02597866\\\\\n\t F & Helen    & 0.02309443\\\\\n\t F & Margaret & 0.01936860\\\\\n\t M & Robert   & 0.05288659\\\\\n\t M & John     & 0.04967411\\\\\n\t M & William  & 0.04629227\\\\\n\t M & James    & 0.04575208\\\\\n\t M & Charles  & 0.02569033\\\\\n\\end{tabular}\n",
            "text/plain": [
              "   sex name     prop      \n",
              "1  F   Mary     0.05589296\n",
              "2  F   Dorothy  0.03053659\n",
              "3  F   Betty    0.02597866\n",
              "4  F   Helen    0.02309443\n",
              "5  F   Margaret 0.01936860\n",
              "6  M   Robert   0.05288659\n",
              "7  M   John     0.04967411\n",
              "8  M   William  0.04629227\n",
              "9  M   James    0.04575208\n",
              "10 M   Charles  0.02569033"
            ]
          },
          "metadata": {}
        }
      ],
      "source": [
        "# Your solution here\n",
        "#group_by(babynames, year, sex) %>% top_n(5) %>% filter(year == 1925) %>% print\n",
        "babynames %>% group_by(sex) %>%\n",
        "  filter(year == 1925) %>% top_n(5, prop) %>% ungroup() %>%\n",
        "  select(sex, name, prop)"
      ]
    },
    {
      "cell_type": "markdown",
      "metadata": {
        "deletable": false,
        "editable": false,
        "id": "a9O1n8sZUc1F"
      },
      "source": [
        "**(b)** Use `ggplot` to create a plot of the frequency of the name \"Arya\" over the years among boys and girls, respectively. Does anything noteworthy jump out at you from the plot? Can you explain why this happened? _1 point_"
      ]
    },
    {
      "cell_type": "markdown",
      "source": [
        "I think something noteworthy that jumps out at me from the plot is the drastic increase in the name Arya for females after 2010. I think that this name was never really anything, but around 2010, it became a lot more popular which therefore caused a huge increase in the frequency of the name."
      ],
      "metadata": {
        "id": "z_E9U9wrKdyr"
      }
    },
    {
      "cell_type": "code",
      "execution_count": 5,
      "metadata": {
        "id": "hCB12jWTUc1F",
        "colab": {
          "base_uri": "https://localhost:8080/",
          "height": 257
        },
        "outputId": "c6fd4a26-809a-490d-f977-3cd7ae63fdaa"
      },
      "outputs": [
        {
          "output_type": "display_data",
          "data": {
            "text/plain": [
              "plot without title"
            ],
            "image/png": "[encoded data removed]"
          },
          "metadata": {
            "image/png": {
              "width": 300,
              "height": 240
            }
          }
        }
      ],
      "source": [
        "# Your solution here\n",
        "babynames %>% \n",
        "  filter(name == \"Arya\") %>%\n",
        "    ggplot(aes(x = year, y = n, color = sex)) +\n",
        "    geom_line() +\n",
        "    ggtitle(\"Frequency of the Name Arya\") +\n",
        "    xlab(\"Year\") +\n",
        "    ylab(\"Frequency\") + theme_bw()"
      ]
    },
    {
      "cell_type": "markdown",
      "metadata": {
        "deletable": false,
        "editable": false,
        "id": "KwhOuDT8Uc1G"
      },
      "source": [
        "**(c)** Define a name to be \"timeless\" if it was among the ten most popular names in both 2015 and 1915. How many timeless names are there, and what are they? _2 points_"
      ]
    },
    {
      "cell_type": "markdown",
      "source": [
        " There are only two timeless names which are William and James."
      ],
      "metadata": {
        "id": "hZevocNSin4a"
      }
    },
    {
      "cell_type": "code",
      "execution_count": 6,
      "metadata": {
        "id": "UXFfT8ZqUc1G",
        "colab": {
          "base_uri": "https://localhost:8080/",
          "height": 147
        },
        "outputId": "c7cfcb93-962c-4a92-d254-6e7da1e78750"
      },
      "outputs": [
        {
          "output_type": "display_data",
          "data": {
            "text/html": [
              "<table class=\"dataframe\">\n",
              "<caption>A tibble: 1 × 1</caption>\n",
              "<thead>\n",
              "\t<tr><th scope=col>name</th></tr>\n",
              "\t<tr><th scope=col>&lt;chr&gt;</th></tr>\n",
              "</thead>\n",
              "<tbody>\n",
              "\t<tr><td>William</td></tr>\n",
              "</tbody>\n",
              "</table>\n"
            ],
            "text/markdown": "\nA tibble: 1 × 1\n\n| name &lt;chr&gt; |\n|---|\n| William |\n\n",
            "text/latex": "A tibble: 1 × 1\n\\begin{tabular}{l}\n name\\\\\n <chr>\\\\\n\\hline\n\t William\\\\\n\\end{tabular}\n",
            "text/plain": [
              "  name   \n",
              "1 William"
            ]
          },
          "metadata": {}
        }
      ],
      "source": [
        "# Your solution here\n",
        "#group_by(babynames, year, sex) %>% top_n(10) %>% filter(year == 1915) %>% print\n",
        "#group_by(babynames, year, sex) %>% top_n(10) %>% filter(year == 2015) %>% print\n",
        "top10_1915 = babynames %>% filter(year == 1915) %>%\n",
        "  top_n(10, prop) %>% select(name)\n",
        "top10_2015 = babynames %>% filter(year == 2015) %>%\n",
        "  top_n(10, prop) %>% select(name)\n",
        "top10_1915 %>% filter(name %in% top10_2015$name)"
      ]
    },
    {
      "cell_type": "markdown",
      "metadata": {
        "deletable": false,
        "editable": false,
        "nbgrader": {
          "grade": false,
          "grade_id": "cell-9ea1f017dd33edff",
          "locked": true,
          "schema_version": 3,
          "solution": false
        },
        "id": "P9vXNecbUc1G"
      },
      "source": [
        "## Problem 2: Manipulating `flights` (4 points)\n",
        "This problem contines with the `flights` table that we saw this week in lecture. Recall that we first need to load this database by typing:"
      ]
    },
    {
      "cell_type": "code",
      "execution_count": null,
      "metadata": {
        "id": "Ap27VakwUc1G"
      },
      "outputs": [],
      "source": [
        "library(nycflights13)"
      ]
    },
    {
      "cell_type": "markdown",
      "metadata": {
        "deletable": false,
        "editable": false,
        "id": "dw3p1-ZFUc1G"
      },
      "source": [
        "(If you are running on Google Colab, you will also need to install this package each time you start the notebook.)"
      ]
    },
    {
      "cell_type": "markdown",
      "metadata": {
        "deletable": false,
        "editable": false,
        "nbgrader": {
          "grade": false,
          "grade_id": "cell-8128530d2118c4da",
          "locked": true,
          "schema_version": 3,
          "solution": false
        },
        "id": "0SU1tus9Uc1G"
      },
      "source": [
        "**(a)** Use `filter()` to find all the flights that had an arrival delay of more than two hours. How many of these flights were there? *1/2 point*"
      ]
    },
    {
      "cell_type": "markdown",
      "source": [
        "There were 10,200 flights that had an arrival delay of more than two hours."
      ],
      "metadata": {
        "id": "ND4A3NzEjkZK"
      }
    },
    {
      "cell_type": "code",
      "execution_count": 7,
      "metadata": {
        "id": "9LCpYnQ3Uc1G",
        "colab": {
          "base_uri": "https://localhost:8080/",
          "height": 34
        },
        "outputId": "fbd2e4ef-3c3a-4dba-f517-cdf3c0433f25"
      },
      "outputs": [
        {
          "output_type": "display_data",
          "data": {
            "text/html": [
              "10034"
            ],
            "text/markdown": "10034",
            "text/latex": "10034",
            "text/plain": [
              "[1] 10034"
            ]
          },
          "metadata": {}
        }
      ],
      "source": [
        "# Your solution here\n",
        "#flights %>%\n",
        " # group_by(year, month, day) %>%\n",
        " # filter(arr_delay >= 120) %>%\n",
        " # print\n",
        "flights %>% filter(arr_delay > 120) %>% nrow()"
      ]
    },
    {
      "cell_type": "markdown",
      "metadata": {
        "deletable": false,
        "editable": false,
        "id": "9aDpuKKYUc1G"
      },
      "source": [
        "**(b)** Was there a flight scheduled on every day of 2013? If so, write code that verifies this. If not, write code that shows which days had no scheduled flights. *1/2 point*"
      ]
    },
    {
      "cell_type": "markdown",
      "source": [
        "Since the table below has 365 rows, it verifies that there was a flight scheduled on every day of 2013."
      ],
      "metadata": {
        "id": "FS5ISfYyzULz"
      }
    },
    {
      "cell_type": "code",
      "execution_count": 12,
      "metadata": {
        "id": "_HoVzeAHUc1H",
        "colab": {
          "base_uri": "https://localhost:8080/",
          "height": 17
        },
        "outputId": "87b9d4cd-0dfd-4260-c3e1-410bed01ae1f"
      },
      "outputs": [
        {
          "output_type": "display_data",
          "data": {
            "text/html": [],
            "text/markdown": "",
            "text/latex": "",
            "text/plain": [
              "Date of length 0"
            ]
          },
          "metadata": {}
        }
      ],
      "source": [
        "# Your solution here\n",
        "#group_by(flights, month, day) %>% \n",
        "#  summarise(n = n()) %>% \n",
        " #   print\n",
        "flight_dates <- flights %>% filter(year == 2013) %>% \n",
        "  mutate(date = as.Date(time_hour)) %>%\n",
        "    pull(date) %>% unique() \n",
        "check_dates <- seq(as.Date(\"2013-01-01\"), as.Date(\"2013-12-31\"), by = \"day\")\n",
        "check_dates[!check_dates %in% flight_dates]"
      ]
    },
    {
      "cell_type": "markdown",
      "metadata": {
        "deletable": false,
        "editable": false,
        "id": "OApbWOs5Uc1H"
      },
      "source": [
        "**(c)** Say you want to maximize your chance of taking a flight that leaves on time (or early). Which airport and carrier should you choose? (For example, \"UA departing out of EWR\"). Support your reasoning with code. _1 point_"
      ]
    },
    {
      "cell_type": "markdown",
      "source": [
        "B6 out of JFK."
      ],
      "metadata": {
        "id": "SIM7bkHHNIU2"
      }
    },
    {
      "cell_type": "code",
      "execution_count": 14,
      "metadata": {
        "id": "GZIaQ5bYUc1H",
        "colab": {
          "base_uri": "https://localhost:8080/",
          "height": 165
        },
        "outputId": "c1aa83bb-c3f1-4d25-e73a-79694822a40a"
      },
      "outputs": [
        {
          "output_type": "stream",
          "name": "stderr",
          "text": [
            "\u001b[1m\u001b[22m`summarise()` has grouped output by 'origin'. You can override using the\n",
            "`.groups` argument.\n"
          ]
        },
        {
          "output_type": "display_data",
          "data": {
            "text/html": [
              "<table class=\"dataframe\">\n",
              "<caption>A tibble: 1 × 3</caption>\n",
              "<thead>\n",
              "\t<tr><th scope=col>origin</th><th scope=col>carrier</th><th scope=col>per_on_time</th></tr>\n",
              "\t<tr><th scope=col>&lt;chr&gt;</th><th scope=col>&lt;chr&gt;</th><th scope=col>&lt;int&gt;</th></tr>\n",
              "</thead>\n",
              "<tbody>\n",
              "\t<tr><td>JFK</td><td>B6</td><td>25206</td></tr>\n",
              "</tbody>\n",
              "</table>\n"
            ],
            "text/markdown": "\nA tibble: 1 × 3\n\n| origin &lt;chr&gt; | carrier &lt;chr&gt; | per_on_time &lt;int&gt; |\n|---|---|---|\n| JFK | B6 | 25206 |\n\n",
            "text/latex": "A tibble: 1 × 3\n\\begin{tabular}{lll}\n origin & carrier & per\\_on\\_time\\\\\n <chr> & <chr> & <int>\\\\\n\\hline\n\t JFK & B6 & 25206\\\\\n\\end{tabular}\n",
            "text/plain": [
              "  origin carrier per_on_time\n",
              "1 JFK    B6      25206      "
            ]
          },
          "metadata": {}
        }
      ],
      "source": [
        "# Your solution here\n",
        "#flights %>%\n",
        " # group_by(origin, carrier) %>%\n",
        " # filter(dep_delay <= 0) %>%\n",
        " # summarize(n = n()) %>%\n",
        " # print\n",
        "flights %>% group_by(origin, carrier) %>% \n",
        "  summarize(per_on_time = sum(is.na(dep_delay) | dep_delay <= 0 / n())) %>%\n",
        "    ungroup() %>% arrange(-per_on_time) %>% slice_head(n = 1)"
      ]
    },
    {
      "cell_type": "markdown",
      "metadata": {
        "deletable": false,
        "editable": false,
        "id": "EHi8gwTSUc1H"
      },
      "source": [
        "**(d)** What time of day should you fly if you want to avoid delays as much as possible? _2 points_ (This question is intentionally open-ended. There is no one correct answer. Use the data and the commands we have learned to argue your case.)"
      ]
    },
    {
      "cell_type": "markdown",
      "source": [
        "Based off the information below, it seems that the best time to fly if you want to avoid delays as much as possible is by flying during the late afternoon to evening. Majority of the flights listed below that have an average delay of less than or equal to 0 were flights in the late afternoon to evening time."
      ],
      "metadata": {
        "id": "BhAz2WflRx3T"
      }
    },
    {
      "cell_type": "code",
      "execution_count": 15,
      "metadata": {
        "id": "1TpLU6P1Uc1H",
        "colab": {
          "base_uri": "https://localhost:8080/",
          "height": 257
        },
        "outputId": "feeab7bd-6119-4089-e9f4-3f60a7cb5316"
      },
      "outputs": [
        {
          "output_type": "display_data",
          "data": {
            "text/plain": [
              "plot without title"
            ],
            "image/png": "[encoded data removed]"
          },
          "metadata": {
            "image/png": {
              "width": 300,
              "height": 240
            }
          }
        }
      ],
      "source": [
        "# Your solution here\n",
        "#new_df = mutate(flights, avg_delay = (dep_delay + arr_delay)/2)\n",
        "#new_df %>%\n",
        " # group_by(avg_delay, time_hour) %>%\n",
        " # filter(avg_delay <= 0) %>%\n",
        " # summarize() %>%\n",
        " # print\n",
        "flights %>% mutate(sched_hour = lubridate::hour(time_hour)) %>%\n",
        "  group_by(sched_hour) %>%\n",
        "  summarize(per_on_time = sum(is.na(dep_delay) | dep_delay <= 0)/n()) %>%\n",
        "  ungroup() %>% ggplot(aes(x = sched_hour, y = per_on_time)) + geom_line()"
      ]
    },
    {
      "cell_type": "markdown",
      "metadata": {
        "deletable": false,
        "editable": false,
        "id": "7znLcSnNUc1H"
      },
      "source": [
        "## Problem 3: Challenge problem (3 points)\n",
        "Define a flight to be *spooky* if it was in transit at 13:13h (i.e. 1:13pm) on Friday the 13th of any month. You should assume that a flight is in transit between its `dep_time` and its `arr_time`. How many spooky flights are there in the dataset?"
      ]
    },
    {
      "cell_type": "markdown",
      "source": [
        "Since the year is 2013, we know that Friday the 13th occurred in the months of September and December. Based on that, it was determined that there were 233 spooky flights in the dataset."
      ],
      "metadata": {
        "id": "K5PQ8xszTJP-"
      }
    },
    {
      "cell_type": "code",
      "execution_count": null,
      "metadata": {
        "id": "HqbTXsP0Uc1H",
        "colab": {
          "base_uri": "https://localhost:8080/"
        },
        "outputId": "ba0648e0-80c7-48a6-88bc-1c1ddecc8ca4"
      },
      "outputs": [
        {
          "output_type": "stream",
          "name": "stdout",
          "text": [
            "[1] 233\n"
          ]
        }
      ],
      "source": [
        "# Your solution here\n",
        "nrow(filter(flights, (day == 13 & (month == 9 | month == 12)), (dep_time < 1313) & (arr_time > 1313))) %>% print"
      ]
    }
  ],
  "metadata": {
    "celltoolbar": "Create Assignment",
    "kernelspec": {
      "display_name": "R",
      "language": "R",
      "name": "ir"
    },
    "language_info": {
      "codemirror_mode": "r",
      "file_extension": ".r",
      "mimetype": "text/x-r-source",
      "name": "R",
      "pygments_lexer": "r",
      "version": "4.2.2"
    },
    "colab": {
      "provenance": []
    }
  },
  "nbformat": 4,
  "nbformat_minor": 0
}