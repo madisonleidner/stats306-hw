{
  "cells": [
    {
      "cell_type": "code",
      "execution_count": 1,
      "metadata": {
        "deletable": false,
        "editable": false,
        "nbgrader": {
          "grade": false,
          "grade_id": "cell-892bf1ae756bcb37",
          "locked": true,
          "schema_version": 3,
          "solution": false
        },
        "scrolled": true,
        "id": "VFfDNR8KkmIM",
        "colab": {
          "base_uri": "https://localhost:8080/"
        },
        "outputId": "8b76c76e-d76d-4965-8773-3cfd215753bb"
      },
      "outputs": [
        {
          "output_type": "stream",
          "name": "stderr",
          "text": [
            "Warning message in system(\"timedatectl\", intern = TRUE):\n",
            "“running command 'timedatectl' had status 1”\n",
            "── \u001b[1mAttaching packages\u001b[22m ─────────────────────────────────────── tidyverse 1.3.1 ──\n",
            "\n",
            "\u001b[32m✔\u001b[39m \u001b[34mggplot2\u001b[39m 3.4.1     \u001b[32m✔\u001b[39m \u001b[34mpurrr  \u001b[39m 1.0.1\n",
            "\u001b[32m✔\u001b[39m \u001b[34mtibble \u001b[39m 3.2.1     \u001b[32m✔\u001b[39m \u001b[34mdplyr  \u001b[39m 1.1.1\n",
            "\u001b[32m✔\u001b[39m \u001b[34mtidyr  \u001b[39m 1.3.0     \u001b[32m✔\u001b[39m \u001b[34mstringr\u001b[39m 1.4.1\n",
            "\u001b[32m✔\u001b[39m \u001b[34mreadr  \u001b[39m 2.1.4     \u001b[32m✔\u001b[39m \u001b[34mforcats\u001b[39m 1.0.0\n",
            "\n",
            "── \u001b[1mConflicts\u001b[22m ────────────────────────────────────────── tidyverse_conflicts() ──\n",
            "\u001b[31m✖\u001b[39m \u001b[34mdplyr\u001b[39m::\u001b[32mfilter()\u001b[39m masks \u001b[34mstats\u001b[39m::filter()\n",
            "\u001b[31m✖\u001b[39m \u001b[34mdplyr\u001b[39m::\u001b[32mlag()\u001b[39m    masks \u001b[34mstats\u001b[39m::lag()\n",
            "\n"
          ]
        }
      ],
      "source": [
        "library(tidyverse)"
      ]
    },
    {
      "cell_type": "markdown",
      "metadata": {
        "deletable": false,
        "editable": false,
        "nbgrader": {
          "grade": false,
          "grade_id": "cell-f73c39701a1d2ed0",
          "locked": true,
          "schema_version": 3,
          "solution": false
        },
        "run_control": {
          "frozen": true
        },
        "id": "t2AzR3_akmIO"
      },
      "source": [
        "# STATS 306\n",
        "## Homework 9: Functions and regression"
      ]
    },
    {
      "cell_type": "markdown",
      "metadata": {
        "deletable": false,
        "editable": false,
        "nbgrader": {
          "grade": false,
          "grade_id": "cell-37fb95c8db0c1655",
          "locked": true,
          "schema_version": 3,
          "solution": false,
          "task": false
        },
        "run_control": {
          "frozen": true
        },
        "id": "tGf57KLbkmIO"
      },
      "source": [
        "## Problem 1: Let's make a deal\n",
        "The *Monty Hall Problem* is a famous statistical paradox modeled after the TV game show [Let's Make a Deal](https://www.youtube.com/watch?v=hQpbsD5IueA). The problem goes as follows:\n",
        "    \n",
        "    You are a contestant on a game show, and are shown three doors. Behind one of the doors is a new car, \n",
        "    and behind the other two doors are Ohio State hoodies. Your goal (obviously) is to pick the door with \n",
        "    the new car. You pick a door, say number 1, and the host, who knows what's behind the doors, opens \n",
        "    another door, say No. 3, which is shown to have a hoodie. He then says to you, \"Do you want to \n",
        "    pick door No. 2?\" \n",
        "    \n",
        "    Is it to your advantage to switch your choice?\n",
        "    \n",
        "The correct answer is to switch, always. This caused something of an uproar when it was first noted by a newspaper columnist in the early 1990s.\n",
        "\n",
        "You will demonstrate that this answer is correct by writing functions that simulate playing Let's Make a Deal.\n",
        "\n",
        "To simulate the game, will use the following bit of code:"
      ]
    },
    {
      "cell_type": "code",
      "execution_count": null,
      "metadata": {
        "deletable": false,
        "editable": false,
        "id": "YSBrlvZJkmIP"
      },
      "outputs": [],
      "source": [
        "play_lmad <- function(.) {\n",
        "    # function to play let's make a deal. returns TRUE if the contestant wins the new car,\n",
        "    # and FALSE if they get a lame Ohio State hoodie.\n",
        "    \n",
        "    # step 1: randomly place the car behind door 1, 2, or 3\n",
        "    car_door <- place_car()\n",
        "    # step 2: contestant choose a door 1, 2, or 3\n",
        "    first_choice <- pick_door()\n",
        "    # step 3: monty reveals one of the two other doors\n",
        "    other_door <- reveal_other_door(car_door, first_choice)\n",
        "    # step 4: contestant decides whether to switch\n",
        "    switch <- choose_to_switch(first_choice, other_door)\n",
        "    # step 5:\n",
        "    if (switch) {\n",
        "        # if the contestant switched, then they win if their original choice was incorrect\n",
        "        return(first_choice != car_door)\n",
        "    } else {\n",
        "        # if they didn't switch, then they win if their original choice was correct.\n",
        "        return(first_choice == car_door)\n",
        "    }\n",
        "}"
      ]
    },
    {
      "cell_type": "markdown",
      "metadata": {
        "deletable": false,
        "editable": false,
        "nbgrader": {
          "grade": false,
          "grade_id": "cell-5e8a1da9cd69a6b1",
          "locked": true,
          "schema_version": 3,
          "solution": false,
          "task": false
        },
        "run_control": {
          "frozen": true
        },
        "id": "4tVytH1NkmIP"
      },
      "source": [
        "**1(a)**\n",
        "Write a function `place_car()` which randomly places the car behind door 1-3. (In other words, `place_car()` returns a uniformly distributed random integer between 1 and 3.) This models how the producers set up the show before taping."
      ]
    },
    {
      "cell_type": "code",
      "execution_count": null,
      "metadata": {
        "nbgrader": {
          "grade": true,
          "grade_id": "cell-efb24b36c6f840eb",
          "locked": false,
          "points": 0,
          "schema_version": 3,
          "solution": true,
          "task": false
        },
        "id": "zGg1pQRDkmIP"
      },
      "outputs": [],
      "source": [
        "# YOUR SOLUTION HERE \n",
        "place_car = function(){\n",
        "  sample(c(1,2,3),1)\n",
        "}"
      ]
    },
    {
      "cell_type": "markdown",
      "metadata": {
        "deletable": false,
        "editable": false,
        "nbgrader": {
          "grade": false,
          "grade_id": "cell-f8425b9854ae99c4",
          "locked": true,
          "schema_version": 3,
          "solution": false,
          "task": false
        },
        "run_control": {
          "frozen": true
        },
        "id": "lQ6LhRklkmIP"
      },
      "source": [
        "**1(b)**\n",
        "Write a function `pick_door()` which selects a door 1-3, according to whatever strategy you like. This models how the contestant initially picks a door."
      ]
    },
    {
      "cell_type": "code",
      "execution_count": null,
      "metadata": {
        "nbgrader": {
          "grade": true,
          "grade_id": "cell-f4ff7ba0184c71d9",
          "locked": false,
          "points": 0,
          "schema_version": 3,
          "solution": true,
          "task": false
        },
        "id": "YA57rxT7kmIQ"
      },
      "outputs": [],
      "source": [
        "# YOUR SOLUTION HERE \n",
        "pick_door = function(){\n",
        "  1\n",
        "}"
      ]
    },
    {
      "cell_type": "markdown",
      "metadata": {
        "deletable": false,
        "editable": false,
        "nbgrader": {
          "grade": false,
          "grade_id": "cell-5eff1ddf5c777f73",
          "locked": true,
          "schema_version": 3,
          "solution": false,
          "task": false
        },
        "run_control": {
          "frozen": true
        },
        "id": "nDgMZVhxkmIQ"
      },
      "source": [
        "**1(a)** Write a function `reveal_other_door(car_door, chosen_door)` which, given the door hiding the car, as well as the contestant's chosen door (both pieces of information which are known to Monty), names one of the other doors which does not contain the car. For example, if the car is hiding behind door one, and the contestant chooses door two, then `reveal_other_door(1, 2)` would have to return `3`."
      ]
    },
    {
      "cell_type": "code",
      "execution_count": null,
      "metadata": {
        "nbgrader": {
          "grade": true,
          "grade_id": "cell-a02c88e9c0ef4481",
          "locked": false,
          "points": 0,
          "schema_version": 3,
          "solution": true,
          "task": false
        },
        "id": "9SYh91B1kmIQ"
      },
      "outputs": [],
      "source": [
        "# YOUR SOLUTION HERE \n",
        "reveal_other_door = function(car_door, chosen_door){\n",
        "  tmp = setdiff(c(1,2,3), c(car_door, chosen_door))\n",
        "  if (length(tmp) == 1) return(tmp)\n",
        "  return (sample(tmp,1))\n",
        "}"
      ]
    },
    {
      "cell_type": "markdown",
      "metadata": {
        "deletable": false,
        "editable": false,
        "nbgrader": {
          "grade": false,
          "grade_id": "cell-c36c5d47db0678a5",
          "locked": true,
          "schema_version": 3,
          "solution": false,
          "task": false
        },
        "run_control": {
          "frozen": true
        },
        "id": "UTv6JA5FkmIQ"
      },
      "source": [
        "**1(b)**\n",
        "Write a function `choose_to_switch(first_choice, other_door)` which returns `TRUE` if the contestant decides to switch her choice after Monty has revealed the contents of one door. For example, `choose_to_switch(1, 2)` should return `TRUE` if the contestant decides to switch after choosing door one and being shown the contents of door two."
      ]
    },
    {
      "cell_type": "code",
      "execution_count": null,
      "metadata": {
        "nbgrader": {
          "grade": true,
          "grade_id": "cell-a23cc3b39cfddb02",
          "locked": false,
          "points": 0,
          "schema_version": 3,
          "solution": true,
          "task": false
        },
        "id": "7LDJiS6YkmIQ"
      },
      "outputs": [],
      "source": [
        "# YOUR SOLUTION HERE \n",
        "choose_to_switch = function(first_choice, other_door){\n",
        "  TRUE\n",
        "}"
      ]
    },
    {
      "cell_type": "markdown",
      "metadata": {
        "deletable": false,
        "editable": false,
        "nbgrader": {
          "grade": false,
          "grade_id": "cell-67df237e59e1667b",
          "locked": true,
          "schema_version": 3,
          "solution": false,
          "task": false
        },
        "run_control": {
          "frozen": true
        },
        "id": "z_8prRWWkmIQ"
      },
      "source": [
        "**1(c)**\n",
        "Finally, use the `play_lmad()` function defined above to simulate the entire process. By experimenting with various choices for `choose_to_switch()` and repeatedly running `simulate_game()`, show that it is always better to switch when offered the choice. How much better is it?"
      ]
    },
    {
      "cell_type": "markdown",
      "source": [
        "It is clearly significantly better to switch, as the proportion of simulate_game returning TRUE is higher when choose_to_switch is TRUE."
      ],
      "metadata": {
        "id": "V-vgUBbQ5m4n"
      }
    },
    {
      "cell_type": "code",
      "execution_count": null,
      "metadata": {
        "id": "IXJW4DbxkmIQ",
        "colab": {
          "base_uri": "https://localhost:8080/",
          "height": 52
        },
        "outputId": "0dbc08f6-f4fc-4ebf-f597-5aa86da1bb91"
      },
      "outputs": [
        {
          "output_type": "display_data",
          "data": {
            "text/html": [
              "0.6659"
            ],
            "text/markdown": "0.6659",
            "text/latex": "0.6659",
            "text/plain": [
              "[1] 0.6659"
            ]
          },
          "metadata": {}
        },
        {
          "output_type": "display_data",
          "data": {
            "text/html": [
              "0.3318"
            ],
            "text/markdown": "0.3318",
            "text/latex": "0.3318",
            "text/plain": [
              "[1] 0.3318"
            ]
          },
          "metadata": {}
        }
      ],
      "source": [
        "# YOUR SOLUTION HERE \n",
        "simulate_game <- function(switch){\n",
        "  car = place_car()\n",
        "  choice = pick_door()\n",
        "  revealed = reveal_other_door(car, choice)\n",
        "  if (choose_to_switch(choice, revealed) == switch){\n",
        "    choice = setdiff(c(1,2,3), c(choice, revealed))\n",
        "  }\n",
        "  return (choice == car)\n",
        "}\n",
        "mean(replicate(10000, simulate_game(TRUE)))\n",
        "mean(replicate(10000, simulate_game(FALSE)))"
      ]
    },
    {
      "cell_type": "markdown",
      "metadata": {
        "deletable": false,
        "editable": false,
        "nbgrader": {
          "grade": false,
          "grade_id": "cell-8a2e07e86f10fb73",
          "locked": true,
          "schema_version": 3,
          "solution": false
        },
        "run_control": {
          "frozen": true
        },
        "id": "P1dzrrpskmIQ"
      },
      "source": [
        "## Problem 2: Playing card experiment\n",
        "In this problem, you will use iteration (`for`/`while` loops) to simulate a playing card experiment. The experiment goes as follows. Suppose you are given two standard decks of playing cards (52 cards each, total of 104 cards) and you do the following:\n",
        "1.  Shuffle both decks thoroughly, so that they are randomly ordered.\n",
        "2.  Draw the top card off of each deck.\n",
        "3.  If the two cards exactly match (same suit and rank), award yourself one point; otherwise award yourself no points.\n",
        "4.  Repeat steps two and three for the remaining 51 pairs of cards.\n",
        "Let $X$ be your total score at the end of the experiment.\n",
        "\n",
        "By writing a loop which simulates this experiment, answer the following:"
      ]
    },
    {
      "cell_type": "markdown",
      "metadata": {
        "deletable": false,
        "editable": false,
        "nbgrader": {
          "grade": false,
          "grade_id": "cell-7a89102c744f738f",
          "locked": true,
          "schema_version": 3,
          "solution": false
        },
        "run_control": {
          "frozen": true
        },
        "id": "CPZ2LhlLkmIR"
      },
      "source": [
        "**2(a)** What the expected value of $X$, i.e. what is $\\mathbb{E}X$?"
      ]
    },
    {
      "cell_type": "markdown",
      "source": [
        "The expected value of X is about 0.02."
      ],
      "metadata": {
        "id": "MifaM25lARNs"
      }
    },
    {
      "cell_type": "code",
      "execution_count": 2,
      "metadata": {
        "nbgrader": {
          "grade": true,
          "grade_id": "cell-dec6fd269c3c69fc",
          "locked": false,
          "points": 0,
          "schema_version": 3,
          "solution": true
        },
        "id": "PfVtGN_dkmIR",
        "colab": {
          "base_uri": "https://localhost:8080/",
          "height": 34
        },
        "outputId": "84f83ad5-70f0-4323-f888-1266c9fe491a"
      },
      "outputs": [
        {
          "output_type": "display_data",
          "data": {
            "text/html": [
              "<style>\n",
              ".list-inline {list-style: none; margin:0; padding: 0}\n",
              ".list-inline>li {display: inline-block}\n",
              ".list-inline>li:not(:last-child)::after {content: \"\\00b7\"; padding: 0 .5ex}\n",
              "</style>\n",
              "<ol class=list-inline><li>0.996042312062167</li><li>1.00404368793783</li></ol>\n"
            ],
            "text/markdown": "1. 0.996042312062167\n2. 1.00404368793783\n\n\n",
            "text/latex": "\\begin{enumerate*}\n\\item 0.996042312062167\n\\item 1.00404368793783\n\\end{enumerate*}\n",
            "text/plain": [
              "[1] 0.9960423 1.0040437"
            ]
          },
          "metadata": {}
        }
      ],
      "source": [
        "# YOUR SOLUTION HERE \n",
        "#card_game <- function(){\n",
        " # deck1 <- sample(1:52)\n",
        " # deck2 <- sample(1:52)\n",
        " # x = 0\n",
        " # for (number in c(1:52)){\n",
        "  #  if (deck1[number] == deck2[number]) {\n",
        "  #    x = x + 1\n",
        "  #  }\n",
        "  #  else {\n",
        "  #    x = x\n",
        "  #  }\n",
        "  #  return(x)\n",
        "  #}\n",
        "#}\n",
        "#mean(replicate(10000, card_game()))\n",
        "set.seed(1)\n",
        "play_game <- function(.) sum(sample(52) == sample(52))\n",
        "n <- 1000000\n",
        "X <- map_int(1:n, play_game)\n",
        "mu <- mean(X)\n",
        "sigma <- sd(X) / sqrt(n)\n",
        "c(mu - 4 * sigma, mu + 4 * sigma)"
      ]
    },
    {
      "cell_type": "markdown",
      "metadata": {
        "deletable": false,
        "editable": false,
        "run_control": {
          "frozen": true
        },
        "id": "wp5Ntr4MkmIR"
      },
      "source": [
        "**2(b)** What is the variance of $X$?"
      ]
    },
    {
      "cell_type": "markdown",
      "source": [
        "The variance of X is about 0.02."
      ],
      "metadata": {
        "id": "b49WFbl3AW2Y"
      }
    },
    {
      "cell_type": "code",
      "execution_count": 3,
      "metadata": {
        "id": "Rr1R0J6kkmIR",
        "colab": {
          "base_uri": "https://localhost:8080/",
          "height": 34
        },
        "outputId": "2c4fec61-a11b-489f-ece6-fa6d5b2fa55a"
      },
      "outputs": [
        {
          "output_type": "display_data",
          "data": {
            "text/html": [
              "1.000342998151"
            ],
            "text/markdown": "1.000342998151",
            "text/latex": "1.000342998151",
            "text/plain": [
              "[1] 1.000343"
            ]
          },
          "metadata": {}
        }
      ],
      "source": [
        "# YOUR SOLUTION HERE \n",
        "#var(replicate(10000, card_game()))\n",
        "mean(X^2) - mu^2"
      ]
    },
    {
      "cell_type": "markdown",
      "metadata": {
        "deletable": false,
        "editable": false,
        "nbgrader": {
          "grade": false,
          "grade_id": "cell-b34ded43588d46db",
          "locked": true,
          "schema_version": 3,
          "solution": false
        },
        "run_control": {
          "frozen": true
        },
        "id": "T-xGnp8NkmIR"
      },
      "source": [
        "**2(c)** What is the probability that $X$ is equal to zero? I.e., what is $\\mathbb{P}(X=0)$? (*Hint*: the probability that $X=0$ roughly equals the fraction of times that this event happened in a large number of simulations.)"
      ]
    },
    {
      "cell_type": "markdown",
      "source": [
        "The probability that X is equal to zero is about 0.98."
      ],
      "metadata": {
        "id": "wkz9G5dPAaiU"
      }
    },
    {
      "cell_type": "code",
      "execution_count": 4,
      "metadata": {
        "nbgrader": {
          "grade": true,
          "grade_id": "cell-a64a4b9b483aabb5",
          "locked": false,
          "points": 0,
          "schema_version": 3,
          "solution": true
        },
        "id": "w0wTStfBkmIR",
        "colab": {
          "base_uri": "https://localhost:8080/",
          "height": 34
        },
        "outputId": "df2c8a92-692b-427d-f473-467c1cf278e9"
      },
      "outputs": [
        {
          "output_type": "display_data",
          "data": {
            "text/html": [
              "0.367823"
            ],
            "text/markdown": "0.367823",
            "text/latex": "0.367823",
            "text/plain": [
              "[1] 0.367823"
            ]
          },
          "metadata": {}
        }
      ],
      "source": [
        "# YOUR SOLUTION HERE \n",
        "#simulate <- replicate(10000, card_game())\n",
        "#num_0 = 0\n",
        "#for (value in simulate){\n",
        " # if (value == 0){\n",
        " #   num_0 = num_0 + 1\n",
        " # }\n",
        "#}\n",
        "#prob_0 <- num_0 / 10000\n",
        "#prob_0\n",
        "X0 = X == 0\n",
        "mu_0 <- mean(X0)\n",
        "mu_0"
      ]
    },
    {
      "cell_type": "markdown",
      "metadata": {
        "deletable": false,
        "editable": false,
        "run_control": {
          "frozen": true
        },
        "id": "nmo0qIK9kmIR"
      },
      "source": [
        "**2(d)** Suppose you and your friend both play this game using separate decks of cards. Let your score be $X$ and let their score be $Y$. What is the probability that your score is higher than their score (i.e. $X > Y$)?"
      ]
    },
    {
      "cell_type": "markdown",
      "source": [
        "The probability that your score is higher than their score is about 0.02."
      ],
      "metadata": {
        "id": "syYYSRE8Dz0M"
      }
    },
    {
      "cell_type": "code",
      "execution_count": 5,
      "metadata": {
        "id": "T6g8lmmukmIR",
        "colab": {
          "base_uri": "https://localhost:8080/",
          "height": 34
        },
        "outputId": "f6df13c1-0f99-4ab6-91d3-a9eab7820ac3"
      },
      "outputs": [
        {
          "output_type": "display_data",
          "data": {
            "text/html": [
              "0.345507"
            ],
            "text/markdown": "0.345507",
            "text/latex": "0.345507",
            "text/plain": [
              "[1] 0.345507"
            ]
          },
          "metadata": {}
        }
      ],
      "source": [
        "# YOUR SOLUTION HERE \n",
        "#X <- replicate(10000, card_game())\n",
        "#Y <- replicate(10000, card_game())\n",
        "#greater = 0\n",
        "#for (value in 1:10000){\n",
        " # if (X[value] > Y[value]){\n",
        " #   greater = greater + 1\n",
        " # }\n",
        "#}\n",
        "#prob_greater = greater / 10000\n",
        "#prob_greater\n",
        "x_won = 0\n",
        "for (i in seq_len(n)) {\n",
        "  X = play_game()\n",
        "  Y = play_game()\n",
        "  x_won = x_won + 1*(X>Y)\n",
        "}\n",
        "x_won / n"
      ]
    },
    {
      "cell_type": "markdown",
      "metadata": {
        "deletable": false,
        "editable": false,
        "nbgrader": {
          "grade": false,
          "grade_id": "cell-8a4fcd25e82f68a0",
          "locked": true,
          "schema_version": 3,
          "solution": false
        },
        "run_control": {
          "frozen": true
        },
        "id": "GP68DnnIkmIR"
      },
      "source": [
        "## Problem 3: Everything is regression\n",
        "\n",
        "In this problem, you will explore how various well-known statistical tests are special cases of linear regression."
      ]
    },
    {
      "cell_type": "markdown",
      "metadata": {
        "deletable": false,
        "editable": false,
        "run_control": {
          "frozen": true
        },
        "id": "mGrIyBLrkmIR"
      },
      "source": [
        "**3(a)** Pearson's correlation coefficient, denoted $\\rho$, measures the strength of a linear relationship between two variables $x$ and $y$. It's implemented using the `cor()` function in R:"
      ]
    },
    {
      "cell_type": "code",
      "execution_count": 6,
      "metadata": {
        "deletable": false,
        "editable": false,
        "nbgrader": {
          "grade": false,
          "grade_id": "cell-30374ebf8d61de64",
          "locked": true,
          "schema_version": 3,
          "solution": false
        },
        "run_control": {
          "frozen": true
        },
        "id": "HqyHPQ-vkmIR",
        "outputId": "b91ec56d-3d38-437a-f647-1b6d50982a76",
        "colab": {
          "base_uri": "https://localhost:8080/",
          "height": 34
        }
      },
      "outputs": [
        {
          "output_type": "display_data",
          "data": {
            "text/html": [
              "0.183381506888591"
            ],
            "text/markdown": "0.183381506888591",
            "text/latex": "0.183381506888591",
            "text/plain": [
              "[1] 0.1833815"
            ]
          },
          "metadata": {}
        }
      ],
      "source": [
        "set.seed(1)\n",
        "x = rnorm(100, sd=.1)\n",
        "y = 3 + 2 * x + rnorm(100, sd = 1)\n",
        "cor(x, y)"
      ]
    },
    {
      "cell_type": "markdown",
      "metadata": {
        "deletable": false,
        "editable": false,
        "nbgrader": {
          "grade": false,
          "grade_id": "cell-66d306d6b06dbb31",
          "locked": true,
          "schema_version": 3,
          "solution": false
        },
        "run_control": {
          "frozen": true
        },
        "id": "ue-0h4OikmIR"
      },
      "source": [
        "To test whether a linear relationship exists between two variables, we can use the function `cor.test()` to test the null hypothesis $H_0: \\rho=0$:"
      ]
    },
    {
      "cell_type": "code",
      "execution_count": null,
      "metadata": {
        "deletable": false,
        "editable": false,
        "nbgrader": {
          "grade": false,
          "grade_id": "cell-556264c837ba576f",
          "locked": true,
          "schema_version": 3,
          "solution": false
        },
        "run_control": {
          "frozen": true
        },
        "id": "mwJUyuKokmIR",
        "outputId": "b94e330e-4f23-49aa-a27a-50a75ab8acda",
        "colab": {
          "base_uri": "https://localhost:8080/",
          "height": 213
        }
      },
      "outputs": [
        {
          "output_type": "display_data",
          "data": {
            "text/plain": [
              "\n",
              "\tPearson's product-moment correlation\n",
              "\n",
              "data:  x and y\n",
              "t = 1.8467, df = 98, p-value = 0.06781\n",
              "alternative hypothesis: true correlation is not equal to 0\n",
              "95 percent confidence interval:\n",
              " -0.01352373  0.36659507\n",
              "sample estimates:\n",
              "      cor \n",
              "0.1833815 \n"
            ]
          },
          "metadata": {}
        }
      ],
      "source": [
        "cor.test(x, y)"
      ]
    },
    {
      "cell_type": "markdown",
      "metadata": {
        "deletable": false,
        "editable": false,
        "nbgrader": {
          "grade": false,
          "grade_id": "cell-96ec4249c290c1ce",
          "locked": true,
          "schema_version": 3,
          "solution": false
        },
        "run_control": {
          "frozen": true
        },
        "id": "epnXB1YRkmIR"
      },
      "source": [
        "Consider how you might test whether the correlation between $x$ and $y$ is zero using the linear model. By running an appropriate regression, show that you get *the exact same* $p$-value as that obtained by `cor.test()`. How can we infer the correlation coefficient $\\rho=0.183$ from the regression result?"
      ]
    },
    {
      "cell_type": "markdown",
      "source": [
        "The correlation coefficient of 0.183 means that there is a positive, weak linear relationship between x and y. "
      ],
      "metadata": {
        "id": "GQTO8zwnu33r"
      }
    },
    {
      "cell_type": "code",
      "execution_count": 9,
      "metadata": {
        "nbgrader": {
          "grade": true,
          "grade_id": "cell-614d08251e323a57",
          "locked": false,
          "points": 0,
          "schema_version": 3,
          "solution": true
        },
        "id": "xk-fF5kPkmIS",
        "colab": {
          "base_uri": "https://localhost:8080/",
          "height": 486
        },
        "outputId": "8e05d81a-eb87-42b9-94eb-2f48711985d7"
      },
      "outputs": [
        {
          "output_type": "stream",
          "name": "stdout",
          "text": [
            "\n",
            "Call:\n",
            "lm(formula = y ~ x)\n",
            "\n",
            "Residuals:\n",
            "    Min      1Q  Median      3Q     Max \n",
            "-1.8768 -0.6138 -0.1395  0.5394  2.3462 \n",
            "\n",
            "Coefficients:\n",
            "            Estimate Std. Error t value Pr(>|t|)    \n",
            "(Intercept)  2.96231    0.09699  30.543   <2e-16 ***\n",
            "x            1.98940    1.07727   1.847   0.0678 .  \n",
            "---\n",
            "Signif. codes:  0 ‘***’ 0.001 ‘**’ 0.01 ‘*’ 0.05 ‘.’ 0.1 ‘ ’ 1\n",
            "\n",
            "Residual standard error: 0.9628 on 98 degrees of freedom\n",
            "Multiple R-squared:  0.03363,\tAdjusted R-squared:  0.02377 \n",
            "F-statistic:  3.41 on 1 and 98 DF,  p-value: 0.06781\n",
            "\n"
          ]
        },
        {
          "output_type": "display_data",
          "data": {
            "text/html": [
              "<table class=\"dataframe\">\n",
              "<caption>A matrix: 2 × 4 of type dbl</caption>\n",
              "<thead>\n",
              "\t<tr><th></th><th scope=col>Estimate</th><th scope=col>Std. Error</th><th scope=col>t value</th><th scope=col>Pr(&gt;|t|)</th></tr>\n",
              "</thead>\n",
              "<tbody>\n",
              "\t<tr><th scope=row>(Intercept)</th><td>2.962307</td><td>0.09698729</td><td>30.543252</td><td>7.065184e-52</td></tr>\n",
              "\t<tr><th scope=row>x</th><td>1.989396</td><td>1.07727031</td><td> 1.846701</td><td>6.780814e-02</td></tr>\n",
              "</tbody>\n",
              "</table>\n"
            ],
            "text/markdown": "\nA matrix: 2 × 4 of type dbl\n\n| <!--/--> | Estimate | Std. Error | t value | Pr(&gt;|t|) |\n|---|---|---|---|---|\n| (Intercept) | 2.962307 | 0.09698729 | 30.543252 | 7.065184e-52 |\n| x | 1.989396 | 1.07727031 |  1.846701 | 6.780814e-02 |\n\n",
            "text/latex": "A matrix: 2 × 4 of type dbl\n\\begin{tabular}{r|llll}\n  & Estimate & Std. Error & t value & Pr(>\\textbar{}t\\textbar{})\\\\\n\\hline\n\t(Intercept) & 2.962307 & 0.09698729 & 30.543252 & 7.065184e-52\\\\\n\tx & 1.989396 & 1.07727031 &  1.846701 & 6.780814e-02\\\\\n\\end{tabular}\n",
            "text/plain": [
              "            Estimate Std. Error t value   Pr(>|t|)    \n",
              "(Intercept) 2.962307 0.09698729 30.543252 7.065184e-52\n",
              "x           1.989396 1.07727031  1.846701 6.780814e-02"
            ]
          },
          "metadata": {}
        },
        {
          "output_type": "display_data",
          "data": {
            "text/html": [
              "0.183381506888591"
            ],
            "text/markdown": "0.183381506888591",
            "text/latex": "0.183381506888591",
            "text/plain": [
              "[1] 0.1833815"
            ]
          },
          "metadata": {}
        }
      ],
      "source": [
        "# YOUR SOLUTION HERE \n",
        "#lm1 <- lm(x ~ y)\n",
        "#summary(lm1)\n",
        "s <- lm(y~x) %>% summary %>% print\n",
        "coef(s)\n",
        "s$r.squared %>% sqrt"
      ]
    },
    {
      "cell_type": "markdown",
      "metadata": {
        "deletable": false,
        "editable": false,
        "nbgrader": {
          "grade": false,
          "grade_id": "cell-5343bbadaeba625b",
          "locked": true,
          "schema_version": 3,
          "solution": false
        },
        "id": "Bc2iSG34kmIS"
      },
      "source": [
        "**3(b)**\n",
        "One criticism of Pearson's correlation is that it only measures the strength of a *linear* correlation between two random variables. Consider the variables $x$ and $y$ defined in the file `spearman.csv`:"
      ]
    },
    {
      "cell_type": "code",
      "execution_count": 10,
      "metadata": {
        "deletable": false,
        "editable": false,
        "nbgrader": {
          "grade": false,
          "grade_id": "cell-df5f6966bdb2985e",
          "locked": true,
          "schema_version": 3,
          "solution": false
        },
        "id": "_2QcFRYvkmIS",
        "colab": {
          "base_uri": "https://localhost:8080/"
        },
        "outputId": "b04b7400-4415-4fe7-d7bc-37fb392c35bd"
      },
      "outputs": [
        {
          "output_type": "stream",
          "name": "stderr",
          "text": [
            "\u001b[1mRows: \u001b[22m\u001b[34m101\u001b[39m \u001b[1mColumns: \u001b[22m\u001b[34m2\u001b[39m\n",
            "\u001b[36m──\u001b[39m \u001b[1mColumn specification\u001b[22m \u001b[36m────────────────────────────────────────────────────────\u001b[39m\n",
            "\u001b[1mDelimiter:\u001b[22m \",\"\n",
            "\u001b[32mdbl\u001b[39m (2): x, y\n",
            "\n",
            "\u001b[36mℹ\u001b[39m Use `spec()` to retrieve the full column specification for this data.\n",
            "\u001b[36mℹ\u001b[39m Specify the column types or set `show_col_types = FALSE` to quiet this message.\n"
          ]
        },
        {
          "output_type": "stream",
          "name": "stdout",
          "text": [
            "\u001b[90m# A tibble: 101 × 2\u001b[39m\n",
            "        x       y\n",
            "    \u001b[3m\u001b[90m<dbl>\u001b[39m\u001b[23m   \u001b[3m\u001b[90m<dbl>\u001b[39m\u001b[23m\n",
            "\u001b[90m 1\u001b[39m 0.689   0.594 \n",
            "\u001b[90m 2\u001b[39m 0.468   0.119 \n",
            "\u001b[90m 3\u001b[39m 0.808   0.580 \n",
            "\u001b[90m 4\u001b[39m 0.093\u001b[4m4\u001b[24m  0.100 \n",
            "\u001b[90m 5\u001b[39m 0.238   0.098\u001b[4m1\u001b[24m\n",
            "\u001b[90m 6\u001b[39m 0.046\u001b[4m7\u001b[24m -\u001b[31m0\u001b[39m\u001b[31m.\u001b[39m\u001b[31m0\u001b[39m\u001b[31m13\u001b[4m8\u001b[24m\u001b[39m\n",
            "\u001b[90m 7\u001b[39m 0.655   0.412 \n",
            "\u001b[90m 8\u001b[39m 0.171   0.118 \n",
            "\u001b[90m 9\u001b[39m 0.591   0.251 \n",
            "\u001b[90m10\u001b[39m 0.508   0.512 \n",
            "\u001b[90m# ℹ 91 more rows\u001b[39m\n"
          ]
        }
      ],
      "source": [
        "sp <- read_csv(url(\"https://datasets.stats306.org/spearman.csv\")) %>% print"
      ]
    },
    {
      "cell_type": "markdown",
      "metadata": {
        "deletable": false,
        "editable": false,
        "nbgrader": {
          "grade": false,
          "grade_id": "cell-33ba4033c69711c3",
          "locked": true,
          "schema_version": 3,
          "solution": false
        },
        "run_control": {
          "frozen": true
        },
        "id": "zVZ90f6RkmIS"
      },
      "source": [
        "Are $x$ and $y$ correlated according to Pearson's test? Are they related at all? Support your answer with an appropriate visual or statistical argument."
      ]
    },
    {
      "cell_type": "markdown",
      "source": [
        "There appears to be a very very slight correlation between x and y as the correlation coefficient is 0.0163. It is also clear in the scatterplot below, that due to this one outlier it is apparent that there is a very slight correlation between x and y."
      ],
      "metadata": {
        "id": "LIoET3xeyl68"
      }
    },
    {
      "cell_type": "code",
      "execution_count": 11,
      "metadata": {
        "nbgrader": {
          "grade": true,
          "grade_id": "cell-fc4663b01bcef603",
          "locked": false,
          "points": 0,
          "schema_version": 3,
          "solution": true
        },
        "id": "MFv8DhQikmIS",
        "colab": {
          "base_uri": "https://localhost:8080/",
          "height": 866
        },
        "outputId": "f8a11733-989b-40b0-9992-d33e8dad24b3"
      },
      "outputs": [
        {
          "output_type": "display_data",
          "data": {
            "text/plain": [
              "\n",
              "\tPearson's product-moment correlation\n",
              "\n",
              "data:  sp$x and sp$y\n",
              "t = 0.16219, df = 99, p-value = 0.8715\n",
              "alternative hypothesis: true correlation is not equal to 0\n",
              "95 percent confidence interval:\n",
              " -0.1797128  0.2110658\n",
              "sample estimates:\n",
              "       cor \n",
              "0.01629891 \n"
            ]
          },
          "metadata": {}
        },
        {
          "output_type": "stream",
          "name": "stderr",
          "text": [
            "Warning message:\n",
            "“\u001b[1m\u001b[22m`qplot()` was deprecated in ggplot2 3.4.0.”\n"
          ]
        },
        {
          "output_type": "display_data",
          "data": {
            "text/plain": [
              "\n",
              "\tPearson's product-moment correlation\n",
              "\n",
              "data:  sp$x[!outlier] and sp$y[!outlier]\n",
              "t = 21.195, df = 98, p-value < 2.2e-16\n",
              "alternative hypothesis: true correlation is not equal to 0\n",
              "95 percent confidence interval:\n",
              " 0.8632539 0.9359054\n",
              "sample estimates:\n",
              "      cor \n",
              "0.9060443 \n"
            ]
          },
          "metadata": {}
        },
        {
          "output_type": "display_data",
          "data": {
            "text/plain": [
              "plot without title"
            ],
            "image/png": "[encoded data removed]"
          },
          "metadata": {
            "image/png": {
              "width": 420,
              "height": 420
            }
          }
        }
      ],
      "source": [
        "# YOUR SOLUTION HERE \n",
        "#lm2 <- lm(y ~ x, sp)\n",
        "#summary(lm2)\n",
        "#ggplot(sp, aes(x=x, y=y)) + geom_point()\n",
        "cor.test(sp$x, sp$y)\n",
        "qplot(sp$x, sp$y)\n",
        "outlier = sp$y > 2\n",
        "cor.test(sp$x[!outlier], sp$y[!outlier])"
      ]
    },
    {
      "cell_type": "markdown",
      "metadata": {
        "deletable": false,
        "editable": false,
        "nbgrader": {
          "grade": false,
          "grade_id": "cell-0e523ead8c6e3ee3",
          "locked": true,
          "schema_version": 3,
          "solution": false
        },
        "run_control": {
          "frozen": true
        },
        "id": "3c3Q1JYakmIS"
      },
      "source": [
        "**3(c)**\n",
        "Recall that the `rank()` function maps a vector to a vector of integers denoting the numerical rank of each entry of the vector:"
      ]
    },
    {
      "cell_type": "code",
      "execution_count": null,
      "metadata": {
        "deletable": false,
        "editable": false,
        "nbgrader": {
          "grade": false,
          "grade_id": "cell-3a72abe598e1d7a0",
          "locked": true,
          "schema_version": 3,
          "solution": false
        },
        "id": "cjaBd9-jkmIS",
        "outputId": "0e1a78ba-9329-4e3b-d09f-a19e84243628",
        "colab": {
          "base_uri": "https://localhost:8080/",
          "height": 34
        }
      },
      "outputs": [
        {
          "output_type": "display_data",
          "data": {
            "text/html": [
              "<style>\n",
              ".list-inline {list-style: none; margin:0; padding: 0}\n",
              ".list-inline>li {display: inline-block}\n",
              ".list-inline>li:not(:last-child)::after {content: \"\\00b7\"; padding: 0 .5ex}\n",
              "</style>\n",
              "<ol class=list-inline><li>1</li><li>2</li><li>4</li><li>5</li><li>3</li></ol>\n"
            ],
            "text/markdown": "1. 1\n2. 2\n3. 4\n4. 5\n5. 3\n\n\n",
            "text/latex": "\\begin{enumerate*}\n\\item 1\n\\item 2\n\\item 4\n\\item 5\n\\item 3\n\\end{enumerate*}\n",
            "text/plain": [
              "[1] 1 2 4 5 3"
            ]
          },
          "metadata": {}
        }
      ],
      "source": [
        "rank(c(2,6,9,10,8))"
      ]
    },
    {
      "cell_type": "markdown",
      "metadata": {
        "deletable": false,
        "editable": false,
        "nbgrader": {
          "grade": false,
          "grade_id": "cell-c7f6b3dee75be6af",
          "locked": true,
          "schema_version": 3,
          "solution": false
        },
        "run_control": {
          "frozen": true
        },
        "id": "t4W3euN1kmIS"
      },
      "source": [
        "To address potential shortcomings in Pearson's test, *Spearman's rank correlation test* looks for correlations between the *ranks* of two vectors $x$ and $y$. This will do a better job of picking out a non-linear relationship between $x$ and $y$, so long as that relationship is [monotonic](https://en.wikipedia.org/wiki/Monotonic_function). Verify this visualizing the relationship of `rank(x)` and `rank(y)`."
      ]
    },
    {
      "cell_type": "code",
      "execution_count": 12,
      "metadata": {
        "nbgrader": {
          "grade": true,
          "grade_id": "cell-703b841606ec609c",
          "locked": false,
          "points": 0,
          "schema_version": 3,
          "solution": true
        },
        "id": "PtqZKKBFkmIS",
        "colab": {
          "base_uri": "https://localhost:8080/",
          "height": 455
        },
        "outputId": "4c6f1812-379c-46c5-8196-afbb92e682a4"
      },
      "outputs": [
        {
          "output_type": "stream",
          "name": "stderr",
          "text": [
            "\u001b[1m\u001b[22m`geom_smooth()` using formula = 'y ~ x'\n"
          ]
        },
        {
          "output_type": "display_data",
          "data": {
            "text/plain": [
              "plot without title"
            ],
            "image/png": "[encoded data removed]"
          },
          "metadata": {
            "image/png": {
              "width": 420,
              "height": 420
            }
          }
        }
      ],
      "source": [
        "# YOUR SOLUTION HERE \n",
        "ggplot(sp, aes(x=rank(x), y=rank(y))) + geom_point() + geom_smooth(method =\"lm\")"
      ]
    },
    {
      "cell_type": "markdown",
      "metadata": {
        "deletable": false,
        "editable": false,
        "nbgrader": {
          "grade": false,
          "grade_id": "cell-62f7756b85d3e29e",
          "locked": true,
          "schema_version": 3,
          "solution": false
        },
        "run_control": {
          "frozen": true
        },
        "id": "NcO_60A8kmIS"
      },
      "source": [
        "**3(d)** Spearman's test is implemented using the `cor.test(..., method = \"spearman\")` command.\n",
        "\n",
        "Show that regressing the rank of `y` on the rank of `x` gives you you the *exact same* $p$-values and estimates for $\\rho$ as Spearman't test."
      ]
    },
    {
      "cell_type": "code",
      "execution_count": null,
      "metadata": {
        "nbgrader": {
          "grade": true,
          "grade_id": "cell-7c2681f67d5e97c7",
          "locked": false,
          "points": 0,
          "schema_version": 3,
          "solution": true
        },
        "id": "osytY9h7kmIS",
        "colab": {
          "base_uri": "https://localhost:8080/",
          "height": 374
        },
        "outputId": "8a992988-46e2-4bcd-8060-c56ce3567b98"
      },
      "outputs": [
        {
          "output_type": "display_data",
          "data": {
            "text/plain": [
              "\n",
              "\tSpearman's rank correlation rho\n",
              "\n",
              "data:  sp$x and sp$y\n",
              "S = 22534, p-value < 2.2e-16\n",
              "alternative hypothesis: true rho is not equal to 0\n",
              "sample estimates:\n",
              "      rho \n",
              "0.8687595 \n"
            ]
          },
          "metadata": {}
        },
        {
          "output_type": "display_data",
          "data": {
            "text/plain": [
              "\n",
              "\tPearson's product-moment correlation\n",
              "\n",
              "data:  rank(sp$x) and rank(sp$y)\n",
              "t = 17.454, df = 99, p-value < 2.2e-16\n",
              "alternative hypothesis: true correlation is not equal to 0\n",
              "95 percent confidence interval:\n",
              " 0.8110237 0.9097351\n",
              "sample estimates:\n",
              "      cor \n",
              "0.8687595 \n"
            ]
          },
          "metadata": {}
        }
      ],
      "source": [
        "# YOUR SOLUTION HERE \n",
        "cor.test(sp$x, sp$y, method = \"spearman\")\n",
        "cor.test(rank(sp$x), rank(sp$y))"
      ]
    },
    {
      "cell_type": "markdown",
      "metadata": {
        "deletable": false,
        "editable": false,
        "nbgrader": {
          "grade": false,
          "grade_id": "cell-79fbe388eff1e416",
          "locked": true,
          "schema_version": 3,
          "solution": false
        },
        "run_control": {
          "frozen": true
        },
        "id": "0dPUfYf6kmIS"
      },
      "source": [
        "Spearman's test is an example of a [non-parametric](https://en.wikipedia.org/wiki/Nonparametric_statistics) test: it does not make any assumptions about the distribution of the data. We will see other examples of non-parametric tests below."
      ]
    },
    {
      "cell_type": "markdown",
      "metadata": {
        "deletable": false,
        "editable": false,
        "nbgrader": {
          "grade": false,
          "grade_id": "cell-50d2b3d695df7c8c",
          "locked": true,
          "schema_version": 3,
          "solution": false
        },
        "run_control": {
          "frozen": true
        },
        "id": "O5idL0OFkmIS"
      },
      "source": [
        "**3(e)**\n",
        "The one-sample $t$-test is used to test the null hypothesis that the mean of a random variable is zero. It's implemented in R using the `t.test()` command:"
      ]
    },
    {
      "cell_type": "code",
      "execution_count": 14,
      "metadata": {
        "deletable": false,
        "editable": false,
        "nbgrader": {
          "grade": false,
          "grade_id": "cell-567e578d7fa9d650",
          "locked": true,
          "schema_version": 3,
          "solution": false
        },
        "id": "f8RG50MbkmIS",
        "colab": {
          "base_uri": "https://localhost:8080/",
          "height": 213
        },
        "outputId": "e103dd29-a59c-40ba-fecf-8ce68dc44e4e"
      },
      "outputs": [
        {
          "output_type": "display_data",
          "data": {
            "text/plain": [
              "\n",
              "\tOne Sample t-test\n",
              "\n",
              "data:  x\n",
              "t = 1.2538, df = 99, p-value = 0.2129\n",
              "alternative hypothesis: true mean is not equal to 0\n",
              "95 percent confidence interval:\n",
              " -0.07554718  0.33489425\n",
              "sample estimates:\n",
              "mean of x \n",
              "0.1296735 \n"
            ]
          },
          "metadata": {}
        }
      ],
      "source": [
        "x <- rnorm(100, mean=.1)\n",
        "t.test(x)"
      ]
    },
    {
      "cell_type": "markdown",
      "metadata": {
        "deletable": false,
        "editable": false,
        "nbgrader": {
          "grade": false,
          "grade_id": "cell-5b7c91dc23771f91",
          "locked": true,
          "schema_version": 3,
          "solution": false
        },
        "run_control": {
          "frozen": true
        },
        "id": "OsTtMbBAkmIS"
      },
      "source": [
        "By running an appropriate regression, show that the linear model produces *the exact same* $t$ statistic, confidence intervals, and $p$-values as the $t$-test."
      ]
    },
    {
      "cell_type": "code",
      "execution_count": 15,
      "metadata": {
        "nbgrader": {
          "grade": true,
          "grade_id": "cell-f54825f6e6acf9a3",
          "locked": false,
          "points": 0,
          "schema_version": 3,
          "solution": true
        },
        "id": "_qNrH4xekmIS",
        "colab": {
          "base_uri": "https://localhost:8080/"
        },
        "outputId": "e365c438-202e-4ef9-c6da-037685b25ea7"
      },
      "outputs": [
        {
          "output_type": "stream",
          "name": "stdout",
          "text": [
            "\n",
            "Call:\n",
            "lm(formula = x ~ 1)\n",
            "\n",
            "Residuals:\n",
            "     Min       1Q   Median       3Q      Max \n",
            "-2.91859 -0.48482 -0.03128  0.66882  2.61949 \n",
            "\n",
            "Coefficients:\n",
            "            Estimate Std. Error t value Pr(>|t|)\n",
            "(Intercept)   0.1297     0.1034   1.254    0.213\n",
            "\n",
            "Residual standard error: 1.034 on 99 degrees of freedom\n",
            "\n",
            "                  2.5 %    97.5 %\n",
            "(Intercept) -0.07554718 0.3348942\n"
          ]
        }
      ],
      "source": [
        "# YOUR SOLUTION HERE \n",
        "#x <- c(rep('a', 15), rep('b', 5)) %>% factor\n",
        "#y <- rnorm(20)\n",
        "#df <- data.frame(x,y) \n",
        "#lm3 <- lm(y ~ x, df)\n",
        "#summary(lm3)\n",
        "#confint(lm3)\n",
        "#df$x <- relevel(df$x, ref = 2) \n",
        "#t.test(y ~ x, data = df, var.equal = TRUE)\n",
        "lm(x~1) %>% {\n",
        "  print(summary(.))\n",
        "  print(confint(.))\n",
        "}"
      ]
    }
  ],
  "metadata": {
    "celltoolbar": "Create Assignment",
    "kernelspec": {
      "display_name": "R",
      "language": "R",
      "name": "ir"
    },
    "language_info": {
      "codemirror_mode": "r",
      "file_extension": ".r",
      "mimetype": "text/x-r-source",
      "name": "R",
      "pygments_lexer": "r",
      "version": "4.2.1"
    },
    "colab": {
      "provenance": []
    }
  },
  "nbformat": 4,
  "nbformat_minor": 0
}