{
  "cells": [
    {
      "cell_type": "code",
      "execution_count": 2,
      "metadata": {
        "deletable": false,
        "editable": false,
        "id": "1SPCENz_KDM-",
        "nbgrader": {
          "grade": false,
          "grade_id": "cell-d1761bfdb43c7ec3",
          "locked": true,
          "schema_version": 3,
          "solution": false
        },
        "vscode": {
          "languageId": "r"
        },
        "colab": {
          "base_uri": "https://localhost:8080/"
        },
        "outputId": "4845fd70-4d85-4b61-9544-648cefa7e33d"
      },
      "outputs": [
        {
          "output_type": "stream",
          "name": "stderr",
          "text": [
            "Warning message in system(\"timedatectl\", intern = TRUE):\n",
            "“running command 'timedatectl' had status 1”\n",
            "── \u001b[1mAttaching packages\u001b[22m ─────────────────────────────────────── tidyverse 1.3.1 ──\n",
            "\n",
            "\u001b[32m✔\u001b[39m \u001b[34mggplot2\u001b[39m 3.4.1     \u001b[32m✔\u001b[39m \u001b[34mpurrr  \u001b[39m 1.0.1\n",
            "\u001b[32m✔\u001b[39m \u001b[34mtibble \u001b[39m 3.2.1     \u001b[32m✔\u001b[39m \u001b[34mdplyr  \u001b[39m 1.1.1\n",
            "\u001b[32m✔\u001b[39m \u001b[34mtidyr  \u001b[39m 1.3.0     \u001b[32m✔\u001b[39m \u001b[34mstringr\u001b[39m 1.4.1\n",
            "\u001b[32m✔\u001b[39m \u001b[34mreadr  \u001b[39m 2.1.4     \u001b[32m✔\u001b[39m \u001b[34mforcats\u001b[39m 1.0.0\n",
            "\n",
            "── \u001b[1mConflicts\u001b[22m ────────────────────────────────────────── tidyverse_conflicts() ──\n",
            "\u001b[31m✖\u001b[39m \u001b[34mdplyr\u001b[39m::\u001b[32mfilter()\u001b[39m masks \u001b[34mstats\u001b[39m::filter()\n",
            "\u001b[31m✖\u001b[39m \u001b[34mdplyr\u001b[39m::\u001b[32mlag()\u001b[39m    masks \u001b[34mstats\u001b[39m::lag()\n",
            "\n",
            "\n",
            "Attaching package: ‘lubridate’\n",
            "\n",
            "\n",
            "The following objects are masked from ‘package:base’:\n",
            "\n",
            "    date, intersect, setdiff, union\n",
            "\n",
            "\n"
          ]
        }
      ],
      "source": [
        "library(tidyverse)\n",
        "library(stringr)\n",
        "library(lubridate)\n",
        "options(repr.plot.width=4, repr.plot.height=3)"
      ]
    },
    {
      "cell_type": "markdown",
      "metadata": {
        "deletable": false,
        "editable": false,
        "id": "6RuyPfWaABA8",
        "run_control": {
          "frozen": true
        }
      },
      "source": [
        "## Problem 1: March Madness"
      ]
    },
    {
      "cell_type": "markdown",
      "metadata": {
        "deletable": false,
        "editable": false,
        "id": "IgVzG5SYD_mn",
        "run_control": {
          "frozen": true
        }
      },
      "source": [
        "This month is [March Madness](https://en.wikipedia.org/wiki/NCAA_Division_I_men%27s_basketball_tournament). The following dataset contains March Madness results for the years 1985&mdash;2016:"
      ]
    },
    {
      "cell_type": "code",
      "execution_count": 3,
      "metadata": {
        "deletable": false,
        "editable": false,
        "id": "YjW2idCoJWG3",
        "colab": {
          "base_uri": "https://localhost:8080/"
        },
        "outputId": "a088ad7c-8ceb-4a44-e277-8f476eaa5ba4"
      },
      "outputs": [
        {
          "output_type": "stream",
          "name": "stderr",
          "text": [
            "\u001b[1mRows: \u001b[22m\u001b[34m2050\u001b[39m \u001b[1mColumns: \u001b[22m\u001b[34m10\u001b[39m\n",
            "\u001b[36m──\u001b[39m \u001b[1mColumn specification\u001b[22m \u001b[36m────────────────────────────────────────────────────────\u001b[39m\n",
            "\u001b[1mDelimiter:\u001b[22m \",\"\n",
            "\u001b[31mchr\u001b[39m (6): Date, Round, Region, Winner, Loser, Overtime\n",
            "\u001b[32mdbl\u001b[39m (4): Winning Seed, Winning Score, Losing Seed, Losing Score\n",
            "\n",
            "\u001b[36mℹ\u001b[39m Use `spec()` to retrieve the full column specification for this data.\n",
            "\u001b[36mℹ\u001b[39m Specify the column types or set `show_col_types = FALSE` to quiet this message.\n"
          ]
        }
      ],
      "source": [
        "ncaa <- read_csv(\"https://datasets.stats306.org/ncaa.csv.gz\")"
      ]
    },
    {
      "cell_type": "markdown",
      "metadata": {
        "id": "Q4omD1on7HR_"
      },
      "source": [
        "(Note: this table is missing some data for various years, teams and rounds. For this exercise, assume the data are complete, and do not worry about any missing entries.)"
      ]
    },
    {
      "cell_type": "markdown",
      "metadata": {
        "deletable": false,
        "editable": false,
        "id": "CS_msQBUGUpd",
        "run_control": {
          "frozen": true
        }
      },
      "source": [
        "**1(a)** (2 pts) In 1985, Michigan made it to the Round of 32, before losing to Villanova. In 1989 Michigan won the national championship. Michigan also advanced to the national championship, but did not win, in 1992, 1993, and 2013.\n",
        "\n",
        "Make a plot showing how far Michigan advanced each year. In years where Michigan did not make the tournament at all, your plot should have a missing entry. Use a different color, fill, or marker to indicate years where Michigan won the national championship. \n",
        "\n",
        "Hints: \n",
        "\n",
        "- The same plot for Villanova could look like:\n",
        "\n",
        "![villanova](http://www-personal.umich.edu/~jonth/images/hw8/villanova.png)\n",
        "\n",
        "- To find the furthest, i.e. _maximum_, round reached each year, convert `Round` to an ordered factor, and use `group_by` and `summarize` along with an appropriate summary function."
      ]
    },
    {
      "cell_type": "code",
      "execution_count": 10,
      "metadata": {
        "id": "nPHwCBtsEJCB",
        "colab": {
          "base_uri": "https://localhost:8080/",
          "height": 572
        },
        "outputId": "60266119-2ced-4951-90d3-4da90766a17f"
      },
      "outputs": [
        {
          "output_type": "stream",
          "name": "stdout",
          "text": [
            "\u001b[90m# A tibble: 18 × 3\u001b[39m\n",
            "    year max.round champ\n",
            "   \u001b[3m\u001b[90m<dbl>\u001b[39m\u001b[23m \u001b[3m\u001b[90m<ord>\u001b[39m\u001b[23m     \u001b[3m\u001b[90m<lgl>\u001b[39m\u001b[23m\n",
            "\u001b[90m 1\u001b[39m  \u001b[4m1\u001b[24m985 \u001b[31mNA\u001b[39m        \u001b[31mNA\u001b[39m   \n",
            "\u001b[90m 2\u001b[39m  \u001b[4m1\u001b[24m986 \u001b[31mNA\u001b[39m        \u001b[31mNA\u001b[39m   \n",
            "\u001b[90m 3\u001b[39m  \u001b[4m1\u001b[24m987 \u001b[31mNA\u001b[39m        \u001b[31mNA\u001b[39m   \n",
            "\u001b[90m 4\u001b[39m  \u001b[4m1\u001b[24m988 \u001b[31mNA\u001b[39m        \u001b[31mNA\u001b[39m   \n",
            "\u001b[90m 5\u001b[39m  \u001b[4m1\u001b[24m989 \u001b[31mNA\u001b[39m        \u001b[31mNA\u001b[39m   \n",
            "\u001b[90m 6\u001b[39m  \u001b[4m1\u001b[24m990 \u001b[31mNA\u001b[39m        \u001b[31mNA\u001b[39m   \n",
            "\u001b[90m 7\u001b[39m  \u001b[4m1\u001b[24m992 \u001b[31mNA\u001b[39m        \u001b[31mNA\u001b[39m   \n",
            "\u001b[90m 8\u001b[39m  \u001b[4m1\u001b[24m993 \u001b[31mNA\u001b[39m        \u001b[31mNA\u001b[39m   \n",
            "\u001b[90m 9\u001b[39m  \u001b[4m1\u001b[24m994 \u001b[31mNA\u001b[39m        \u001b[31mNA\u001b[39m   \n",
            "\u001b[90m10\u001b[39m  \u001b[4m1\u001b[24m995 \u001b[31mNA\u001b[39m        \u001b[31mNA\u001b[39m   \n",
            "\u001b[90m11\u001b[39m  \u001b[4m1\u001b[24m996 \u001b[31mNA\u001b[39m        \u001b[31mNA\u001b[39m   \n",
            "\u001b[90m12\u001b[39m  \u001b[4m1\u001b[24m998 \u001b[31mNA\u001b[39m        \u001b[31mNA\u001b[39m   \n",
            "\u001b[90m13\u001b[39m  \u001b[4m2\u001b[24m009 \u001b[31mNA\u001b[39m        \u001b[31mNA\u001b[39m   \n",
            "\u001b[90m14\u001b[39m  \u001b[4m2\u001b[24m011 \u001b[31mNA\u001b[39m        \u001b[31mNA\u001b[39m   \n",
            "\u001b[90m15\u001b[39m  \u001b[4m2\u001b[24m012 \u001b[31mNA\u001b[39m        \u001b[31mNA\u001b[39m   \n",
            "\u001b[90m16\u001b[39m  \u001b[4m2\u001b[24m013 \u001b[31mNA\u001b[39m        \u001b[31mNA\u001b[39m   \n",
            "\u001b[90m17\u001b[39m  \u001b[4m2\u001b[24m014 \u001b[31mNA\u001b[39m        \u001b[31mNA\u001b[39m   \n",
            "\u001b[90m18\u001b[39m  \u001b[4m2\u001b[24m016 \u001b[31mNA\u001b[39m        \u001b[31mNA\u001b[39m   \n"
          ]
        },
        {
          "output_type": "display_data",
          "data": {
            "text/plain": [
              "plot without title"
            ],
            "image/png": "[encoded data removed]"
          },
          "metadata": {
            "image/png": {
              "width": 240,
              "height": 180
            }
          }
        }
      ],
      "source": [
        "# YOUR SOLUTION HERE \n",
        "#ncaa$Round <- factor(ncaa$Round, levels = c(\"Opening Round\", \"Round of 64\", \"Round of 32\", \"Sweet Sixteen\",\n",
        "#\"Elite Eight\", \"National Semifinals\", \"National Championship\"))\n",
        "#ncaa$Round <- ordered(ncaa$Round)\n",
        "#ncaa$Year <- as.numeric(format(mdy(ncaa$Date), format = \"%Y\"), ordered=TRUE)\n",
        "#ncaa %>% filter(Winner == \"Michigan\") %>%\n",
        " # group_by(Year) %>% summarize(Round = max(Round)) %>% mutate(champ = ifelse(Round == \"National Championship\", \"Won Championship\", NA)) %>%\n",
        " #  ggplot(aes(x=Year, y=Round, fill=champ)) + \n",
        " # geom_col(aes = options(repr.plot.width = 10, repr.plot.height = 10)) + scale_fill_discrete(breaks = \"Won Championship\", name = \"\") +\n",
        "  #    ylim(c(\"Opening Round\", \"Round of 64\", \"Round of 32\", \"Sweet Sixteen\", \"Elite Eight\",\n",
        "  #  \"National Semifinals\", \"National Championship\")) + scale_x_discrete(name=\"Year\", limits=c(1990,2000,2010)) + \n",
        "  #  ylab(\"Furthest Round Reached\") + ggtitle(\"March Madness Results: Michigan\") \n",
        "round.levels <- filter(ncaa, Winner == \"Michigan\" | Loser == \"Michigan\", year(mdy(Date)) == 1989) %>% pull\n",
        "round.levels <- c(\"Opening Round\", round.levels)\n",
        "ncaa.ch <- ncaa %>% filter(Round == \"National Championship\") %>% mutate(Loser = NA, Round = \"Champion\")\n",
        "school <- \"Michigan\"\n",
        "p <- ncaa %>% mutate(Date = mdy(Date), year = year(Date),\n",
        "Round = factor(Round, levels = round.levels, ordered=T)) %>%\n",
        "  filter(Winner == school | Loser == school) %>%\n",
        "  mutate(champion = Round == \"National Championship\" & Winner == school) %>%\n",
        "  group_by(year) %>% summarize(max.round = max(Round),\n",
        "champ = ifelse(as.logical(max(champion)), \"Won Championship\", NA)) %>%\n",
        "  print %>%\n",
        "  ggplot(aes(x=year, y=max.round, fill=champ)) + geom_col(orientation=\"x\") +\n",
        "  scale_y_discrete(drop=F) +\n",
        "  labs(x=\"Year\", y=\"Furthest round reached\", title=\"March Madness results: Michigan\",\n",
        "fill = \"\") + theme_classic() + scale_fill_manual(values = \"#ee3333\", limits = \"Won Championship\")\n",
        "ggsave('michigan.png', p, width=8, height=5)\n",
        "p"
      ]
    },
    {
      "cell_type": "markdown",
      "metadata": {
        "id": "qDSJ0vJZ2_dR"
      },
      "source": [
        "**1(b)** (2 points)\n",
        "A [_Cinderella story_](https://www.ncaa.com/news/basketball-men/article/2021-03-01/11-greatest-march-madness-cinderella-stories) is a low-seeded team that goes deep in the NCAA tournament. For example, in 1986, the number 11 seed, Lousiana State, beat the number 6, 3, 2, and 1 seeds in succession, before ultimately losing in the semifinals:\n",
        "\n",
        "```\n",
        "# A tibble: 5 × 6\n",
        "  Date       Round               Winner          `Winning Seed` Loser    Losin…¹\n",
        "  <date>     <chr>               <chr>                    <dbl> <chr>      <dbl>\n",
        "1 1986-03-13 Round of 64         Louisiana State             11 Purdue         6\n",
        "2 1986-03-15 Round of 32         Louisiana State             11 Memphis        3\n",
        "3 1986-03-20 Sweet Sixteen       Louisiana State             11 Georgia…       2\n",
        "4 1986-03-22 Elite Eight         Louisiana State             11 Kentucky       1\n",
        "5 1986-03-29 National Semifinals Louisville                   2 Louisia…      11\n",
        "# … with abbreviated variable name ¹​`Losing Seed`\n",
        "```"
      ]
    },
    {
      "cell_type": "markdown",
      "metadata": {
        "deletable": false,
        "editable": false,
        "run_control": {
          "frozen": true
        },
        "id": "qcyBPDfZ7HSC"
      },
      "source": [
        "Define a team's \"Cinderella index\" to be the difference in seeding between the winning and losing team for each game that the team _won_. For example, the Cinderella index for the 1986 Louisiana State team shown above is $5 + 8 + 9 + 10 = 32$.\n",
        "\n",
        "Make a plot showing the top ten teams with the highest Cinderella index.\n",
        "\n",
        "Hint: the team with the highest Cinderella index is Lousiana State, 1986. The team with the second-highest is Villanova, 1985. There are actually 12 teams in the top 10 due to some ties."
      ]
    },
    {
      "cell_type": "code",
      "execution_count": 11,
      "metadata": {
        "id": "avoHwNlNnqVS",
        "colab": {
          "base_uri": "https://localhost:8080/",
          "height": 197
        },
        "outputId": "8d80175a-b797-454d-ba43-86de48b61761"
      },
      "outputs": [
        {
          "output_type": "display_data",
          "data": {
            "text/plain": [
              "plot without title"
            ],
            "image/png": "[encoded data removed]"
          },
          "metadata": {
            "image/png": {
              "width": 240,
              "height": 180
            }
          }
        }
      ],
      "source": [
        "# YOUR SOLUTION HERE \n",
        "#ncaa %>% filter(`Winning Seed` > `Losing Seed`) %>% arrange(Year, Winner) %>% group_by(Year, Winner) %>%\n",
        " # summarize(`Cinderella Index`= sum(`Winning Seed` - `Losing Seed`)) %>% arrange(desc(`Cinderella Index`)) %>% head(13) %>% \n",
        "  #ggplot(aes(x=Winner, y=`Cinderella Index`, fill=Year)) + geom_col() + theme(axis.text.x = element_text(angle = 90, vjust = 0.5, hjust=1))\n",
        "ncaa %>% mutate(Date=mdy(Date)) %>%\n",
        "  group_by(year=year(Date), Winner) %>%\n",
        "  mutate(cind = `Winning Seed` - `Losing Seed`) %>%\n",
        "  summarize(cind = sum(cind), .groups='drop') %>% arrange(desc(cind)) %>%\n",
        "  mutate(Team = paste(Winner, year, sep=\", \")) %>% top_n(10, cind) %>% ggplot +\n",
        "  geom_col(aes(y=fct_inorder(Team), x=cind))"
      ]
    },
    {
      "cell_type": "markdown",
      "metadata": {
        "deletable": false,
        "editable": false,
        "id": "dJDYVm6qGBfc",
        "run_control": {
          "frozen": true
        }
      },
      "source": [
        "## Problem 2\n",
        "The file `tweets.txt.gz` contains tweets from June, 2009. The file is in a special format. The first few lines are:"
      ]
    },
    {
      "cell_type": "code",
      "execution_count": 12,
      "metadata": {
        "id": "uLMQlmrJGHEh",
        "colab": {
          "base_uri": "https://localhost:8080/"
        },
        "outputId": "4584770e-5bfa-421f-808a-e2111fe2d499"
      },
      "outputs": [
        {
          "output_type": "stream",
          "name": "stdout",
          "text": [
            "\n",
            "\n",
            "\n",
            "\n",
            "\n",
            "\n",
            "\n",
            "<!DOCTYPE html>\n",
            "<html lang=\"en\" data-color-mode=\"auto\" data-light-theme=\"light\" data-dark-theme=\"dark\" data-a11y-animated-images=\"system\">\n",
            "  <head>\n",
            "    <meta charset=\"utf-8\">\n"
          ]
        }
      ],
      "source": [
        "download.file(\"https://github.com/stats306/w23/tree/main/homeworks/hw8/tweets.txt.gz\", \"tweets.txt.gz\")\n",
        "readLines(\"tweets.txt.gz\", n = 11) %>% writeLines"
      ]
    },
    {
      "cell_type": "markdown",
      "metadata": {
        "deletable": false,
        "editable": false,
        "id": "PB2CayssGf7u",
        "run_control": {
          "frozen": true
        }
      },
      "source": [
        "Each datum consists of a triple of lines marked `T`, `U` and `W` containing the time of the tweet, the user, and the message itself, respectively. Each triple is separated by an empty line."
      ]
    },
    {
      "cell_type": "markdown",
      "metadata": {
        "deletable": false,
        "editable": false,
        "id": "fB7AeyDaGoU9",
        "run_control": {
          "frozen": true
        }
      },
      "source": [
        "**2(a) (0.5 point)**\n",
        "Read `tweets.txt.gz` in and store it as an R data frame/tibble called `tweets1`. It should have two character columns and 1.03m rows:\n",
        "```{r}\n",
        "# A tibble: 1,039,879 × 2\n",
        "   X1    X2                                                                     \n",
        "   <chr> <chr>                                                                  \n",
        " 1 T     \"2009-06-11 00:00:03\"                                                  \n",
        " 2 U     \"http://twitter.com/imdb\"                                              \n",
        " 3 W     \"No Post Title\"                                                        \n",
        " 4 T     \"2009-06-11 16:37:14\"                                                  \n",
        " 5 U     \"http://twitter.com/ncruralhealth\"                                     \n",
        " 6 W     \"No Post Title\"                                                        \n",
        " 7 T     \"2009-06-11 16:56:23\"                                                  \n",
        " 8 U     \"http://twitter.com/boydjones\"                                         \n",
        " 9 W     \"listening to \\\"Big Lizard - The Dead Milkmen\\\" ♫ http://blip.fm/~81kw…\n",
        "10 T     \"2009-06-11 16:56:59\"                                                  \n",
        "# … with 1,039,869 more rows\n",
        "```\n",
        "(**Hint**: The `.gz` file extension indicates that this file is compressed to save space. You can load the table using the **usual `tidyverse` table loading commands**, as if it were a regular text file."
      ]
    },
    {
      "cell_type": "code",
      "execution_count": 13,
      "metadata": {
        "id": "QJGlIS9cGe-h",
        "colab": {
          "base_uri": "https://localhost:8080/"
        },
        "outputId": "d0d45d31-22e5-4f5b-9536-f0e6c6b52e1d"
      },
      "outputs": [
        {
          "output_type": "stream",
          "name": "stderr",
          "text": [
            "\u001b[1mRows: \u001b[22m\u001b[34m1039879\u001b[39m \u001b[1mColumns: \u001b[22m\u001b[34m2\u001b[39m\n",
            "\u001b[36m──\u001b[39m \u001b[1mColumn specification\u001b[22m \u001b[36m────────────────────────────────────────────────────────\u001b[39m\n",
            "\u001b[1mDelimiter:\u001b[22m \"\\t\"\n",
            "\u001b[31mchr\u001b[39m (2): X1, X2\n",
            "\n",
            "\u001b[36mℹ\u001b[39m Use `spec()` to retrieve the full column specification for this data.\n",
            "\u001b[36mℹ\u001b[39m Specify the column types or set `show_col_types = FALSE` to quiet this message.\n"
          ]
        },
        {
          "output_type": "stream",
          "name": "stdout",
          "text": [
            "\u001b[90m# A tibble: 1,039,879 × 2\u001b[39m\n",
            "   X1    X2                                                                     \n",
            "   \u001b[3m\u001b[90m<chr>\u001b[39m\u001b[23m \u001b[3m\u001b[90m<chr>\u001b[39m\u001b[23m                                                                  \n",
            "\u001b[90m 1\u001b[39m T     \u001b[90m\"\u001b[39m2009-06-11 00:00:03\u001b[90m\"\u001b[39m                                                  \n",
            "\u001b[90m 2\u001b[39m U     \u001b[90m\"\u001b[39mhttp://twitter.com/imdb\u001b[90m\"\u001b[39m                                              \n",
            "\u001b[90m 3\u001b[39m W     \u001b[90m\"\u001b[39mNo Post Title\u001b[90m\"\u001b[39m                                                        \n",
            "\u001b[90m 4\u001b[39m T     \u001b[90m\"\u001b[39m2009-06-11 16:37:14\u001b[90m\"\u001b[39m                                                  \n",
            "\u001b[90m 5\u001b[39m U     \u001b[90m\"\u001b[39mhttp://twitter.com/ncruralhealth\u001b[90m\"\u001b[39m                                     \n",
            "\u001b[90m 6\u001b[39m W     \u001b[90m\"\u001b[39mNo Post Title\u001b[90m\"\u001b[39m                                                        \n",
            "\u001b[90m 7\u001b[39m T     \u001b[90m\"\u001b[39m2009-06-11 16:56:23\u001b[90m\"\u001b[39m                                                  \n",
            "\u001b[90m 8\u001b[39m U     \u001b[90m\"\u001b[39mhttp://twitter.com/boydjones\u001b[90m\"\u001b[39m                                         \n",
            "\u001b[90m 9\u001b[39m W     \u001b[90m\"\u001b[39mlistening to \\\"Big Lizard - The Dead Milkmen\\\" ♫ http://blip.fm/~81kw…\n",
            "\u001b[90m10\u001b[39m T     \u001b[90m\"\u001b[39m2009-06-11 16:56:59\u001b[90m\"\u001b[39m                                                  \n",
            "\u001b[90m# ℹ 1,039,869 more rows\u001b[39m\n"
          ]
        }
      ],
      "source": [
        "# YOUR SOLUTION HERE\n",
        "url <- \"https://raw.githubusercontent.com/stats306/w23/main/homeworks/hw8/tweets.txt.gz\"\n",
        "tweets1 <- read_tsv(url, col_names = FALSE)\n",
        "colnames(tweets1) <- c(\"X1\", \"X2\")\n",
        "print(tweets1)"
      ]
    },
    {
      "cell_type": "markdown",
      "metadata": {
        "deletable": false,
        "editable": false,
        "id": "WBpEubc3GuwA",
        "run_control": {
          "frozen": true
        }
      },
      "source": [
        "**2(b) (0.5 point)**\n",
        "Next, convert `tweets1` so that it has three columns reflecting the three variables present in this data set. Store the resulting table in a variable called `tweets2`. The first rows of `tweets2` will now look like:\n",
        "```\n",
        "# A tibble: 3 x 3\n",
        "  T                   U                                W                       \n",
        "  <chr>               <chr>                            <chr>                   \n",
        "1 2009-06-11 00:00:03 http://twitter.com/imdb          No Post Title           \n",
        "2 2009-06-11 16:37:14 http://twitter.com/ncruralhealth No Post Title           \n",
        "3 2009-06-11 16:56:23 http://twitter.com/boydjones     \"listening to \\\"Big Liz…\n",
        "```\n",
        "(*Hint*: If you are having trouble getting this working on the full data set, try subsetting the table to a small number of rows in order to debug your code. Most likely you will use a function which requires each tripplet T, U, W to have the same row index.)"
      ]
    },
    {
      "cell_type": "code",
      "execution_count": 14,
      "metadata": {
        "id": "gPUCzjPCG1L7",
        "colab": {
          "base_uri": "https://localhost:8080/"
        },
        "outputId": "7f64b89c-3d21-4dc9-f651-7086d07f4adf"
      },
      "outputs": [
        {
          "output_type": "stream",
          "name": "stdout",
          "text": [
            "\u001b[90m# A tibble: 346,626 × 3\u001b[39m\n",
            "   T                   U                                W                       \n",
            "   \u001b[3m\u001b[90m<chr>\u001b[39m\u001b[23m               \u001b[3m\u001b[90m<chr>\u001b[39m\u001b[23m                            \u001b[3m\u001b[90m<chr>\u001b[39m\u001b[23m                   \n",
            "\u001b[90m 1\u001b[39m 2009-06-11 00:00:03 http://twitter.com/imdb          \u001b[90m\"\u001b[39mNo Post Title\u001b[90m\"\u001b[39m         \n",
            "\u001b[90m 2\u001b[39m 2009-06-11 16:37:14 http://twitter.com/ncruralhealth \u001b[90m\"\u001b[39mNo Post Title\u001b[90m\"\u001b[39m         \n",
            "\u001b[90m 3\u001b[39m 2009-06-11 16:56:23 http://twitter.com/boydjones     \u001b[90m\"\u001b[39mlistening to \\\"Big Liz…\n",
            "\u001b[90m 4\u001b[39m 2009-06-11 16:56:59 http://twitter.com/cameron987    \u001b[90m\"\u001b[39m@beatrizchavez A dork?…\n",
            "\u001b[90m 5\u001b[39m 2009-06-11 16:57:03 http://twitter.com/selenato      \u001b[90m\"\u001b[39m@okaaaa 本当ね！2週間… \n",
            "\u001b[90m 6\u001b[39m 2009-06-11 16:57:30 http://twitter.com/nbeasley10    \u001b[90m\"\u001b[39mJust got a chance to b…\n",
            "\u001b[90m 7\u001b[39m 2009-06-11 16:57:31 http://twitter.com/littlewing333 \u001b[90m\"\u001b[39m@kidhum and if an act …\n",
            "\u001b[90m 8\u001b[39m 2009-06-11 16:57:33 http://twitter.com/lolcute       \u001b[90m\"\u001b[39mmebbe U fetch http://t…\n",
            "\u001b[90m 9\u001b[39m 2009-06-11 16:57:36 http://twitter.com/fr0st22       \u001b[90m\"\u001b[39mI have broken 1,000 tw…\n",
            "\u001b[90m10\u001b[39m 2009-06-11 16:57:59 http://twitter.com/mavellsyrup   \u001b[90m\"\u001b[39mFood timmeeee :'D\u001b[90m\"\u001b[39m     \n",
            "\u001b[90m# ℹ 346,616 more rows\u001b[39m\n"
          ]
        }
      ],
      "source": [
        "# YOUR SOLUTION HERE \n",
        "x <- as.vector(seq(from = 1, to = nrow(tweets1)/3, by = 1))\n",
        "new_tweets1 <- head(tweets1, -1)\n",
        "tweets2 <- new_tweets1 %>%  \n",
        "    mutate(vector = rep(x, each = 3)) %>% \n",
        "    pivot_wider(names_from = X1, values_from = X2) %>% select(!vector) \n",
        "print(tweets2)"
      ]
    },
    {
      "cell_type": "markdown",
      "metadata": {
        "deletable": false,
        "editable": false,
        "id": "Q3et2QFPG2vh",
        "run_control": {
          "frozen": true
        }
      },
      "source": [
        "**2(c) (0.5 point)**\n",
        "Convert the `T` column to a properly formatted `datetime` object and give it (and the rest of the columns) an appropriate name. Also, strip off the leading `http://twitter.com/` from each user. Store the resulting table as `tweets3`. It will look like:\n",
        "```\n",
        "# A tibble: 346,627 × 3\n",
        "   time                user          tweet                                      \n",
        "   <dttm>              <chr>         <chr>                                      \n",
        " 1 2009-06-11 00:00:03 imdb          \"No Post Title\"                            \n",
        " 2 2009-06-11 16:37:14 ncruralhealth \"No Post Title\"                            \n",
        " 3 2009-06-11 16:56:23 boydjones     \"listening to \\\"Big Lizard - The Dead Milk…\n",
        " 4 2009-06-11 16:56:59 cameron987    \"@beatrizchavez A dork? NO way... you are.…\n",
        " 5 2009-06-11 16:57:03 selenato      \"@okaaaa 本当ね！2週間楽しみがありすぎわ、…\n",
        " 6 2009-06-11 16:57:30 nbeasley10    \"Just got a chance to buy All-Star tickets…\n",
        " 7 2009-06-11 16:57:31 littlewing333 \"@kidhum and if an act has pull and they d…\n",
        " 8 2009-06-11 16:57:33 lolcute       \"mebbe U fetch http://tinyurl.com/nz4fbr\"  \n",
        " 9 2009-06-11 16:57:36 fr0st22       \"I have broken 1,000 twitter updates. Paaa…\n",
        "10 2009-06-11 16:57:59 mavellsyrup   \"Food timmeeee :'D\"                        \n",
        "# … with 346,617 more rows\n",
        "```"
      ]
    },
    {
      "cell_type": "code",
      "execution_count": 15,
      "metadata": {
        "id": "sNbaJNtpG_Q4",
        "colab": {
          "base_uri": "https://localhost:8080/"
        },
        "outputId": "fa7cff6b-64b3-4465-e7f8-3e745ec99fe5"
      },
      "outputs": [
        {
          "output_type": "stream",
          "name": "stdout",
          "text": [
            "\u001b[90m# A tibble: 346,626 × 3\u001b[39m\n",
            "   time                user          tweet                                      \n",
            "   \u001b[3m\u001b[90m<dttm>\u001b[39m\u001b[23m              \u001b[3m\u001b[90m<chr>\u001b[39m\u001b[23m         \u001b[3m\u001b[90m<chr>\u001b[39m\u001b[23m                                      \n",
            "\u001b[90m 1\u001b[39m 2009-06-11 \u001b[90m00:00:03\u001b[39m imdb          \u001b[90m\"\u001b[39mNo Post Title\u001b[90m\"\u001b[39m                            \n",
            "\u001b[90m 2\u001b[39m 2009-06-11 \u001b[90m16:37:14\u001b[39m ncruralhealth \u001b[90m\"\u001b[39mNo Post Title\u001b[90m\"\u001b[39m                            \n",
            "\u001b[90m 3\u001b[39m 2009-06-11 \u001b[90m16:56:23\u001b[39m boydjones     \u001b[90m\"\u001b[39mlistening to \\\"Big Lizard - The Dead Milk…\n",
            "\u001b[90m 4\u001b[39m 2009-06-11 \u001b[90m16:56:59\u001b[39m cameron987    \u001b[90m\"\u001b[39m@beatrizchavez A dork? NO way... you are.…\n",
            "\u001b[90m 5\u001b[39m 2009-06-11 \u001b[90m16:57:03\u001b[39m selenato      \u001b[90m\"\u001b[39m@okaaaa 本当ね！2週間楽しみがありすぎわ、…\n",
            "\u001b[90m 6\u001b[39m 2009-06-11 \u001b[90m16:57:30\u001b[39m nbeasley10    \u001b[90m\"\u001b[39mJust got a chance to buy All-Star tickets…\n",
            "\u001b[90m 7\u001b[39m 2009-06-11 \u001b[90m16:57:31\u001b[39m littlewing333 \u001b[90m\"\u001b[39m@kidhum and if an act has pull and they d…\n",
            "\u001b[90m 8\u001b[39m 2009-06-11 \u001b[90m16:57:33\u001b[39m lolcute       \u001b[90m\"\u001b[39mmebbe U fetch http://tinyurl.com/nz4fbr\u001b[90m\"\u001b[39m  \n",
            "\u001b[90m 9\u001b[39m 2009-06-11 \u001b[90m16:57:36\u001b[39m fr0st22       \u001b[90m\"\u001b[39mI have broken 1,000 twitter updates. Paaa…\n",
            "\u001b[90m10\u001b[39m 2009-06-11 \u001b[90m16:57:59\u001b[39m mavellsyrup   \u001b[90m\"\u001b[39mFood timmeeee :'D\u001b[90m\"\u001b[39m                        \n",
            "\u001b[90m# ℹ 346,616 more rows\u001b[39m\n"
          ]
        }
      ],
      "source": [
        "# YOUR SOLUTION HERE \n",
        "tweets3 <- tweets2 %>% mutate(user = str_replace(U, \"http://twitter.com/\", \"\")) %>% \n",
        "    mutate(time = ymd_hms(T)) %>% rename(tweet = W) %>% \n",
        "    reframe(time, user, tweet) \n",
        "print(tweets3)"
      ]
    },
    {
      "cell_type": "markdown",
      "metadata": {
        "id": "ji7X4G-TG794"
      },
      "source": [
        "**2(d) (1 point)**\n",
        "Create a plot that shows the tweet volume for each day of June 2009. For what **day of the month** was there the largest volume of tweets? Can you give an explanation for what caused this spike?\n",
        "\n",
        "*Hint*: Try reading tweets on the day of highest volume around 11:00PM, and/or Google the date."
      ]
    },
    {
      "cell_type": "markdown",
      "source": [
        "June 25th has the largest volume of tweets. This spike most likely was caused by both the death of Michael Jackson and Farrah Fawcett."
      ],
      "metadata": {
        "id": "mOYedf13ckRz"
      }
    },
    {
      "cell_type": "code",
      "execution_count": 16,
      "metadata": {
        "id": "ASqLc1ziHBsG",
        "colab": {
          "base_uri": "https://localhost:8080/",
          "height": 197
        },
        "outputId": "e2629f2f-555c-4ac8-84a8-846a336a0720"
      },
      "outputs": [
        {
          "output_type": "display_data",
          "data": {
            "text/plain": [
              "plot without title"
            ],
            "image/png": "[encoded data removed]"
          },
          "metadata": {
            "image/png": {
              "width": 240,
              "height": 180
            }
          }
        }
      ],
      "source": [
        "# YOUR SOLUTION HERE\n",
        "tweets3 %>% mutate(time = format(as.POSIXct(time,format='%Y/%m/%d %H:%M:%S'),format='%Y/%m/%d')) %>% \n",
        "  group_by(time) %>%\n",
        "  ggplot(aes(x=time)) + geom_bar() + theme(axis.text.x = element_text(angle = 90, vjust = 0.5, hjust=1))"
      ]
    },
    {
      "cell_type": "markdown",
      "metadata": {
        "id": "ctqC29ScHDIh"
      },
      "source": [
        "**2(e) (1 points)** One of the reason for the spike in 2(d) was related to a public figure in the music industry. On the day of highest volume in 2(d), what is the percentage of tweets that mentioned either **their first or last name**?"
      ]
    },
    {
      "cell_type": "markdown",
      "source": [
        "On the day of highest volume, June 25th, the percentage of tweets that mentioned Michael Jackson's first or last name is 3.88%."
      ],
      "metadata": {
        "id": "LR8F4KbrGFKg"
      }
    },
    {
      "cell_type": "code",
      "execution_count": 17,
      "metadata": {
        "id": "ajo4NHNKLrz4",
        "colab": {
          "base_uri": "https://localhost:8080/",
          "height": 129
        },
        "outputId": "ca155d68-dc0f-4517-fa4d-27aeb476ca92"
      },
      "outputs": [
        {
          "output_type": "display_data",
          "data": {
            "text/html": [
              "<table class=\"dataframe\">\n",
              "<caption>A tibble: 1 × 1</caption>\n",
              "<thead>\n",
              "\t<tr><th scope=col>mj_pct</th></tr>\n",
              "\t<tr><th scope=col>&lt;dbl&gt;</th></tr>\n",
              "</thead>\n",
              "<tbody>\n",
              "\t<tr><td>0.02748469</td></tr>\n",
              "</tbody>\n",
              "</table>\n"
            ],
            "text/markdown": "\nA tibble: 1 × 1\n\n| mj_pct &lt;dbl&gt; |\n|---|\n| 0.02748469 |\n\n",
            "text/latex": "A tibble: 1 × 1\n\\begin{tabular}{l}\n mj\\_pct\\\\\n <dbl>\\\\\n\\hline\n\t 0.02748469\\\\\n\\end{tabular}\n",
            "text/plain": [
              "  mj_pct    \n",
              "1 0.02748469"
            ]
          },
          "metadata": {}
        }
      ],
      "source": [
        "# YOUR SOLUTION HERE \n",
        "#count <- tweets3 %>% mutate(time = format(as.POSIXct(time,format='%Y/%m/%d %H:%M:%S'),format='%Y/%m/%d')) %>% filter(time=='2009/06/25') %>%\n",
        " # select(tweet) %>% str_count('Michael|Jackson')\n",
        "#tweets3 %>% mutate(time = format(as.POSIXct(time,format='%Y/%m/%d %H:%M:%S'),format='%Y/%m/%d')) %>% filter(time=='2009/06/25') %>%\n",
        " # select(tweet) %>% summarize(percent = count/n()*100)\n",
        "tweets3 %>% mutate(day_of_month = mday(time)) %>%\n",
        "  filter(day_of_month == 25) %>%\n",
        "  mutate(is_mentioned = if_else(str_detect(tweet, \n",
        "regex('\\\\b(michael|jackson)[.,;]?\\\\b', ignore_case=T)), 1, 0)) %>%\n",
        "  summarize(mj_pct = mean(is_mentioned))"
      ]
    },
    {
      "cell_type": "markdown",
      "metadata": {
        "deletable": false,
        "editable": false,
        "id": "qUtlpiTQHG9j",
        "run_control": {
          "frozen": true
        }
      },
      "source": [
        "# Challenge Problem: Writing a function\n",
        "\n",
        "(2 points) A few weeks ago, the university announced that it was pushing the start of the winter semester [back by one week](https://www.michigandaily.com/news/administration/board-of-regents-approves-extended-winter-break/) to January 10, 2024. Assume that the winter semester will always begin on the second Wednesday in January. Write a function called `winter_start_date(year)` which takes a year and returns the date on which winter classes will commence:\n",
        "\n",
        "    > winter_start_date(2024)\n",
        "    2024-01-10\n",
        "    > winter_start_date(3024)\n",
        "    3024-01-14"
      ]
    },
    {
      "cell_type": "code",
      "execution_count": null,
      "metadata": {
        "id": "8sqaWZqHLn9P",
        "colab": {
          "base_uri": "https://localhost:8080/",
          "height": 52
        },
        "outputId": "b34e636b-bd9d-4acf-9821-eb8e506b0965"
      },
      "outputs": [
        {
          "output_type": "display_data",
          "data": {
            "text/html": [
              "<time datetime=\"2024-01-10\">2024-01-10</time>"
            ],
            "text/markdown": "2024-01-10",
            "text/latex": "2024-01-10",
            "text/plain": [
              "[1] \"2024-01-10\""
            ]
          },
          "metadata": {}
        },
        {
          "output_type": "display_data",
          "data": {
            "text/html": [
              "<time datetime=\"3024-01-14\">3024-01-14</time>"
            ],
            "text/markdown": "3024-01-14",
            "text/latex": "3024-01-14",
            "text/plain": [
              "[1] \"3024-01-14\""
            ]
          },
          "metadata": {}
        }
      ],
      "source": [
        "# YOUR SOLUTION HERE \n",
        "winter_start_date <- function(year){\n",
        "  jan1 <- as.Date(ISOdate(year, 1, 1))\n",
        "  weekday_jan1 <- weekdays(jan1)\n",
        "  if (weekday_jan1 == \"Monday\"){\n",
        "    wed = jan1 + days(9)\n",
        "  }\n",
        "  if (weekday_jan1 == \"Tuesday\"){\n",
        "    wed = jan1 + days(8)\n",
        "  }\n",
        "  if (weekday_jan1 == \"Wednesday\"){\n",
        "    wed = jan1 + days(7)\n",
        "  }\n",
        "  if(weekday_jan1 == \"Thursday\"){\n",
        "    wed = jan1 + days(13)\n",
        "  }\n",
        "  if(weekday_jan1 == \"Friday\"){\n",
        "    wed = jan1 + days(12)\n",
        "  }\n",
        "  if(weekday_jan1 == \"Saturday\"){\n",
        "    wed = jan1 + days(11)\n",
        "  }\n",
        "  else if(weekday_jan1 == \"Sunday\"){\n",
        "    wed = jan1 + days(10)\n",
        "  }\n",
        "  return(wed)\n",
        "}\n",
        "winter_start_date(2024)\n",
        "winter_start_date(3024)"
      ]
    }
  ],
  "metadata": {
    "celltoolbar": "Create Assignment",
    "colab": {
      "provenance": []
    },
    "kernelspec": {
      "display_name": "R",
      "language": "R",
      "name": "ir"
    },
    "language_info": {
      "codemirror_mode": "r",
      "file_extension": ".r",
      "mimetype": "text/x-r-source",
      "name": "R",
      "pygments_lexer": "r",
      "version": "4.2.1"
    }
  },
  "nbformat": 4,
  "nbformat_minor": 0
}