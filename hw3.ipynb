{
  "cells": [
    {
      "cell_type": "code",
      "execution_count": 1,
      "metadata": {
        "deletable": false,
        "editable": false,
        "id": "4leO5bvzr3ya",
        "nbgrader": {
          "grade": false,
          "grade_id": "cell-1be04a157d86c84b",
          "locked": true,
          "schema_version": 3,
          "solution": false
        },
        "vscode": {
          "languageId": "r"
        },
        "colab": {
          "base_uri": "https://localhost:8080/"
        },
        "outputId": "570beeb3-c58b-4507-e1f1-76f80f3e9b53"
      },
      "outputs": [
        {
          "output_type": "stream",
          "name": "stderr",
          "text": [
            "Installing package into ‘/usr/local/lib/R/site-library’\n",
            "(as ‘lib’ is unspecified)\n",
            "\n",
            "also installing the dependencies ‘textshaping’, ‘conflicted’, ‘jsonlite’, ‘ragg’, ‘stringr’\n",
            "\n",
            "\n",
            "Warning message in install.packages(\"tidyverse\"):\n",
            "“installation of package ‘textshaping’ had non-zero exit status”\n",
            "Warning message in install.packages(\"tidyverse\"):\n",
            "“installation of package ‘ragg’ had non-zero exit status”\n",
            "Warning message in install.packages(\"tidyverse\"):\n",
            "“installation of package ‘tidyverse’ had non-zero exit status”\n",
            "Installing package into ‘/usr/local/lib/R/site-library’\n",
            "(as ‘lib’ is unspecified)\n",
            "\n",
            "Warning message in system(\"timedatectl\", intern = TRUE):\n",
            "“running command 'timedatectl' had status 1”\n",
            "── \u001b[1mAttaching packages\u001b[22m ─────────────────────────────────────── tidyverse 1.3.1 ──\n",
            "\n",
            "\u001b[32m✔\u001b[39m \u001b[34mggplot2\u001b[39m 3.4.1     \u001b[32m✔\u001b[39m \u001b[34mpurrr  \u001b[39m 1.0.1\n",
            "\u001b[32m✔\u001b[39m \u001b[34mtibble \u001b[39m 3.2.1     \u001b[32m✔\u001b[39m \u001b[34mdplyr  \u001b[39m 1.1.1\n",
            "\u001b[32m✔\u001b[39m \u001b[34mtidyr  \u001b[39m 1.3.0     \u001b[32m✔\u001b[39m \u001b[34mstringr\u001b[39m 1.5.0\n",
            "\u001b[32m✔\u001b[39m \u001b[34mreadr  \u001b[39m 2.1.4     \u001b[32m✔\u001b[39m \u001b[34mforcats\u001b[39m 1.0.0\n",
            "\n",
            "── \u001b[1mConflicts\u001b[22m ────────────────────────────────────────── tidyverse_conflicts() ──\n",
            "\u001b[31m✖\u001b[39m \u001b[34mdplyr\u001b[39m::\u001b[32mfilter()\u001b[39m masks \u001b[34mstats\u001b[39m::filter()\n",
            "\u001b[31m✖\u001b[39m \u001b[34mdplyr\u001b[39m::\u001b[32mlag()\u001b[39m    masks \u001b[34mstats\u001b[39m::lag()\n",
            "\n"
          ]
        }
      ],
      "source": [
        "install.packages(\"tidyverse\")\n",
        "install.packages(\"nycflights13\")\n",
        "library(tidyverse)\n",
        "library(nycflights13)\n",
        "options(repr.plot.width=7, repr.plot.height=4)"
      ]
    },
    {
      "cell_type": "markdown",
      "metadata": {
        "deletable": false,
        "editable": false,
        "id": "8qK_sLRrr3yc",
        "nbgrader": {
          "grade": false,
          "grade_id": "cell-281caadd66986182",
          "locked": true,
          "schema_version": 3,
          "solution": false
        },
        "run_control": {
          "frozen": true
        }
      },
      "source": [
        "# STATS 306\n",
        "## Homework 3:  Advanced `dplyr` and tidy data\n",
        "\n",
        "For each problem, enter the R code in the cell marked \"YOUR SOLUTION HERE\"."
      ]
    },
    {
      "cell_type": "markdown",
      "metadata": {
        "deletable": false,
        "editable": false,
        "id": "631zEA_mr3yd",
        "nbgrader": {
          "grade": false,
          "grade_id": "cell-421557d86106e43b",
          "locked": true,
          "schema_version": 3,
          "solution": false
        },
        "run_control": {
          "frozen": true
        }
      },
      "source": [
        "## Problem 1: Why so delayed? (4 points)\n",
        "The following code adds a variable `week` to `flights`, such that `week==1` for the first seven days of the year, `week==2` for days 8-14, etc. (In the second half of the semester we will learn how to work with times and date data using the `lubridate` package.)"
      ]
    },
    {
      "cell_type": "code",
      "execution_count": 2,
      "metadata": {
        "id": "1ioDkDK7r3yd",
        "nbgrader": {
          "grade": false,
          "grade_id": "cell-88e1b70275693fee",
          "locked": true,
          "schema_version": 3,
          "solution": false
        },
        "vscode": {
          "languageId": "r"
        }
      },
      "outputs": [],
      "source": [
        "flights_week = mutate(flights, week=lubridate::week(time_hour))"
      ]
    },
    {
      "cell_type": "markdown",
      "metadata": {
        "deletable": false,
        "editable": false,
        "id": "EepM7rgjr3yd",
        "run_control": {
          "frozen": true
        }
      },
      "source": [
        "**(a)** Make a bar plot of the proportion of flights each week whose actual departure time is NOT missing. The x-axis of your plot should contain the weeks of the year, ranging from 1 to 52, and the y-axis of your plot should be a number between 0 and 1 showing the decimal proportion of flights that have a departure time. What sort of plot geometry (line, bar, point, histogram, etc.) do you think is appropriate for this kind of plot? Does anything about this plot jump out at you? What and why? *1 point*"
      ]
    },
    {
      "cell_type": "code",
      "execution_count": 3,
      "metadata": {
        "id": "kaVdMK0Zr3yd",
        "vscode": {
          "languageId": "r"
        },
        "colab": {
          "base_uri": "https://localhost:8080/",
          "height": 257
        },
        "outputId": "530dfda2-3060-4d8c-ce74-dccc0d944bf4"
      },
      "outputs": [
        {
          "output_type": "display_data",
          "data": {
            "text/plain": [
              "plot without title"
            ],
            "image/png": "[encoded data removed]"
          },
          "metadata": {
            "image/png": {
              "width": 420,
              "height": 240
            }
          }
        }
      ],
      "source": [
        "# Your solution here\n",
        "#graph_not_miss <- flights_week %>% group_by(week) %>%\n",
        " # mutate(not_missing = ifelse(is.na(dep_time), 0, 1)) %>%\n",
        " # summarize(n=n(), not_missing = sum(not_missing, na.rm = TRUE)) %>% ggplot() +\n",
        " # geom_bar(mapping = aes(x = week, y = (not_missing/n)), stat = 'identity') +\n",
        " # xlab(\"Week Number\") + ylab(\"Proportion of Flights That Have a Departure Time\") +\n",
        "  #ggtitle(\"Proportion of Flights Each Week Which Have a Departure Time\") +\n",
        "  #  scale_x_continuous(limits = c(1, 52))\n",
        "#print(graph_not_miss)\n",
        "flights_week %>% group_by(week) %>%\n",
        "  summarize(prop_schedule = mean(!is.na(dep_time))) %>%\n",
        "  ggplot() + geom_bar(aes(x=week, y=prop_schedule), stat=\"identity\")"
      ]
    },
    {
      "cell_type": "markdown",
      "source": [
        "I plotted a bar plot which I think is the most appropriate for this kind of plot. Week 5 somewhat jumps out at me, since it appears that the proportion of flights that have a departure time is much less than all of the other weeks."
      ],
      "metadata": {
        "id": "tgPjhgEEOWyz"
      }
    },
    {
      "cell_type": "markdown",
      "metadata": {
        "deletable": false,
        "editable": false,
        "id": "O63-jpF8r3ye",
        "run_control": {
          "frozen": true
        }
      },
      "source": [
        "**(b)** For the week with the highest fraction of missing departure times, generate a table which shows the proportion of missing departure times for each day of that week. Your table should have columns `year`, `month`, `day`, and `prop_miss_dep_time`. Sort your table in chronological order and store it in a variable called `table1b`. *1 point*"
      ]
    },
    {
      "cell_type": "code",
      "execution_count": 4,
      "metadata": {
        "id": "EzNfTPQgr3ye",
        "vscode": {
          "languageId": "r"
        },
        "colab": {
          "base_uri": "https://localhost:8080/",
          "height": 353
        },
        "outputId": "63c87116-8563-41fd-edbd-4c2aab43243b"
      },
      "outputs": [
        {
          "output_type": "stream",
          "name": "stderr",
          "text": [
            "\u001b[1m\u001b[22m`summarise()` has grouped output by 'year', 'month'. You can override using the\n",
            "`.groups` argument.\n"
          ]
        },
        {
          "output_type": "display_data",
          "data": {
            "text/html": [
              "<table class=\"dataframe\">\n",
              "<caption>A grouped_df: 7 × 4</caption>\n",
              "<thead>\n",
              "\t<tr><th scope=col>year</th><th scope=col>month</th><th scope=col>day</th><th scope=col>prop_miss_dep_time</th></tr>\n",
              "\t<tr><th scope=col>&lt;int&gt;</th><th scope=col>&lt;int&gt;</th><th scope=col>&lt;int&gt;</th><th scope=col>&lt;dbl&gt;</th></tr>\n",
              "</thead>\n",
              "<tbody>\n",
              "\t<tr><td>2013</td><td>2</td><td> 5</td><td>0.017857143</td></tr>\n",
              "\t<tr><td>2013</td><td>2</td><td> 6</td><td>0.008879023</td></tr>\n",
              "\t<tr><td>2013</td><td>2</td><td> 7</td><td>0.004291845</td></tr>\n",
              "\t<tr><td>2013</td><td>2</td><td> 8</td><td>0.507526882</td></tr>\n",
              "\t<tr><td>2013</td><td>2</td><td> 9</td><td>0.574561404</td></tr>\n",
              "\t<tr><td>2013</td><td>2</td><td>10</td><td>0.031363088</td></tr>\n",
              "\t<tr><td>2013</td><td>2</td><td>11</td><td>0.078579117</td></tr>\n",
              "</tbody>\n",
              "</table>\n"
            ],
            "text/markdown": "\nA grouped_df: 7 × 4\n\n| year &lt;int&gt; | month &lt;int&gt; | day &lt;int&gt; | prop_miss_dep_time &lt;dbl&gt; |\n|---|---|---|---|\n| 2013 | 2 |  5 | 0.017857143 |\n| 2013 | 2 |  6 | 0.008879023 |\n| 2013 | 2 |  7 | 0.004291845 |\n| 2013 | 2 |  8 | 0.507526882 |\n| 2013 | 2 |  9 | 0.574561404 |\n| 2013 | 2 | 10 | 0.031363088 |\n| 2013 | 2 | 11 | 0.078579117 |\n\n",
            "text/latex": "A grouped\\_df: 7 × 4\n\\begin{tabular}{llll}\n year & month & day & prop\\_miss\\_dep\\_time\\\\\n <int> & <int> & <int> & <dbl>\\\\\n\\hline\n\t 2013 & 2 &  5 & 0.017857143\\\\\n\t 2013 & 2 &  6 & 0.008879023\\\\\n\t 2013 & 2 &  7 & 0.004291845\\\\\n\t 2013 & 2 &  8 & 0.507526882\\\\\n\t 2013 & 2 &  9 & 0.574561404\\\\\n\t 2013 & 2 & 10 & 0.031363088\\\\\n\t 2013 & 2 & 11 & 0.078579117\\\\\n\\end{tabular}\n",
            "text/plain": [
              "  year month day prop_miss_dep_time\n",
              "1 2013 2      5  0.017857143       \n",
              "2 2013 2      6  0.008879023       \n",
              "3 2013 2      7  0.004291845       \n",
              "4 2013 2      8  0.507526882       \n",
              "5 2013 2      9  0.574561404       \n",
              "6 2013 2     10  0.031363088       \n",
              "7 2013 2     11  0.078579117       "
            ]
          },
          "metadata": {}
        }
      ],
      "source": [
        "# Your solution here\n",
        "#tablex = flights_week %>% group_by(week) %>% \n",
        " #   summarize(prop_miss_dep_time = (sum(is.na(dep_time))) / n()) %>% \n",
        "  #  ungroup %>% mutate(rank = dense_rank(desc(prop_miss_dep_time))) %>% \n",
        "  #  arrange(rank)\n",
        "#table1b <- flights_week %>% group_by(week) %>% filter(week == 6) %>%\n",
        " # group_by(year, month, day) %>%\n",
        " # summarize(prop_miss_dep_time = (sum(is.na(dep_time))) / n()) %>% print\n",
        "\n",
        "table1b <- flights_week %>% filter(week == 6) %>%\n",
        "  group_by(year, month, day) %>% \n",
        "  summarize(prop_miss_dep_time = mean(is.na(dep_time)))\n",
        "table1b"
      ]
    },
    {
      "cell_type": "markdown",
      "metadata": {
        "deletable": false,
        "editable": false,
        "id": "9PDpOEuvr3ye",
        "run_control": {
          "frozen": true
        }
      },
      "source": [
        "**(c)** 2 days in `table1b` should jump out at you. What you're discovering from the data is the [North American Blizzard of 2013](https://en.wikipedia.org/wiki/February_2013_North_American_blizzard). Many flights were cancelled due to extreme weather conditions. Identify the proportion of cancelled flights out of LaGuardia Airport (LGA) during the days that jumped out at you for each airline carrier in descending order. *1 point*"
      ]
    },
    {
      "cell_type": "code",
      "execution_count": 5,
      "metadata": {
        "id": "lZsmOBdMr3yf",
        "vscode": {
          "languageId": "r"
        },
        "colab": {
          "base_uri": "https://localhost:8080/",
          "height": 474
        },
        "outputId": "13ebb988-4a19-44cc-c1cb-c064608404cf"
      },
      "outputs": [
        {
          "output_type": "display_data",
          "data": {
            "text/html": [
              "<table class=\"dataframe\">\n",
              "<caption>A tibble: 12 × 2</caption>\n",
              "<thead>\n",
              "\t<tr><th scope=col>carrier</th><th scope=col>prop_miss_dep_time</th></tr>\n",
              "\t<tr><th scope=col>&lt;chr&gt;</th><th scope=col>&lt;dbl&gt;</th></tr>\n",
              "</thead>\n",
              "<tbody>\n",
              "\t<tr><td>9E</td><td>0.6666667</td></tr>\n",
              "\t<tr><td>AA</td><td>0.4305556</td></tr>\n",
              "\t<tr><td>B6</td><td>0.5000000</td></tr>\n",
              "\t<tr><td>DL</td><td>0.6120690</td></tr>\n",
              "\t<tr><td>EV</td><td>0.5000000</td></tr>\n",
              "\t<tr><td>F9</td><td>0.5000000</td></tr>\n",
              "\t<tr><td>FL</td><td>0.5238095</td></tr>\n",
              "\t<tr><td>MQ</td><td>0.6000000</td></tr>\n",
              "\t<tr><td>UA</td><td>0.5625000</td></tr>\n",
              "\t<tr><td>US</td><td>0.5593220</td></tr>\n",
              "\t<tr><td>WN</td><td>0.4444444</td></tr>\n",
              "\t<tr><td>YV</td><td>1.0000000</td></tr>\n",
              "</tbody>\n",
              "</table>\n"
            ],
            "text/markdown": "\nA tibble: 12 × 2\n\n| carrier &lt;chr&gt; | prop_miss_dep_time &lt;dbl&gt; |\n|---|---|\n| 9E | 0.6666667 |\n| AA | 0.4305556 |\n| B6 | 0.5000000 |\n| DL | 0.6120690 |\n| EV | 0.5000000 |\n| F9 | 0.5000000 |\n| FL | 0.5238095 |\n| MQ | 0.6000000 |\n| UA | 0.5625000 |\n| US | 0.5593220 |\n| WN | 0.4444444 |\n| YV | 1.0000000 |\n\n",
            "text/latex": "A tibble: 12 × 2\n\\begin{tabular}{ll}\n carrier & prop\\_miss\\_dep\\_time\\\\\n <chr> & <dbl>\\\\\n\\hline\n\t 9E & 0.6666667\\\\\n\t AA & 0.4305556\\\\\n\t B6 & 0.5000000\\\\\n\t DL & 0.6120690\\\\\n\t EV & 0.5000000\\\\\n\t F9 & 0.5000000\\\\\n\t FL & 0.5238095\\\\\n\t MQ & 0.6000000\\\\\n\t UA & 0.5625000\\\\\n\t US & 0.5593220\\\\\n\t WN & 0.4444444\\\\\n\t YV & 1.0000000\\\\\n\\end{tabular}\n",
            "text/plain": [
              "   carrier prop_miss_dep_time\n",
              "1  9E      0.6666667         \n",
              "2  AA      0.4305556         \n",
              "3  B6      0.5000000         \n",
              "4  DL      0.6120690         \n",
              "5  EV      0.5000000         \n",
              "6  F9      0.5000000         \n",
              "7  FL      0.5238095         \n",
              "8  MQ      0.6000000         \n",
              "9  UA      0.5625000         \n",
              "10 US      0.5593220         \n",
              "11 WN      0.4444444         \n",
              "12 YV      1.0000000         "
            ]
          },
          "metadata": {}
        }
      ],
      "source": [
        "# Your solution here\n",
        "#flights_week %>% group_by(month, day, carrier) %>% filter(month == 2 & (day == 8| day == 9) & origin == \"LGA\") %>%\n",
        " # group_by(carrier) %>% summarize(cancelled_flight_prop = (sum(is.na(dep_time)))/n()) %>% print\n",
        "flights_week %>% filter(week == 6 & day %in% c(8, 9) & origin == \"LGA\") %>%\n",
        "  group_by(carrier) %>%\n",
        "  summarize(prop_miss_dep_time = mean(is.na(dep_time)))"
      ]
    },
    {
      "cell_type": "markdown",
      "metadata": {
        "deletable": false,
        "editable": false,
        "id": "yHugOItnr3yf",
        "run_control": {
          "frozen": true
        }
      },
      "source": [
        "**(d)** In your own words, summarize your findings from the previous exercises. Most importantly, comment on which airlines were the most and least cautious in terms of flight cancellations. Can you think of any reason why this might be? *1 point*"
      ]
    },
    {
      "cell_type": "markdown",
      "source": [
        "Shown above, American Airlines has the smallest proportion of cancelled flights during the blizzard, whereas Mesa Airlines had all of their flights cancelled that were coming out of LGA. Firstly, there were probably a lot more American Airlines flights than Mesa Airlines flights, which would cause American Airlines' proportion to be significantly smaller, as all of the flights could not have been cancelled. Also, since Mesa Airlines is mainly based in Arizona, the pilots may be less experienced in flying in blizzards, which therefore would cause the flights to get cancelled."
      ],
      "metadata": {
        "id": "dfDAoS355qsE"
      }
    },
    {
      "cell_type": "markdown",
      "metadata": {
        "deletable": false,
        "editable": false,
        "id": "pZUVh_a9r3yf",
        "run_control": {
          "frozen": true
        }
      },
      "source": [
        "## Problem 2: Graduate school admissions (4 points)\n",
        "This problem studies a built-in dataset called `UCBAdmissions`. It contains graduate school admissions data from 1973 for six departments at UC Berkeley:"
      ]
    },
    {
      "cell_type": "code",
      "execution_count": 6,
      "metadata": {
        "deletable": false,
        "editable": false,
        "id": "Y1n4YDQ8r3yg",
        "vscode": {
          "languageId": "r"
        },
        "colab": {
          "base_uri": "https://localhost:8080/"
        },
        "outputId": "453a8d47-e8ae-4d1a-8e5f-893eb2e00e9e"
      },
      "outputs": [
        {
          "output_type": "stream",
          "name": "stdout",
          "text": [
            "\u001b[90m# A tibble: 24 × 4\u001b[39m\n",
            "   Admit    Gender Dept      n\n",
            "   \u001b[3m\u001b[90m<chr>\u001b[39m\u001b[23m    \u001b[3m\u001b[90m<chr>\u001b[39m\u001b[23m  \u001b[3m\u001b[90m<chr>\u001b[39m\u001b[23m \u001b[3m\u001b[90m<dbl>\u001b[39m\u001b[23m\n",
            "\u001b[90m 1\u001b[39m Admitted Male   A       512\n",
            "\u001b[90m 2\u001b[39m Rejected Male   A       313\n",
            "\u001b[90m 3\u001b[39m Admitted Female A        89\n",
            "\u001b[90m 4\u001b[39m Rejected Female A        19\n",
            "\u001b[90m 5\u001b[39m Admitted Male   B       353\n",
            "\u001b[90m 6\u001b[39m Rejected Male   B       207\n",
            "\u001b[90m 7\u001b[39m Admitted Female B        17\n",
            "\u001b[90m 8\u001b[39m Rejected Female B         8\n",
            "\u001b[90m 9\u001b[39m Admitted Male   C       120\n",
            "\u001b[90m10\u001b[39m Rejected Male   C       205\n",
            "\u001b[90m# ℹ 14 more rows\u001b[39m\n"
          ]
        }
      ],
      "source": [
        "data(UCBAdmissions)\n",
        "ucb <- as_tibble(UCBAdmissions) %>% print"
      ]
    },
    {
      "cell_type": "markdown",
      "metadata": {
        "deletable": false,
        "editable": false,
        "id": "1-vvEj5zr3yg",
        "run_control": {
          "frozen": true
        }
      },
      "source": [
        "(For privacy reasons the names of the departments have been changed to `A`, `B`, ... , `F`.)"
      ]
    },
    {
      "cell_type": "markdown",
      "metadata": {
        "deletable": false,
        "editable": false,
        "id": "FW-zL6O4r3yg",
        "run_control": {
          "frozen": true
        }
      },
      "source": [
        "**(a)**\n",
        "Using the tool we learned for summarizing and manipulating tidy data, create a summary table from `ucb` which shows the acceptance rate by gender. Your table should have 5 columns: `Department`, `Gender`, `Admitted`, `Rejected`, and `Proportion Admitted`. Store it in a variable called `table3a`. *1 point*\n",
        "\n",
        "<table>\n",
        "<thead><tr><th scope=\"col\">Department</th><th scope=\"col\">Gender</th><th scope=\"col\">Admitted</th><th scope=\"col\">Rejected</th><th scope=\"col\">Proportion_Admitted</th></tr></thead>\n",
        "<tbody>\n",
        "\t<tr><td>A</td> <td>Female   </td><td> &dash;     </td><td>&dash;     </td><td>&dash;</td></tr>\n",
        "\t<tr><td>A</td> <td>Male   </td><td> &dash;     </td><td>&dash;     </td><td>&dash;</td></tr>\n",
        "\t\t<tr><td>B</td> <td>Female   </td><td> &dash;     </td><td>&dash;     </td><td>&dash;</td></tr>\n",
        "\t\t\t<tr><td>B</td> <td>Male   </td><td> &dash;     </td><td>&dash;     </td><td>&dash;</td></tr>\n",
        "\t\t\t\t<tr><td>C</td> <td>Female   </td><td> &dash;     </td><td>&dash;     </td><td>&dash;</td></tr>\n",
        "\t\t\t\t\t<tr><td>C</td> <td>Male   </td><td> &dash;     </td><td>&dash;     </td><td>&dash;</td></tr>\n",
        "\t\t\t\t\t\t<tr><td>D</td> <td>Female   </td><td> &dash;     </td><td>&dash;     </td><td>&dash;</td></tr>\n",
        "\t\t\t\t\t\t\t<tr><td>D</td> <td>Male   </td><td> &dash;     </td><td>&dash;     </td><td>&dash;</td></tr>\n",
        "\t\t\t\t\t\t\t\t<tr><td>E</td> <td>Female   </td><td> &dash;     </td><td>&dash;     </td><td>&dash;</td></tr> \t<tr><td>E</td> <td>Male   </td><td> &dash;     </td><td>&dash;     </td><td>&dash;</td></tr> \t<tr><td>F</td> <td>Female   </td><td> &dash;     </td><td>&dash;     </td><td>&dash;</td></tr> \t<tr><td>F</td> <td>Male   </td><td> &dash;     </td><td>&dash;     </td><td>&dash;</td></tr>\n",
        "</tbody>\n",
        "</table>\n",
        "\n",
        "(A few entries have been provided for you; your job is to write code that will produce the complete table with no blanks.)"
      ]
    },
    {
      "cell_type": "code",
      "execution_count": 7,
      "metadata": {
        "id": "-lcDg4LA8zoc",
        "vscode": {
          "languageId": "r"
        },
        "colab": {
          "base_uri": "https://localhost:8080/"
        },
        "outputId": "4c4baaa5-eb96-402f-e48c-d8db59c7b2f1"
      },
      "outputs": [
        {
          "output_type": "stream",
          "name": "stderr",
          "text": [
            "\u001b[1m\u001b[22m`summarise()` has grouped output by 'Dept'. You can override using the\n",
            "`.groups` argument.\n"
          ]
        },
        {
          "output_type": "stream",
          "name": "stdout",
          "text": [
            "\u001b[90m# A tibble: 12 × 5\u001b[39m\n",
            "\u001b[90m# Groups:   Dept [6]\u001b[39m\n",
            "   Dept  Gender Admitted Rejected Proportion_Admitted\n",
            "   \u001b[3m\u001b[90m<chr>\u001b[39m\u001b[23m \u001b[3m\u001b[90m<chr>\u001b[39m\u001b[23m     \u001b[3m\u001b[90m<dbl>\u001b[39m\u001b[23m    \u001b[3m\u001b[90m<dbl>\u001b[39m\u001b[23m               \u001b[3m\u001b[90m<dbl>\u001b[39m\u001b[23m\n",
            "\u001b[90m 1\u001b[39m A     Female       89       19              0.824 \n",
            "\u001b[90m 2\u001b[39m A     Male        512      313              0.621 \n",
            "\u001b[90m 3\u001b[39m B     Female       17        8              0.68  \n",
            "\u001b[90m 4\u001b[39m B     Male        353      207              0.630 \n",
            "\u001b[90m 5\u001b[39m C     Female      202      391              0.341 \n",
            "\u001b[90m 6\u001b[39m C     Male        120      205              0.369 \n",
            "\u001b[90m 7\u001b[39m D     Female      131      244              0.349 \n",
            "\u001b[90m 8\u001b[39m D     Male        138      279              0.331 \n",
            "\u001b[90m 9\u001b[39m E     Female       94      299              0.239 \n",
            "\u001b[90m10\u001b[39m E     Male         53      138              0.277 \n",
            "\u001b[90m11\u001b[39m F     Female       24      317              0.070\u001b[4m4\u001b[24m\n",
            "\u001b[90m12\u001b[39m F     Male         22      351              0.059\u001b[4m0\u001b[24m\n"
          ]
        }
      ],
      "source": [
        "# Your solution here\n",
        "#table3a <- ucb %>% group_by(Dept, Gender) %>% spread(key = Admit, value = n) %>%\n",
        " # summarize(Admitted = sum(Admitted), Rejected = sum(Rejected),\n",
        "  #      `Proportion_Admitted` = Admitted / sum(Admitted, Rejected))\n",
        "#print(table3a)\n",
        "table2a <- ucb %>% group_by(Dept, Gender) %>%\n",
        "  summarize(Admitted = n[Admit == \"Admitted\"], \n",
        "Rejected = n[Admit == \"Rejected\"],\n",
        "Proportion_Admitted = Admitted/(Admitted + Rejected)) %>% print"
      ]
    },
    {
      "cell_type": "markdown",
      "metadata": {
        "deletable": false,
        "editable": false,
        "id": "nLmq3MuWr3yg",
        "run_control": {
          "frozen": true
        }
      },
      "source": [
        "**(b)**\n",
        "In STATS 250 you [learned](https://www.youtube.com/watch?v=6gfMhsWmnwk) how to test for differences in proportions between two populations. Apply this to part (a) `table3a`. Was the overall proportion of men admitted statistically different from that of women? Perform an appropriate test and interpret your findings. What do these result suggest about admissions practices at UC Berkeley in the early 1970s? *1 point*\n",
        "\n",
        "(Hint: use the `prop.test()` function.)"
      ]
    },
    {
      "cell_type": "code",
      "execution_count": 8,
      "metadata": {
        "id": "saP5JKhjen2O",
        "vscode": {
          "languageId": "r"
        },
        "colab": {
          "base_uri": "https://localhost:8080/",
          "height": 231
        },
        "outputId": "5d11853d-57bd-40ad-e092-b57d84766b02"
      },
      "outputs": [
        {
          "output_type": "display_data",
          "data": {
            "text/plain": [
              "\n",
              "\t2-sample test for equality of proportions with continuity correction\n",
              "\n",
              "data:  c(sum(table2b$Admitted[table2b$Gender == \"Male\"]), sum(table2b$Admitted[table2b$Gender == \"Female\"])) out of c(sum(ucb$n[ucb$Gender == \"Male\"]), sum(ucb$n[ucb$Gender == \"Female\"]))\n",
              "X-squared = 91.61, df = 1, p-value < 2.2e-16\n",
              "alternative hypothesis: two.sided\n",
              "95 percent confidence interval:\n",
              " 0.1129887 0.1703022\n",
              "sample estimates:\n",
              "   prop 1    prop 2 \n",
              "0.4451877 0.3035422 \n"
            ]
          },
          "metadata": {}
        }
      ],
      "source": [
        "# You solution here\n",
        "#table3x <- ucb %>% group_by(Gender) %>% spread(key = Admit, value = n) %>% \n",
        " # summarize(Admitted = sum(Admitted), Rejected = sum(Rejected), total = Admitted + Rejected)\n",
        "#print(table3x)\n",
        "#prop.test(x = c(557, 1198), n=c(1835, 2691))\n",
        "table2b <- table2a %>%\n",
        "  group_by(Dept, Gender) %>%\n",
        "  summarize(Admitted = sum(Admitted),\n",
        "Rejected = sum(Rejected),\n",
        "Proportion_Admitted = Admitted/(Admitted + Rejected), .groups=\"drop\")\n",
        "prop.test(x=c(sum(table2b$Admitted[table2b$Gender == \"Male\"]),\n",
        "sum(table2b$Admitted[table2b$Gender == \"Female\"])),\n",
        "n=c(sum(ucb$n[ucb$Gender == \"Male\"]),\n",
        "sum(ucb$n[ucb$Gender == \"Female\"])))"
      ]
    },
    {
      "cell_type": "markdown",
      "metadata": {
        "deletable": false,
        "editable": false,
        "id": "MqYcugDnr3yg",
        "run_control": {
          "frozen": true
        }
      },
      "source": [
        "**(c)**\n",
        "Reproduce the table from Problem 1, but now stratify by department. \n",
        "Compute the male and female acceptance proportion for each department separately. *1 point*\n",
        "\n",
        "Your resulting table should look like:\n",
        "\n",
        "\n",
        "<table>\n",
        "<thead><tr><th scope=\"col\">Dept</th><th scope=\"col\">Female_Admitted</th><th scope=\"col\">Female_Rejected</th><th scope=\"col\">Male_Admitted</th><th scope=\"col\">Male_Rejected</th><th scope=\"col\">Male_Proportion_Admitted</th><th scope=\"col\">Female_Proportion_Admitted</th></tr></thead>\n",
        "<tbody>\n",
        "\t<tr><td>A         </td><td> 89      </td><td> &dash;       </td><td>&dash;       </td><td>&dash;       </td><td>&dash;</td><td>&dash;</td></tr>\n",
        "\t<tr><td>B         </td><td> &dash;       </td><td>  &dash;       </td><td>353</td><td>&dash;       </td><td>&dash;</td><td>&dash;</td></tr>\n",
        "\t<tr><td>C         </td><td> &dash;       </td><td>  391\t     </td><td>&dash;</td><td>&dash;       </td><td>&dash;</td><td>&dash;</td></tr>\n",
        "\t<tr><td>D         </td><td> &dash;       </td><td>  &dash;       </td><td>&dash;</td><td>&dash;       </td><td>0.33093525\t</td><td>&dash;</td></tr>\n",
        "\t<tr><td>E         </td><td> &dash;       </td><td>  &dash;       </td><td>&dash;</td><td>138       </td><td>&dash;</td><td>&dash;</td></tr>\n",
        " \t<tr><td>F         </td><td> &dash;       </td><td>  &dash;       </td><td>&dash;</td><td>&dash;       </td><td>&dash;</td><td>0.07038123</td></tr>\n",
        "\n",
        "</tbody>\n",
        "</table>\n",
        "\n",
        "(Again, a few table entries have been provided to help you check your work, and it is your job to provide code that computes the entire table automatically.)"
      ]
    },
    {
      "cell_type": "code",
      "execution_count": null,
      "metadata": {
        "id": "p7jNvKIS8qvl",
        "vscode": {
          "languageId": "r"
        },
        "colab": {
          "base_uri": "https://localhost:8080/"
        },
        "outputId": "31e36838-c350-4b81-c7bb-e9968763bbad"
      },
      "outputs": [
        {
          "output_type": "stream",
          "name": "stdout",
          "text": [
            "\u001b[90m# A tibble: 6 × 7\u001b[39m\n",
            "  Dept  Female_Admitted Female_Rejected Male_Admitted Male_Rej…¹ Male_…² Femal…³\n",
            "  \u001b[3m\u001b[90m<chr>\u001b[39m\u001b[23m \u001b[3m\u001b[90m<chr>\u001b[39m\u001b[23m           \u001b[3m\u001b[90m<chr>\u001b[39m\u001b[23m           \u001b[3m\u001b[90m<chr>\u001b[39m\u001b[23m         \u001b[3m\u001b[90m<chr>\u001b[39m\u001b[23m      \u001b[3m\u001b[90m<chr>\u001b[39m\u001b[23m   \u001b[3m\u001b[90m<chr>\u001b[39m\u001b[23m  \n",
            "\u001b[90m1\u001b[39m A     89              19              512           313        0.6206… 0.8240…\n",
            "\u001b[90m2\u001b[39m B     17              8               353           207        0.6303… 0.68   \n",
            "\u001b[90m3\u001b[39m C     202             391             120           205        0.3692… 0.3406…\n",
            "\u001b[90m4\u001b[39m D     131             244             138           279        0.3309… 0.3493…\n",
            "\u001b[90m5\u001b[39m E     94              299             53            138        0.2774… 0.2391…\n",
            "\u001b[90m6\u001b[39m F     24              317             22            351        0.0589… 0.0703…\n",
            "\u001b[90m# … with abbreviated variable names ¹​Male_Rejected, ²​Male_Proportion_Admitted,\u001b[39m\n",
            "\u001b[90m#   ³​Female_Proportion_Admitted\u001b[39m\n"
          ]
        }
      ],
      "source": [
        "# Your solution here\n",
        "table3a %>% unite(col = 'totals', Admitted: `Proportion_Admitted`) %>%\n",
        "  spread(key = Gender, value = totals) %>%\n",
        "  separate(Female, into = paste0('Female', 1:3), sep = '_') %>%\n",
        "  separate(Male, into = paste0('Male', 1:3), sep = '_') %>%\n",
        "  rename('Female_Admitted' = Female1, 'Female_Rejected' = Female2,\n",
        "'Male_Admitted' = Male1, 'Male_Rejected' = Male2,\n",
        "'Female_Proportion_Admitted' = Female3,\n",
        "'Male_Proportion_Admitted' = Male3) %>%\n",
        "  summarize(Dept, Female_Admitted, Female_Rejected, Male_Admitted, \n",
        "Male_Rejected, `Male_Proportion_Admitted`, `Female_Proportion_Admitted`) %>% print"
      ]
    },
    {
      "cell_type": "markdown",
      "metadata": {
        "deletable": false,
        "editable": false,
        "id": "m2oat3gEr3yg",
        "run_control": {
          "frozen": true
        }
      },
      "source": [
        "**(d)**\n",
        "Do the department-level findings in part (c) agree or disagree with what you concluded in part (b)? Which departments agree with your conclusion in part (b) and which disagree? **Explain with numerical evidence for full credit.** *1 point*"
      ]
    },
    {
      "cell_type": "code",
      "execution_count": null,
      "metadata": {
        "id": "rZRijAsF9_u3"
      },
      "outputs": [],
      "source": [
        "# Your solution here\n",
        "# The department-level findings in part c, for the most part, agree with what I concluded in part b. Part b proved that the \n",
        "# there is very strong evidence that there is a difference in proportions between the female and male admitted. Also, part b provided\n",
        "# a confidence interval of (-0.170, -0.113), which further means that there is a difference in proportions, but more so that\n",
        "# the proportion of females admitted is greater than the proportion of males admitted. Adding to this evidence, departments A, B, D, \n",
        "# and F show that the female proportion admitted is greater than the male proportion admitted. For example, department A has an admitted\n",
        "# female proportion of 0.824, whereas for male it is only 0.621. This further adds to the evidence that females having a greater \n",
        "# admitted proportion. However, departments C and D having a greater proportion for males than females, which disagrees with the \n",
        "# conclusion in part b. Despite these two departments, overall it seems that there is a difference between males and females admitted,\n",
        "# and that the proportion for females is higher."
      ]
    },
    {
      "cell_type": "markdown",
      "metadata": {
        "deletable": false,
        "editable": false,
        "id": "Bhxx8GT5r3yh",
        "nbgrader": {
          "grade": false,
          "grade_id": "cell-9ea1f017dd33edff",
          "locked": true,
          "schema_version": 3,
          "solution": false
        },
        "run_control": {
          "frozen": true
        }
      },
      "source": [
        "## Problem 3: Popular Baby Names of the Decade (2 points)\n",
        "Recall from lecture the `babynames` dataset that contains a lot of information about frequency of baby names over time."
      ]
    },
    {
      "cell_type": "code",
      "execution_count": 9,
      "metadata": {
        "deletable": false,
        "editable": false,
        "id": "PNuX11rkr3yh",
        "vscode": {
          "languageId": "r"
        },
        "colab": {
          "base_uri": "https://localhost:8080/"
        },
        "outputId": "4fa3923d-b70d-40a6-b22f-024de49339e3"
      },
      "outputs": [
        {
          "output_type": "stream",
          "name": "stderr",
          "text": [
            "Installing package into ‘/usr/local/lib/R/site-library’\n",
            "(as ‘lib’ is unspecified)\n",
            "\n"
          ]
        }
      ],
      "source": [
        "install.packages(\"babynames\")\n",
        "library(babynames)"
      ]
    },
    {
      "cell_type": "markdown",
      "metadata": {
        "deletable": false,
        "editable": false,
        "id": "V933LtNUr3yh",
        "run_control": {
          "frozen": true
        }
      },
      "source": [
        "**(a)** Generate a table that has **decade** on the vertical axis, and the most popular male **and** female name of each decade. A decade will be definied by the years ___0 - ___9. So for example, 1880-1889 is a decade followed by 1890-1899, etc. *1 point*\n",
        "\n",
        "Hint: The `cut()` function can be used to \"discretize\" a continuous variable by placing each continuous observation into a bin. For example:"
      ]
    },
    {
      "cell_type": "code",
      "execution_count": null,
      "metadata": {
        "deletable": false,
        "editable": false,
        "id": "8xALsh1j9_u3",
        "colab": {
          "base_uri": "https://localhost:8080/",
          "height": 52
        },
        "outputId": "ffff2dd6-fef1-4f83-aea0-0a59c78aa6f1"
      },
      "outputs": [
        {
          "output_type": "display_data",
          "data": {
            "text/html": [
              "<style>\n",
              ".list-inline {list-style: none; margin:0; padding: 0}\n",
              ".list-inline>li {display: inline-block}\n",
              ".list-inline>li:not(:last-child)::after {content: \"\\00b7\"; padding: 0 .5ex}\n",
              "</style>\n",
              "<ol class=list-inline><li>(0,5]</li><li>(0,5]</li><li>(0,5]</li><li>(0,5]</li><li>(0,5]</li><li>(5,10]</li><li>(5,10]</li><li>(5,10]</li><li>(5,10]</li><li>(5,10]</li></ol>\n",
              "\n",
              "<details>\n",
              "\t<summary style=display:list-item;cursor:pointer>\n",
              "\t\t<strong>Levels</strong>:\n",
              "\t</summary>\n",
              "\t<style>\n",
              "\t.list-inline {list-style: none; margin:0; padding: 0}\n",
              "\t.list-inline>li {display: inline-block}\n",
              "\t.list-inline>li:not(:last-child)::after {content: \"\\00b7\"; padding: 0 .5ex}\n",
              "\t</style>\n",
              "\t<ol class=list-inline><li>'(0,5]'</li><li>'(5,10]'</li></ol>\n",
              "</details>"
            ],
            "text/markdown": "1. (0,5]\n2. (0,5]\n3. (0,5]\n4. (0,5]\n5. (0,5]\n6. (5,10]\n7. (5,10]\n8. (5,10]\n9. (5,10]\n10. (5,10]\n\n\n\n**Levels**: 1. '(0,5]'\n2. '(5,10]'\n\n\n",
            "text/latex": "\\begin{enumerate*}\n\\item (0,5{]}\n\\item (0,5{]}\n\\item (0,5{]}\n\\item (0,5{]}\n\\item (0,5{]}\n\\item (5,10{]}\n\\item (5,10{]}\n\\item (5,10{]}\n\\item (5,10{]}\n\\item (5,10{]}\n\\end{enumerate*}\n\n\\emph{Levels}: \\begin{enumerate*}\n\\item '(0,5{]}'\n\\item '(5,10{]}'\n\\end{enumerate*}\n",
            "text/plain": [
              " [1] (0,5]  (0,5]  (0,5]  (0,5]  (0,5]  (5,10] (5,10] (5,10] (5,10] (5,10]\n",
              "Levels: (0,5] (5,10]"
            ]
          },
          "metadata": {}
        }
      ],
      "source": [
        "v = 1:10  # vector of the numbers 1 through 10\n",
        "cut(v, breaks=c(0, 5, 10))"
      ]
    },
    {
      "cell_type": "markdown",
      "metadata": {
        "deletable": false,
        "editable": false,
        "run_control": {
          "frozen": true
        },
        "id": "DMnRuKxr9_u3"
      },
      "source": [
        "converts the vector $v=(1, \\dots, 10)$ into a *factor* (discrete variable) that has two levels: $(0,5]$ and $(5, 10]$."
      ]
    },
    {
      "cell_type": "code",
      "execution_count": 10,
      "metadata": {
        "id": "ABjgFN7UcE_F",
        "vscode": {
          "languageId": "r"
        },
        "colab": {
          "base_uri": "https://localhost:8080/"
        },
        "outputId": "575ba7b7-ef9f-4342-d9c6-fe08f49cba7f"
      },
      "outputs": [
        {
          "output_type": "stream",
          "name": "stderr",
          "text": [
            "\u001b[1m\u001b[22mSelecting by n\n"
          ]
        },
        {
          "output_type": "stream",
          "name": "stdout",
          "text": [
            "\u001b[90m# A tibble: 14 × 3\u001b[39m\n",
            "\u001b[90m# Groups:   decade [14]\u001b[39m\n",
            "   decade    F        M      \n",
            "   \u001b[3m\u001b[90m<fct>\u001b[39m\u001b[23m     \u001b[3m\u001b[90m<chr>\u001b[39m\u001b[23m    \u001b[3m\u001b[90m<chr>\u001b[39m\u001b[23m  \n",
            "\u001b[90m 1\u001b[39m 1880-1889 Mary     John   \n",
            "\u001b[90m 2\u001b[39m 1890-1899 Mary     John   \n",
            "\u001b[90m 3\u001b[39m 1900-1909 Mary     John   \n",
            "\u001b[90m 4\u001b[39m 1910-1919 Mary     John   \n",
            "\u001b[90m 5\u001b[39m 1920-1929 Mary     Robert \n",
            "\u001b[90m 6\u001b[39m 1930-1939 Mary     Robert \n",
            "\u001b[90m 7\u001b[39m 1940-1949 Mary     James  \n",
            "\u001b[90m 8\u001b[39m 1950-1959 Mary     James  \n",
            "\u001b[90m 9\u001b[39m 1960-1969 Lisa     Michael\n",
            "\u001b[90m10\u001b[39m 1970-1979 Jennifer Michael\n",
            "\u001b[90m11\u001b[39m 1980-1989 Jessica  Michael\n",
            "\u001b[90m12\u001b[39m 1990-1999 Jessica  Michael\n",
            "\u001b[90m13\u001b[39m 2000-2009 Emily    Jacob  \n",
            "\u001b[90m14\u001b[39m 2010-2019 Emma     Noah   \n"
          ]
        }
      ],
      "source": [
        "# Your solution here\n",
        "#year_decade <- list(list(1880, 1890, \"1880s\"), list(1890, 1899, \"1890s\"), list(1900, 1909, \"1900s\"), list(1910, 1919, \"1910s\"),\n",
        "#list(1920, 1929, \"1920s\"), list(1930, 1939, \"1930s\"), list(1940, 1949, \"1940s\"), list(1950, 1959, \"1950s\"), list(1960, 1969, \"1960s\"),\n",
        "#list(1970, 1979, \"1970s\"), list(1980, 1989, \"1980s\"), list(1990, 1999, \"1990s\"), list(2000, 2009, \"2000s\"), list(2010, 2019, \"2010s\"))\n",
        "#babynames$decades = NA\n",
        "#for(value in year_decade){\n",
        " # babynames$decades[babynames$year >= value[[1]] & babynames$year <= value[[2]]] = value[[3]]\n",
        "#}\n",
        "#most_popular <- babynames %>% group_by(decades, sex) %>% filter(n == max(n, na.rm=TRUE))\n",
        "#print(most_popular)\n",
        "br <- seq(1800, 2049, 10)\n",
        "babynames_of_the_decade <- babynames %>%\n",
        "  mutate(decade=cut(year, breaks=br, labels=head(paste0(br, \"-\", br + 9), -1), right=F)) %>%\n",
        "  count(name, sex, decade, wt = n) %>% group_by(sex, decade) %>% top_n(1) %>%\n",
        "  select(decade, sex, name) %>% pivot_wider(names_from=sex, values_from=name) %>%\n",
        "  arrange(decade) %>%\n",
        "  print"
      ]
    },
    {
      "cell_type": "markdown",
      "metadata": {
        "id": "eN-86xfOr3yh"
      },
      "source": [
        "**(b)** Do any names appear more than once? Write code that converts the table from part (a) into a dataframe with all the names that show up more than once. **Manual answers will not receive credit. Your code should automatically convert the table to a new one showing the duplicated names.** *1 point*"
      ]
    },
    {
      "cell_type": "code",
      "execution_count": 11,
      "metadata": {
        "id": "-UQqqY-7cIPc",
        "vscode": {
          "languageId": "r"
        },
        "colab": {
          "base_uri": "https://localhost:8080/"
        },
        "outputId": "25032b0e-3681-4b03-86dd-594ec7168772"
      },
      "outputs": [
        {
          "output_type": "stream",
          "name": "stdout",
          "text": [
            "\u001b[90m# A tibble: 2 × 1\u001b[39m\n",
            "\u001b[90m# Groups:   F [2]\u001b[39m\n",
            "  F      \n",
            "  \u001b[3m\u001b[90m<chr>\u001b[39m\u001b[23m  \n",
            "\u001b[90m1\u001b[39m Mary   \n",
            "\u001b[90m2\u001b[39m Jessica\n",
            "\u001b[90m# A tibble: 4 × 1\u001b[39m\n",
            "\u001b[90m# Groups:   M [4]\u001b[39m\n",
            "  M      \n",
            "  \u001b[3m\u001b[90m<chr>\u001b[39m\u001b[23m  \n",
            "\u001b[90m1\u001b[39m John   \n",
            "\u001b[90m2\u001b[39m Robert \n",
            "\u001b[90m3\u001b[39m James  \n",
            "\u001b[90m4\u001b[39m Michael\n"
          ]
        }
      ],
      "source": [
        "# Your solution here\n",
        "#new_df <- most_popular %>% group_by(name) %>% count(name) %>% filter(n>1)\n",
        "#print(new_df)\n",
        "repeat_female_names <- babynames_of_the_decade %>% \n",
        "  group_by(F) %>% filter(n() > 1) %>%\n",
        "    select(F) %>% unique %>% print\n",
        "repeat_male_names <- babynames_of_the_decade %>%\n",
        "  group_by(M) %>% filter(n() > 1) %>% select(M) %>% unique %>% print"
      ]
    }
  ],
  "metadata": {
    "celltoolbar": "Create Assignment",
    "colab": {
      "provenance": []
    },
    "kernelspec": {
      "display_name": "R",
      "language": "R",
      "name": "ir"
    },
    "language_info": {
      "codemirror_mode": "r",
      "file_extension": ".r",
      "mimetype": "text/x-r-source",
      "name": "R",
      "pygments_lexer": "r",
      "version": "4.2.1"
    }
  },
  "nbformat": 4,
  "nbformat_minor": 0
}