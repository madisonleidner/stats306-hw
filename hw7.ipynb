{
  "cells": [
    {
      "cell_type": "code",
      "execution_count": 1,
      "metadata": {
        "deletable": false,
        "editable": false,
        "id": "1SPCENz_KDM-",
        "nbgrader": {
          "grade": false,
          "grade_id": "cell-d1761bfdb43c7ec3",
          "locked": true,
          "schema_version": 3,
          "solution": false
        },
        "vscode": {
          "languageId": "r"
        },
        "colab": {
          "base_uri": "https://localhost:8080/"
        },
        "outputId": "55fe0d70-fa31-4d3c-945b-d517edd5556c"
      },
      "outputs": [
        {
          "output_type": "stream",
          "name": "stderr",
          "text": [
            "Installing package into ‘/usr/local/lib/R/site-library’\n",
            "(as ‘lib’ is unspecified)\n",
            "\n",
            "also installing the dependencies ‘textshaping’, ‘conflicted’, ‘jsonlite’, ‘ragg’, ‘stringr’\n",
            "\n",
            "\n",
            "Warning message in install.packages(\"tidyverse\"):\n",
            "“installation of package ‘textshaping’ had non-zero exit status”\n",
            "Warning message in install.packages(\"tidyverse\"):\n",
            "“installation of package ‘ragg’ had non-zero exit status”\n",
            "Warning message in install.packages(\"tidyverse\"):\n",
            "“installation of package ‘tidyverse’ had non-zero exit status”\n",
            "Downloading GitHub repo bradleyboehmke/harrypotter@HEAD\n",
            "\n"
          ]
        },
        {
          "output_type": "stream",
          "name": "stdout",
          "text": [
            "\u001b[36m──\u001b[39m \u001b[36mR CMD build\u001b[39m \u001b[36m─────────────────────────────────────────────────────────────────\u001b[39m\n",
            "* checking for file ‘/tmp/RtmpquI9Yi/remotes108978b530c8/bradleyboehmke-harrypotter-51f7146/DESCRIPTION’ ... OK\n",
            "* preparing ‘harrypotter’:\n",
            "* checking DESCRIPTION meta-information ... OK\n",
            "* checking for LF line-endings in source and make files and shell scripts\n",
            "* checking for empty or unneeded directories\n",
            "* building ‘harrypotter_0.1.0.tar.gz’\n",
            "\n"
          ]
        },
        {
          "output_type": "stream",
          "name": "stderr",
          "text": [
            "Installing package into ‘/usr/local/lib/R/site-library’\n",
            "(as ‘lib’ is unspecified)\n",
            "\n",
            "Installing package into ‘/usr/local/lib/R/site-library’\n",
            "(as ‘lib’ is unspecified)\n",
            "\n",
            "also installing the dependencies ‘Rcpp’, ‘SnowballC’, ‘janeaustenr’, ‘tokenizers’\n",
            "\n",
            "\n",
            "Warning message in system(\"timedatectl\", intern = TRUE):\n",
            "“running command 'timedatectl' had status 1”\n",
            "── \u001b[1mAttaching packages\u001b[22m ─────────────────────────────────────── tidyverse 1.3.1 ──\n",
            "\n",
            "\u001b[32m✔\u001b[39m \u001b[34mggplot2\u001b[39m 3.4.1     \u001b[32m✔\u001b[39m \u001b[34mpurrr  \u001b[39m 1.0.1\n",
            "\u001b[32m✔\u001b[39m \u001b[34mtibble \u001b[39m 3.2.1     \u001b[32m✔\u001b[39m \u001b[34mdplyr  \u001b[39m 1.1.1\n",
            "\u001b[32m✔\u001b[39m \u001b[34mtidyr  \u001b[39m 1.3.0     \u001b[32m✔\u001b[39m \u001b[34mstringr\u001b[39m 1.5.0\n",
            "\u001b[32m✔\u001b[39m \u001b[34mreadr  \u001b[39m 2.1.4     \u001b[32m✔\u001b[39m \u001b[34mforcats\u001b[39m 1.0.0\n",
            "\n",
            "── \u001b[1mConflicts\u001b[22m ────────────────────────────────────────── tidyverse_conflicts() ──\n",
            "\u001b[31m✖\u001b[39m \u001b[34mdplyr\u001b[39m::\u001b[32mfilter()\u001b[39m masks \u001b[34mstats\u001b[39m::filter()\n",
            "\u001b[31m✖\u001b[39m \u001b[34mdplyr\u001b[39m::\u001b[32mlag()\u001b[39m    masks \u001b[34mstats\u001b[39m::lag()\n",
            "\n"
          ]
        }
      ],
      "source": [
        "install.packages(\"tidyverse\")\n",
        "remotes::install_github(\"bradleyboehmke/harrypotter\")\n",
        "install.packages(\"tidytext\")\n",
        "library(tidyverse)\n",
        "library(stringr)\n",
        "options(jupyter.rich_display=T)\n",
        "library(harrypotter)\n",
        "library(tidytext)\n",
        "options(repr.plot.width=4, repr.plot.height=3)"
      ]
    },
    {
      "cell_type": "markdown",
      "metadata": {
        "deletable": false,
        "editable": false,
        "id": "i8VBJe1DLrKG",
        "run_control": {
          "frozen": true
        }
      },
      "source": [
        "# STATS 306\n",
        "## Homework 7: Text Analysis\n",
        "\n",
        "For each problem, enter the R code in the cell marked \"YOUR SOLUTION HERE\"."
      ]
    },
    {
      "cell_type": "markdown",
      "metadata": {
        "deletable": false,
        "editable": false,
        "id": "Yp7WT7I1KDNF",
        "nbgrader": {
          "grade": false,
          "grade_id": "cell-2be6421ceea97f78",
          "locked": true,
          "schema_version": 3,
          "solution": false,
          "task": false
        },
        "run_control": {
          "frozen": true
        }
      },
      "source": [
        "## Problem 1: Sentiment Analysis (4 points)\n",
        "\n",
        "In problem 1 we will perform *sentiment analysis* of the Harry Potter books. The file `afinn.RData` contains a sentiment score for a large number of words in the English language:"
      ]
    },
    {
      "cell_type": "code",
      "execution_count": 2,
      "metadata": {
        "colab": {
          "base_uri": "https://localhost:8080/",
          "height": 286
        },
        "deletable": false,
        "editable": false,
        "id": "rVaiwyOLKDNE",
        "nbgrader": {
          "grade": false,
          "grade_id": "cell-a0b1b3db5aa2f68d",
          "locked": true,
          "schema_version": 3,
          "solution": false,
          "task": false
        },
        "outputId": "06f11bff-0a7b-47ec-c819-070248d2c201",
        "vscode": {
          "languageId": "r"
        }
      },
      "outputs": [
        {
          "output_type": "display_data",
          "data": {
            "text/html": [
              "<table class=\"dataframe\">\n",
              "<caption>A tibble: 6 × 2</caption>\n",
              "<thead>\n",
              "\t<tr><th scope=col>word</th><th scope=col>value</th></tr>\n",
              "\t<tr><th scope=col>&lt;chr&gt;</th><th scope=col>&lt;dbl&gt;</th></tr>\n",
              "</thead>\n",
              "<tbody>\n",
              "\t<tr><td>abandon   </td><td>-2</td></tr>\n",
              "\t<tr><td>abandoned </td><td>-2</td></tr>\n",
              "\t<tr><td>abandons  </td><td>-2</td></tr>\n",
              "\t<tr><td>abducted  </td><td>-2</td></tr>\n",
              "\t<tr><td>abduction </td><td>-2</td></tr>\n",
              "\t<tr><td>abductions</td><td>-2</td></tr>\n",
              "</tbody>\n",
              "</table>\n"
            ],
            "text/markdown": "\nA tibble: 6 × 2\n\n| word &lt;chr&gt; | value &lt;dbl&gt; |\n|---|---|\n| abandon    | -2 |\n| abandoned  | -2 |\n| abandons   | -2 |\n| abducted   | -2 |\n| abduction  | -2 |\n| abductions | -2 |\n\n",
            "text/latex": "A tibble: 6 × 2\n\\begin{tabular}{ll}\n word & value\\\\\n <chr> & <dbl>\\\\\n\\hline\n\t abandon    & -2\\\\\n\t abandoned  & -2\\\\\n\t abandons   & -2\\\\\n\t abducted   & -2\\\\\n\t abduction  & -2\\\\\n\t abductions & -2\\\\\n\\end{tabular}\n",
            "text/plain": [
              "  word       value\n",
              "1 abandon    -2   \n",
              "2 abandoned  -2   \n",
              "3 abandons   -2   \n",
              "4 abducted   -2   \n",
              "5 abduction  -2   \n",
              "6 abductions -2   "
            ]
          },
          "metadata": {}
        }
      ],
      "source": [
        "load(url(\"https://datasets.stats306.org/afinn.RData\"))\n",
        "head(afinn)"
      ]
    },
    {
      "cell_type": "markdown",
      "metadata": {
        "deletable": false,
        "editable": false,
        "id": "eQZaf91hKDNE",
        "nbgrader": {
          "grade": false,
          "grade_id": "cell-fd453d3925b1ec23",
          "locked": true,
          "schema_version": 3,
          "solution": false,
          "task": false
        },
        "run_control": {
          "frozen": true
        }
      },
      "source": [
        "Negatively connoted words receive low scores, while positively connoted words receive high scores:"
      ]
    },
    {
      "cell_type": "code",
      "execution_count": 3,
      "metadata": {
        "colab": {
          "base_uri": "https://localhost:8080/",
          "height": 178
        },
        "deletable": false,
        "editable": false,
        "id": "GIRs7RepKDNF",
        "nbgrader": {
          "grade": false,
          "grade_id": "cell-727f2c40cd76f830",
          "locked": true,
          "schema_version": 3,
          "solution": false,
          "task": false
        },
        "outputId": "66b92932-03a0-4423-de34-3a35990d950d",
        "vscode": {
          "languageId": "r"
        }
      },
      "outputs": [
        {
          "output_type": "display_data",
          "data": {
            "text/html": [
              "<table class=\"dataframe\">\n",
              "<caption>A spec_tbl_df: 2 × 2</caption>\n",
              "<thead>\n",
              "\t<tr><th scope=col>word</th><th scope=col>value</th></tr>\n",
              "\t<tr><th scope=col>&lt;chr&gt;</th><th scope=col>&lt;dbl&gt;</th></tr>\n",
              "</thead>\n",
              "<tbody>\n",
              "\t<tr><td>death </td><td>-2</td></tr>\n",
              "\t<tr><td>hurrah</td><td> 5</td></tr>\n",
              "</tbody>\n",
              "</table>\n"
            ],
            "text/markdown": "\nA spec_tbl_df: 2 × 2\n\n| word &lt;chr&gt; | value &lt;dbl&gt; |\n|---|---|\n| death  | -2 |\n| hurrah |  5 |\n\n",
            "text/latex": "A spec\\_tbl\\_df: 2 × 2\n\\begin{tabular}{ll}\n word & value\\\\\n <chr> & <dbl>\\\\\n\\hline\n\t death  & -2\\\\\n\t hurrah &  5\\\\\n\\end{tabular}\n",
            "text/plain": [
              "  word   value\n",
              "1 death  -2   \n",
              "2 hurrah  5   "
            ]
          },
          "metadata": {}
        }
      ],
      "source": [
        "filter(afinn, word %in% c(\"death\", \"hurrah\"))"
      ]
    },
    {
      "cell_type": "markdown",
      "metadata": {
        "deletable": false,
        "editable": false,
        "id": "bnxGYxYuN0Va",
        "run_control": {
          "frozen": true
        }
      },
      "source": [
        "The `tidytext::unnest_tokens()` function can be used to break a chunk of text into \"tokens\" (words, sentences, etc.) It works as follows. Consider the following tibble, which contains all 17 chapters of the first book in the Harry Potter series:"
      ]
    },
    {
      "cell_type": "code",
      "execution_count": 4,
      "metadata": {
        "colab": {
          "base_uri": "https://localhost:8080/"
        },
        "deletable": false,
        "editable": false,
        "id": "afSFdPizKDNG",
        "nbgrader": {
          "grade": false,
          "grade_id": "cell-5720923eadb15f71",
          "locked": true,
          "schema_version": 3,
          "solution": false,
          "task": false
        },
        "outputId": "8f6c5e37-cb7b-44fc-e632-5d82c3c29f1a",
        "vscode": {
          "languageId": "r"
        }
      },
      "outputs": [
        {
          "output_type": "stream",
          "name": "stdout",
          "text": [
            "\u001b[90m# A tibble: 17 × 2\u001b[39m\n",
            "   chapter text                                                                 \n",
            "     \u001b[3m\u001b[90m<int>\u001b[39m\u001b[23m \u001b[3m\u001b[90m<chr>\u001b[39m\u001b[23m                                                                \n",
            "\u001b[90m 1\u001b[39m       1 \u001b[90m\"\u001b[39mTHE BOY WHO LIVED　　Mr. and Mrs. Dursley, of number four, Privet D…\n",
            "\u001b[90m 2\u001b[39m       2 \u001b[90m\"\u001b[39mTHE VANISHING GLASS　　Nearly ten years had passed since the Dursle…\n",
            "\u001b[90m 3\u001b[39m       3 \u001b[90m\"\u001b[39mTHE LETTERS FROM NO ONE　　The escape of the Brazilian boa constric…\n",
            "\u001b[90m 4\u001b[39m       4 \u001b[90m\"\u001b[39mTHE KEEPER OF THE KEYS　　BOOM. They knocked again. Dudley jerked a…\n",
            "\u001b[90m 5\u001b[39m       5 \u001b[90m\"\u001b[39mDIAGON ALLEY　　Harry woke early the next morning. Although he coul…\n",
            "\u001b[90m 6\u001b[39m       6 \u001b[90m\"\u001b[39mTHE JOURNEY FROM PLATFORM NINE AND THREE-QUARTERS　　Harry's last m…\n",
            "\u001b[90m 7\u001b[39m       7 \u001b[90m\"\u001b[39mTHE SORTING HAT　　The door swung open at once. A tall, black-haire…\n",
            "\u001b[90m 8\u001b[39m       8 \u001b[90m\"\u001b[39mTHE POTIONS MASTER　　There, look.\\\"　　\\\"Where?\\\"　　\\\"Next to the…\n",
            "\u001b[90m 9\u001b[39m       9 \u001b[90m\"\u001b[39mTHE MIDNIGHT DUEL　　Harry had never believed he would meet a boy h…\n",
            "\u001b[90m10\u001b[39m      10 \u001b[90m\"\u001b[39mHALLOWEEN　　Malfoy couldn't believe his eyes when he saw that Harr…\n",
            "\u001b[90m11\u001b[39m      11 \u001b[90m\"\u001b[39mQUIDDITCH　　As they entered November, the weather turned very cold…\n",
            "\u001b[90m12\u001b[39m      12 \u001b[90m\"\u001b[39mTHE MIRROR OF ERISED　　Christmas was coming. One morning in mid-De…\n",
            "\u001b[90m13\u001b[39m      13 \u001b[90m\"\u001b[39mNICOLAS FLAMEL　　Dumbledore had convinced Harry not to go looking …\n",
            "\u001b[90m14\u001b[39m      14 \u001b[90m\"\u001b[39mNORBERT THE NORWEGIAN RIDGEBACK　　Quirrell, however, must have bee…\n",
            "\u001b[90m15\u001b[39m      15 \u001b[90m\"\u001b[39mTHE FORIBIDDEN FOREST　　Things couldn't have been worse.　　Filch …\n",
            "\u001b[90m16\u001b[39m      16 \u001b[90m\"\u001b[39mTHROUGH THE TRAPDOOR　　In years to come, Harry would never quite r…\n",
            "\u001b[90m17\u001b[39m      17 \u001b[90m\"\u001b[39mTHE MAN WITH TWO FACES　　It was Quirrell.　　\\\"You!\\\" gasped Harry…\n"
          ]
        }
      ],
      "source": [
        "phil_tbl <- tibble(chapter=seq_along(philosophers_stone), \n",
        "                   text=philosophers_stone) %>% print"
      ]
    },
    {
      "cell_type": "markdown",
      "metadata": {
        "deletable": false,
        "editable": false,
        "id": "dF5BEX6KKDNG",
        "nbgrader": {
          "grade": false,
          "grade_id": "cell-6458005323726b6c",
          "locked": true,
          "schema_version": 3,
          "solution": false,
          "task": false
        },
        "run_control": {
          "frozen": true
        }
      },
      "source": [
        "To perform sentiment analysis, we need to break each chapter into words so that we can join it to the `afinn` table. This is what `unnest_tokens()` does:"
      ]
    },
    {
      "cell_type": "code",
      "execution_count": 5,
      "metadata": {
        "colab": {
          "base_uri": "https://localhost:8080/"
        },
        "deletable": false,
        "editable": false,
        "id": "k5JwDuDhKDNH",
        "nbgrader": {
          "grade": false,
          "grade_id": "cell-d9a1412ce1c67af4",
          "locked": true,
          "schema_version": 3,
          "solution": false,
          "task": false
        },
        "outputId": "fb1a54dc-3e59-42f1-b150-50ba3d69234c",
        "vscode": {
          "languageId": "r"
        }
      },
      "outputs": [
        {
          "output_type": "stream",
          "name": "stdout",
          "text": [
            "\u001b[90m# A tibble: 77,875 × 2\u001b[39m\n",
            "   chapter word   \n",
            "     \u001b[3m\u001b[90m<int>\u001b[39m\u001b[23m \u001b[3m\u001b[90m<chr>\u001b[39m\u001b[23m  \n",
            "\u001b[90m 1\u001b[39m       1 the    \n",
            "\u001b[90m 2\u001b[39m       1 boy    \n",
            "\u001b[90m 3\u001b[39m       1 who    \n",
            "\u001b[90m 4\u001b[39m       1 lived  \n",
            "\u001b[90m 5\u001b[39m       1 mr     \n",
            "\u001b[90m 6\u001b[39m       1 and    \n",
            "\u001b[90m 7\u001b[39m       1 mrs    \n",
            "\u001b[90m 8\u001b[39m       1 dursley\n",
            "\u001b[90m 9\u001b[39m       1 of     \n",
            "\u001b[90m10\u001b[39m       1 number \n",
            "\u001b[90m# ℹ 77,865 more rows\u001b[39m\n"
          ]
        }
      ],
      "source": [
        "phil_tok <- unnest_tokens(phil_tbl, input=text, output=word) %>% print"
      ]
    },
    {
      "cell_type": "markdown",
      "metadata": {
        "deletable": false,
        "editable": false,
        "id": "kPM1RnIKKDNH",
        "nbgrader": {
          "grade": false,
          "grade_id": "cell-f434554a9cb77230",
          "locked": true,
          "schema_version": 3,
          "solution": false,
          "task": false
        },
        "run_control": {
          "frozen": true
        }
      },
      "source": [
        "**1(a)** By joining this table to other tables containing text data and summarizing, we can generate scores of how positive or negative the text is. Using the table and `afinn`, we can assign sentiment scores to various portions of text. Generate a plot reflecting how the sentiment changes over 17 chapters of the first book in the Harry Potter series. What conclusion can you draw from the plot? (1 point)"
      ]
    },
    {
      "cell_type": "markdown",
      "source": [
        "Based on the plot below I can conclude that the beginning and end chapters appear to have lower sentiment scores compared to the middle chapters. It varies chapter to chapter, but this appears to be the overall trend."
      ],
      "metadata": {
        "id": "vkezNbaRo0cQ"
      }
    },
    {
      "cell_type": "code",
      "execution_count": 6,
      "metadata": {
        "id": "MnG3nbbBY8ps",
        "vscode": {
          "languageId": "r"
        },
        "colab": {
          "base_uri": "https://localhost:8080/",
          "height": 251
        },
        "outputId": "d23fa483-d69c-48b8-fc80-a772edf334ee"
      },
      "outputs": [
        {
          "output_type": "stream",
          "name": "stderr",
          "text": [
            "\u001b[1m\u001b[22mJoining with `by = join_by(word)`\n",
            "Warning message:\n",
            "“\u001b[1m\u001b[22mRemoved 1 row containing missing values (`geom_line()`).”\n"
          ]
        },
        {
          "output_type": "display_data",
          "data": {
            "text/plain": [
              "plot without title"
            ],
            "image/png": "[encoded data removed]"
          },
          "metadata": {
            "image/png": {
              "width": 240,
              "height": 180
            }
          }
        }
      ],
      "source": [
        "### YOUR SOLUTION HERE\n",
        "afinn %>% left_join(phil_tok) %>% group_by(chapter) %>% mutate(avg_score = mean(value, na.rm = TRUE)) %>% \n",
        "  select(chapter, avg_score) %>% unique() %>%\n",
        "  ggplot(aes(x=chapter, y=avg_score)) + geom_line()"
      ]
    },
    {
      "cell_type": "markdown",
      "metadata": {
        "deletable": false,
        "editable": false,
        "id": "-YSgb5cqKDNH",
        "nbgrader": {
          "grade": false,
          "grade_id": "cell-764bdd8bbd4ec469",
          "locked": true,
          "schema_version": 3,
          "solution": false,
          "task": false
        },
        "run_control": {
          "frozen": true
        }
      },
      "source": [
        "**1(b)**\n",
        "Some people say that the Harry Potter books became darker (more negative) over time. Use sentiment analysis to investigate this, and report your conclusion here. (1 point)\n",
        "\n",
        "**HINT**: A list of all the Harry Potter books can be obtained by looking at the help page for the `harrypotter` package."
      ]
    },
    {
      "cell_type": "markdown",
      "source": [
        "Based on the table below it doesn't appear that the Harry Potter books become more negative over time, as the average sentiment scores appears to stay pretty negative throughout all of the books."
      ],
      "metadata": {
        "id": "K0I_njR7N4-k"
      }
    },
    {
      "cell_type": "code",
      "execution_count": 9,
      "metadata": {
        "id": "dHoAejNaKDNH",
        "nbgrader": {
          "grade": true,
          "grade_id": "cell-456e0f9282dcf3e0",
          "locked": false,
          "points": 0,
          "schema_version": 3,
          "solution": true,
          "task": false
        },
        "vscode": {
          "languageId": "r"
        },
        "colab": {
          "base_uri": "https://localhost:8080/",
          "height": 413
        },
        "outputId": "63017dbe-0059-431f-e417-6b2cdda3a6f0"
      },
      "outputs": [
        {
          "output_type": "stream",
          "name": "stderr",
          "text": [
            "\u001b[1m\u001b[22m`summarise()` has grouped output by 'book'. You can override using the\n",
            "`.groups` argument.\n"
          ]
        },
        {
          "output_type": "display_data",
          "data": {
            "text/plain": [
              "plot without title"
            ],
            "image/png": "[encoded data removed]"
          },
          "metadata": {
            "image/png": {
              "width": 240,
              "height": 180
            }
          }
        },
        {
          "output_type": "display_data",
          "data": {
            "text/plain": [
              "plot without title"
            ],
            "image/png": "[encoded data removed]"
          },
          "metadata": {
            "image/png": {
              "width": 240,
              "height": 180
            }
          }
        }
      ],
      "source": [
        "### YOUR SOLUTION HERE\n",
        "#pris_tok <- unnest_tokens(tibble(chapter=seq_along(prisoner_of_azkaban), \n",
        "      #             text=prisoner_of_azkaban), input=text, output=word)\n",
        "#pris_avg <- afinn %>% left_join(pris_tok) %>% summarize(mean(value, na.rm = FALSE))\n",
        "#order_tok <- unnest_tokens(tibble(chapter=seq_along(order_of_the_phoenix), \n",
        " #                  text=order_of_the_phoenix), input=text, output=word) \n",
        "#order_avg <- afinn %>% left_join(order_tok) %>% summarize(mean(value, na.rm = FALSE))\n",
        "#half_tok <- unnest_tokens(tibble(chapter=seq_along(half_blood_prince), \n",
        " #                  text=half_blood_prince), input=text, output=word)\n",
        "#half_avg <- afinn %>% left_join(half_tok) %>% summarize(mean(value, na.rm = FALSE))\n",
        "#goblet_tok <- unnest_tokens(tibble(chapter=seq_along(goblet_of_fire), \n",
        " #                  text=goblet_of_fire), input=text, output=word)\n",
        "#goblet_avg <- afinn %>% left_join(goblet_tok) %>% summarize(mean(value, na.rm = FALSE))\n",
        "#deathly_tok <- unnest_tokens(tibble(chapter=seq_along(deathly_hallows), \n",
        "  #                 text=deathly_hallows), input=text, output=word)\n",
        "#deathly_avg <- afinn %>% left_join(deathly_tok) %>% summarize(mean(value, na.rm = FALSE))\n",
        "#chamber_tok <- unnest_tokens(tibble(chapter=seq_along(chamber_of_secrets), \n",
        " #                  text=chamber_of_secrets), input=text, output=word)\n",
        "#chamber_avg <- afinn %>% left_join(chamber_tok) %>% summarize(mean(value, na.rm = FALSE))\n",
        "#phil_avg <- afinn %>% left_join(phil_tok) %>% summarize(mean(value, na.rm = FALSE))\n",
        "#tibble(x = c(\"Philosophers Stone\", \"Chamber of Secrets\", \"Prisoner of Azkaban\", \"Goblet of Fire\",\n",
        "#\"Order of the Pheonix\", \"Half Blood Prince\", \"Deathly Hallows\"),\n",
        "#y=c(phil_avg, chamber_avg, pris_avg, goblet_avg, order_avg, half_avg, deathly_avg)) \n",
        "books = c(\"philosophers_stone\", \"chamber_of_secrets\", \"prisoner_of_azkaban\",\n",
        "\"goblet_of_fire\", \"half_blood_prince\", \"order_of_the_phoenix\",\n",
        "\"deathly_hallows\")\n",
        "map_dfr(books, ~ tibble(book =., chapter=seq_along(get(.)), text=get(.))) %>%\n",
        "  unnest_tokens(input=text, output=word) %>%\n",
        "  inner_join(afinn, by=\"word\") %>% group_by(book) %>%\n",
        "  summarize(m=mean(value)) %>%\n",
        "  mutate(book = factor(book, levels=books)) %>%\n",
        "  arrange(desc(book)) %>%\n",
        "  ggplot + geom_col(aes(x=book, y=m)) + coord_flip() + theme_classic()\n",
        "map_dfr(books, ~ tibble(book = ., chapter=seq_along(get(.)), text=get(.))) %>%\n",
        "  unnest_tokens(input=text, output=word) %>%\n",
        "  inner_join(afinn, by=\"word\") %>%\n",
        "  group_by(book, chapter) %>%\n",
        "  summarize(avg_score=mean(value)) %>%\n",
        "  mutate(book = factor(book, levels=books)) %>%\n",
        "  arrange(desc(book)) %>%\n",
        "  ggplot(aes(x=book, y=avg_score, fill=book)) + geom_boxplot() "
      ]
    },
    {
      "cell_type": "markdown",
      "metadata": {
        "deletable": false,
        "editable": false,
        "id": "0mC9u3CgKDNI",
        "nbgrader": {
          "grade": false,
          "grade_id": "cell-0b846c7349b1ca76",
          "locked": true,
          "schema_version": 3,
          "solution": false,
          "task": false
        },
        "run_control": {
          "frozen": true
        }
      },
      "source": [
        "**1(c)** According to the sentiment scores, what are the most negative and positive chapters in any of the Harry Potter books? (1 point)"
      ]
    },
    {
      "cell_type": "markdown",
      "source": [
        "Half Blood Prince Chapter 9 is the most positive. Half Blood Prince Chapter 28 is the most negative."
      ],
      "metadata": {
        "id": "j8794mqjFgvw"
      }
    },
    {
      "cell_type": "code",
      "execution_count": 10,
      "metadata": {
        "id": "layiSLfxhQFv",
        "vscode": {
          "languageId": "r"
        },
        "colab": {
          "base_uri": "https://localhost:8080/",
          "height": 197
        },
        "outputId": "f69b86ab-2403-47fb-cddb-22e7957eab93"
      },
      "outputs": [
        {
          "output_type": "stream",
          "name": "stderr",
          "text": [
            "\u001b[1m\u001b[22m`summarise()` has grouped output by 'book'. You can override using the\n",
            "`.groups` argument.\n"
          ]
        },
        {
          "output_type": "display_data",
          "data": {
            "text/html": [
              "<table class=\"dataframe\">\n",
              "<caption>A grouped_df: 2 × 5</caption>\n",
              "<thead>\n",
              "\t<tr><th scope=col>book</th><th scope=col>chapter</th><th scope=col>avg_score</th><th scope=col>abs_avg_score</th><th scope=col>avg_score &gt; 0</th></tr>\n",
              "\t<tr><th scope=col>&lt;chr&gt;</th><th scope=col>&lt;int&gt;</th><th scope=col>&lt;dbl&gt;</th><th scope=col>&lt;dbl&gt;</th><th scope=col>&lt;lgl&gt;</th></tr>\n",
              "</thead>\n",
              "<tbody>\n",
              "\t<tr><td>half_blood_prince</td><td> 9</td><td> 0.6862745</td><td>0.6862745</td><td> TRUE</td></tr>\n",
              "\t<tr><td>half_blood_prince</td><td>28</td><td>-1.1428571</td><td>1.1428571</td><td>FALSE</td></tr>\n",
              "</tbody>\n",
              "</table>\n"
            ],
            "text/markdown": "\nA grouped_df: 2 × 5\n\n| book &lt;chr&gt; | chapter &lt;int&gt; | avg_score &lt;dbl&gt; | abs_avg_score &lt;dbl&gt; | avg_score &gt; 0 &lt;lgl&gt; |\n|---|---|---|---|---|\n| half_blood_prince |  9 |  0.6862745 | 0.6862745 |  TRUE |\n| half_blood_prince | 28 | -1.1428571 | 1.1428571 | FALSE |\n\n",
            "text/latex": "A grouped\\_df: 2 × 5\n\\begin{tabular}{lllll}\n book & chapter & avg\\_score & abs\\_avg\\_score & avg\\_score > 0\\\\\n <chr> & <int> & <dbl> & <dbl> & <lgl>\\\\\n\\hline\n\t half\\_blood\\_prince &  9 &  0.6862745 & 0.6862745 &  TRUE\\\\\n\t half\\_blood\\_prince & 28 & -1.1428571 & 1.1428571 & FALSE\\\\\n\\end{tabular}\n",
            "text/plain": [
              "  book              chapter avg_score  abs_avg_score avg_score > 0\n",
              "1 half_blood_prince  9       0.6862745 0.6862745      TRUE        \n",
              "2 half_blood_prince 28      -1.1428571 1.1428571     FALSE        "
            ]
          },
          "metadata": {}
        }
      ],
      "source": [
        "### YOUR SOLUTION HERE\n",
        "#pris <- afinn %>% left_join(pris_tok) %>% group_by(chapter) %>% \n",
        " # mutate(avg_score = mean(value, na.rm = TRUE)) %>% select(chapter, avg_score) %>% unique() %>% arrange(desc(-avg_score))\n",
        "#order <- afinn %>% left_join(order_tok) %>% group_by(chapter) %>% \n",
        "#  mutate(avg_score = mean(value, na.rm = TRUE)) %>% select(chapter, avg_score) %>% unique() %>% arrange(desc(-avg_score)) \n",
        "#half <- afinn %>% left_join(half_tok) %>% group_by(chapter) %>% \n",
        "#  mutate(avg_score = mean(value, na.rm = TRUE)) %>% select(chapter, avg_score) %>% unique() %>% arrange(desc(-avg_score)) \n",
        "#goblet <- afinn %>% left_join(goblet_tok) %>% group_by(chapter) %>% \n",
        "#  mutate(avg_score = mean(value, na.rm = TRUE)) %>% select(chapter, avg_score) %>% unique() %>% arrange(desc(-avg_score)) \n",
        "#deathly <- afinn %>% left_join(deathly_tok) %>% group_by(chapter) %>% \n",
        "#  mutate(avg_score = mean(value, na.rm = TRUE)) %>% select(chapter, avg_score) %>% unique() %>% arrange(desc(-avg_score)) \n",
        "#chamber <- afinn %>% left_join(chamber_tok) %>% group_by(chapter) %>% \n",
        "#  mutate(avg_score = mean(value, na.rm = TRUE)) %>% select(chapter, avg_score) %>% unique() %>% arrange(desc(-avg_score)) \n",
        "#phil <- afinn %>% left_join(phil_tok) %>% group_by(chapter) %>% \n",
        " # mutate(avg_score = mean(value, na.rm = TRUE)) %>% select(chapter, avg_score) %>% unique() %>% arrange(desc(-avg_score)) \n",
        "#rbind(pris, order, half, goblet, deathly, chamber, phil) %>% arrange(desc(avg_score))\n",
        "map_dfr(books, ~ tibble(book = ., chapter=seq_along(get(.)), text=get(.))) %>%\n",
        "  unnest_tokens(input=text, output=word) %>%\n",
        "  inner_join(afinn, by=\"word\") %>% group_by(book, chapter) %>%\n",
        "  summarize(avg_score=mean(value), abs_avg_score=abs(avg_score)) %>%\n",
        "  group_by(avg_score>0) %>% top_n(1, abs_avg_score)"
      ]
    },
    {
      "cell_type": "markdown",
      "metadata": {
        "deletable": false,
        "editable": false,
        "id": "aqZmeQx9hHVl",
        "run_control": {
          "frozen": true
        }
      },
      "source": [
        "**1(d)** Of the sentences that contain three or more scored words, what is the happiest (most positive)? (1 points)"
      ]
    },
    {
      "cell_type": "code",
      "execution_count": 11,
      "metadata": {
        "id": "pY01jzuSKDNJ",
        "nbgrader": {
          "grade": true,
          "grade_id": "cell-d133bf2bdbc6ae66",
          "locked": false,
          "points": 0,
          "schema_version": 3,
          "solution": true,
          "task": false
        },
        "vscode": {
          "languageId": "r"
        },
        "colab": {
          "base_uri": "https://localhost:8080/",
          "height": 919
        },
        "outputId": "0bd86108-017e-424c-f85c-e05c5bd5fce3"
      },
      "outputs": [
        {
          "output_type": "stream",
          "name": "stderr",
          "text": [
            "\u001b[1m\u001b[22m`summarise()` has grouped output by 'book', 'chapter'. You can override using\n",
            "the `.groups` argument.\n"
          ]
        },
        {
          "output_type": "display_data",
          "data": {
            "text/html": [
              "<table class=\"dataframe\">\n",
              "<caption>A grouped_df: 9 × 7</caption>\n",
              "<thead>\n",
              "\t<tr><th scope=col>book</th><th scope=col>chapter</th><th scope=col>sentence</th><th scope=col>avg_score</th><th scope=col>abs_avg_score</th><th scope=col>n</th><th scope=col>avg_score &gt; 0</th></tr>\n",
              "\t<tr><th scope=col>&lt;chr&gt;</th><th scope=col>&lt;int&gt;</th><th scope=col>&lt;chr&gt;</th><th scope=col>&lt;dbl&gt;</th><th scope=col>&lt;dbl&gt;</th><th scope=col>&lt;int&gt;</th><th scope=col>&lt;lgl&gt;</th></tr>\n",
              "</thead>\n",
              "<tbody>\n",
              "\t<tr><td>deathly_hallows     </td><td> 2</td><td>he wondered what his aunt and uncle would do with them; burn them in the dead of night, probably, as if they were evidence of some dreadful crime.                                                                                                                                                                                                                                                                                  </td><td>-3.0</td><td>3.0</td><td>3</td><td>FALSE</td></tr>\n",
              "\t<tr><td>deathly_hallows     </td><td>24</td><td>\"you turn up here with a dead house-elf and a half-conscious goblin, hermione looks as though she's been tortured, and ron's just refused to tell me anything ¨c \"\"we can't tell you what we're doing,\" said harry flatly.                                                                                                                                                                                                          </td><td>-3.0</td><td>3.0</td><td>3</td><td>FALSE</td></tr>\n",
              "\t<tr><td>deathly_hallows     </td><td>31</td><td>she concealed her loss, my dreadful betrayal, even from the other founders of hogwarts.\"\"                                                                                                                                                                                                                                                                                                                                           </td><td>-3.0</td><td>3.0</td><td>3</td><td>FALSE</td></tr>\n",
              "\t<tr><td>order_of_the_phoenix</td><td>13</td><td>she's evil, he thought, as he climbed a staircase to the seventh floor, she's an evil, twisted, mad old-    'ron?'                                                                                                                                                                                                                                                                                                                  </td><td>-3.0</td><td>3.0</td><td>3</td><td>FALSE</td></tr>\n",
              "\t<tr><td>order_of_the_phoenix</td><td>13</td><td>this is your punishment for spreading evil, nasty, attention-seeking stories, mr potter, and punishments certainly cannot be adjusted to suit the guilty one's convenience.                                                                                                                                                                                                                                                         </td><td>-3.0</td><td>3.0</td><td>3</td><td>FALSE</td></tr>\n",
              "\t<tr><td>order_of_the_phoenix</td><td>24</td><td>maniacal laughter was ringing in his ears . . . he was happier than he had been in a very long time . . . jubilant, ecstatic, triumphant . . . a wonderful, wonderful thing had happened . . .                                                                                                                                                                                                                                      </td><td> 3.8</td><td>3.8</td><td>5</td><td> TRUE</td></tr>\n",
              "\t<tr><td>order_of_the_phoenix</td><td>31</td><td>he might as well have tried to see moving pictures on the desktop as in the stubbornly blank crystal ball; he lost his head completely during tea-leaf reading, saying it looked to him as though professor marchbanks would shortly be meeting a round, dark, soggy stranger, and rounded off the whole fiasco by mixing up the life and head lines on her palm and informing her that she ought to have died the previous tuesday.</td><td>-3.0</td><td>3.0</td><td>3</td><td>FALSE</td></tr>\n",
              "\t<tr><td>order_of_the_phoenix</td><td>35</td><td>don't let her be dead, don't let her be dead, it's my fault if she's dead . . .                                                                                                                                                                                                                                                                                                                                                     </td><td>-3.0</td><td>3.0</td><td>3</td><td>FALSE</td></tr>\n",
              "\t<tr><td>prisoner_of_azkaban </td><td> 2</td><td>if there's something wrong with the bitch, there'll be something wrong with the pup --\"  at that moment, the wineglass aunt marge was holding exploded in her hand.                                                                                                                                                                                                                                                                 </td><td>-3.0</td><td>3.0</td><td>3</td><td>FALSE</td></tr>\n",
              "</tbody>\n",
              "</table>\n"
            ],
            "text/markdown": "\nA grouped_df: 9 × 7\n\n| book &lt;chr&gt; | chapter &lt;int&gt; | sentence &lt;chr&gt; | avg_score &lt;dbl&gt; | abs_avg_score &lt;dbl&gt; | n &lt;int&gt; | avg_score &gt; 0 &lt;lgl&gt; |\n|---|---|---|---|---|---|---|\n| deathly_hallows      |  2 | he wondered what his aunt and uncle would do with them; burn them in the dead of night, probably, as if they were evidence of some dreadful crime.                                                                                                                                                                                                                                                                                   | -3.0 | 3.0 | 3 | FALSE |\n| deathly_hallows      | 24 | \"you turn up here with a dead house-elf and a half-conscious goblin, hermione looks as though she's been tortured, and ron's just refused to tell me anything ¨c \"\"we can't tell you what we're doing,\" said harry flatly.                                                                                                                                                                                                           | -3.0 | 3.0 | 3 | FALSE |\n| deathly_hallows      | 31 | she concealed her loss, my dreadful betrayal, even from the other founders of hogwarts.\"\"                                                                                                                                                                                                                                                                                                                                            | -3.0 | 3.0 | 3 | FALSE |\n| order_of_the_phoenix | 13 | she's evil, he thought, as he climbed a staircase to the seventh floor, she's an evil, twisted, mad old-    'ron?'                                                                                                                                                                                                                                                                                                                   | -3.0 | 3.0 | 3 | FALSE |\n| order_of_the_phoenix | 13 | this is your punishment for spreading evil, nasty, attention-seeking stories, mr potter, and punishments certainly cannot be adjusted to suit the guilty one's convenience.                                                                                                                                                                                                                                                          | -3.0 | 3.0 | 3 | FALSE |\n| order_of_the_phoenix | 24 | maniacal laughter was ringing in his ears . . . he was happier than he had been in a very long time . . . jubilant, ecstatic, triumphant . . . a wonderful, wonderful thing had happened . . .                                                                                                                                                                                                                                       |  3.8 | 3.8 | 5 |  TRUE |\n| order_of_the_phoenix | 31 | he might as well have tried to see moving pictures on the desktop as in the stubbornly blank crystal ball; he lost his head completely during tea-leaf reading, saying it looked to him as though professor marchbanks would shortly be meeting a round, dark, soggy stranger, and rounded off the whole fiasco by mixing up the life and head lines on her palm and informing her that she ought to have died the previous tuesday. | -3.0 | 3.0 | 3 | FALSE |\n| order_of_the_phoenix | 35 | don't let her be dead, don't let her be dead, it's my fault if she's dead . . .                                                                                                                                                                                                                                                                                                                                                      | -3.0 | 3.0 | 3 | FALSE |\n| prisoner_of_azkaban  |  2 | if there's something wrong with the bitch, there'll be something wrong with the pup --\"  at that moment, the wineglass aunt marge was holding exploded in her hand.                                                                                                                                                                                                                                                                  | -3.0 | 3.0 | 3 | FALSE |\n\n",
            "text/latex": "A grouped\\_df: 9 × 7\n\\begin{tabular}{lllllll}\n book & chapter & sentence & avg\\_score & abs\\_avg\\_score & n & avg\\_score > 0\\\\\n <chr> & <int> & <chr> & <dbl> & <dbl> & <int> & <lgl>\\\\\n\\hline\n\t deathly\\_hallows      &  2 & he wondered what his aunt and uncle would do with them; burn them in the dead of night, probably, as if they were evidence of some dreadful crime.                                                                                                                                                                                                                                                                                   & -3.0 & 3.0 & 3 & FALSE\\\\\n\t deathly\\_hallows      & 24 & \"you turn up here with a dead house-elf and a half-conscious goblin, hermione looks as though she's been tortured, and ron's just refused to tell me anything ¨c \"\"we can't tell you what we're doing,\" said harry flatly.                                                                                                                                                                                                           & -3.0 & 3.0 & 3 & FALSE\\\\\n\t deathly\\_hallows      & 31 & she concealed her loss, my dreadful betrayal, even from the other founders of hogwarts.\"\"                                                                                                                                                                                                                                                                                                                                            & -3.0 & 3.0 & 3 & FALSE\\\\\n\t order\\_of\\_the\\_phoenix & 13 & she's evil, he thought, as he climbed a staircase to the seventh floor, she's an evil, twisted, mad old-    'ron?'                                                                                                                                                                                                                                                                                                                   & -3.0 & 3.0 & 3 & FALSE\\\\\n\t order\\_of\\_the\\_phoenix & 13 & this is your punishment for spreading evil, nasty, attention-seeking stories, mr potter, and punishments certainly cannot be adjusted to suit the guilty one's convenience.                                                                                                                                                                                                                                                          & -3.0 & 3.0 & 3 & FALSE\\\\\n\t order\\_of\\_the\\_phoenix & 24 & maniacal laughter was ringing in his ears . . . he was happier than he had been in a very long time . . . jubilant, ecstatic, triumphant . . . a wonderful, wonderful thing had happened . . .                                                                                                                                                                                                                                       &  3.8 & 3.8 & 5 &  TRUE\\\\\n\t order\\_of\\_the\\_phoenix & 31 & he might as well have tried to see moving pictures on the desktop as in the stubbornly blank crystal ball; he lost his head completely during tea-leaf reading, saying it looked to him as though professor marchbanks would shortly be meeting a round, dark, soggy stranger, and rounded off the whole fiasco by mixing up the life and head lines on her palm and informing her that she ought to have died the previous tuesday. & -3.0 & 3.0 & 3 & FALSE\\\\\n\t order\\_of\\_the\\_phoenix & 35 & don't let her be dead, don't let her be dead, it's my fault if she's dead . . .                                                                                                                                                                                                                                                                                                                                                      & -3.0 & 3.0 & 3 & FALSE\\\\\n\t prisoner\\_of\\_azkaban  &  2 & if there's something wrong with the bitch, there'll be something wrong with the pup --\"  at that moment, the wineglass aunt marge was holding exploded in her hand.                                                                                                                                                                                                                                                                  & -3.0 & 3.0 & 3 & FALSE\\\\\n\\end{tabular}\n",
            "text/plain": [
              "  book                 chapter\n",
              "1 deathly_hallows       2     \n",
              "2 deathly_hallows      24     \n",
              "3 deathly_hallows      31     \n",
              "4 order_of_the_phoenix 13     \n",
              "5 order_of_the_phoenix 13     \n",
              "6 order_of_the_phoenix 24     \n",
              "7 order_of_the_phoenix 31     \n",
              "8 order_of_the_phoenix 35     \n",
              "9 prisoner_of_azkaban   2     \n",
              "  sentence                                                                                                                                                                                                                                                                                                                                                                                                                            \n",
              "1 he wondered what his aunt and uncle would do with them; burn them in the dead of night, probably, as if they were evidence of some dreadful crime.                                                                                                                                                                                                                                                                                  \n",
              "2 \"you turn up here with a dead house-elf and a half-conscious goblin, hermione looks as though she's been tortured, and ron's just refused to tell me anything ¨c \"\"we can't tell you what we're doing,\" said harry flatly.                                                                                                                                                                                                          \n",
              "3 she concealed her loss, my dreadful betrayal, even from the other founders of hogwarts.\"\"                                                                                                                                                                                                                                                                                                                                           \n",
              "4 she's evil, he thought, as he climbed a staircase to the seventh floor, she's an evil, twisted, mad old-    'ron?'                                                                                                                                                                                                                                                                                                                  \n",
              "5 this is your punishment for spreading evil, nasty, attention-seeking stories, mr potter, and punishments certainly cannot be adjusted to suit the guilty one's convenience.                                                                                                                                                                                                                                                         \n",
              "6 maniacal laughter was ringing in his ears . . . he was happier than he had been in a very long time . . . jubilant, ecstatic, triumphant . . . a wonderful, wonderful thing had happened . . .                                                                                                                                                                                                                                      \n",
              "7 he might as well have tried to see moving pictures on the desktop as in the stubbornly blank crystal ball; he lost his head completely during tea-leaf reading, saying it looked to him as though professor marchbanks would shortly be meeting a round, dark, soggy stranger, and rounded off the whole fiasco by mixing up the life and head lines on her palm and informing her that she ought to have died the previous tuesday.\n",
              "8 don't let her be dead, don't let her be dead, it's my fault if she's dead . . .                                                                                                                                                                                                                                                                                                                                                     \n",
              "9 if there's something wrong with the bitch, there'll be something wrong with the pup --\"  at that moment, the wineglass aunt marge was holding exploded in her hand.                                                                                                                                                                                                                                                                 \n",
              "  avg_score abs_avg_score n avg_score > 0\n",
              "1 -3.0      3.0           3 FALSE        \n",
              "2 -3.0      3.0           3 FALSE        \n",
              "3 -3.0      3.0           3 FALSE        \n",
              "4 -3.0      3.0           3 FALSE        \n",
              "5 -3.0      3.0           3 FALSE        \n",
              "6  3.8      3.8           5  TRUE        \n",
              "7 -3.0      3.0           3 FALSE        \n",
              "8 -3.0      3.0           3 FALSE        \n",
              "9 -3.0      3.0           3 FALSE        "
            ]
          },
          "metadata": {}
        }
      ],
      "source": [
        "### YOUR SOLUTION HERE\n",
        "map_dfr(books, ~tibble(book=., chapter=seq_along(get(.)), text=get(.))) %>%\n",
        "  unnest_tokens(input=text, output=sentence, token=\"sentences\") %>%\n",
        "  unnest_tokens(input=sentence, output=word, drop=F) %>%\n",
        "  inner_join(afinn, by=\"word\") %>%\n",
        "  group_by(book, chapter, sentence) %>%\n",
        "  summarize(avg_score = mean(value), abs_avg_score=abs(avg_score), n=n()) %>%\n",
        "  filter(n>=3) %>%\n",
        "  group_by(avg_score>0) %>%\n",
        "  top_n(1, abs_avg_score)"
      ]
    },
    {
      "cell_type": "markdown",
      "metadata": {
        "deletable": false,
        "editable": false,
        "id": "XnnFosC3KDNJ",
        "nbgrader": {
          "grade": false,
          "grade_id": "cell-718c986a9bef0aca",
          "locked": true,
          "schema_version": 3,
          "solution": false
        },
        "run_control": {
          "frozen": true
        }
      },
      "source": [
        "## Problem 2: Reddit dataset (4 points)\n",
        "The file `reddit_xmas_2017.RData` contains 100,000 comments posted to Reddit on Christmas Day, 2017. Unless specified otherwise, all matches are case insensitive."
      ]
    },
    {
      "cell_type": "code",
      "execution_count": 12,
      "metadata": {
        "colab": {
          "base_uri": "https://localhost:8080/"
        },
        "id": "4v6vwcp0KDNJ",
        "nbgrader": {
          "grade": false,
          "grade_id": "cell-1fa7cd0e5989af42",
          "locked": true,
          "schema_version": 3,
          "solution": false
        },
        "outputId": "3cf22c08-83f5-49ad-a3af-673fe47feb03",
        "vscode": {
          "languageId": "r"
        }
      },
      "outputs": [
        {
          "output_type": "stream",
          "name": "stdout",
          "text": [
            "\u001b[90m# A tibble: 100,000 × 3\u001b[39m\n",
            "   author              body                                  created_utc        \n",
            "   \u001b[3m\u001b[90m<chr>\u001b[39m\u001b[23m               \u001b[3m\u001b[90m<chr>\u001b[39m\u001b[23m                                 \u001b[3m\u001b[90m<dttm>\u001b[39m\u001b[23m             \n",
            "\u001b[90m 1\u001b[39m br_shadow           \u001b[90m\"\u001b[39mThank you for this, there is a pers… 2017-12-25 \u001b[90m15:49:08\u001b[39m\n",
            "\u001b[90m 2\u001b[39m Ksalol              \u001b[90m\"\u001b[39mThey are not to quick actually. It'… 2017-12-25 \u001b[90m17:42:50\u001b[39m\n",
            "\u001b[90m 3\u001b[39m itscool83           \u001b[90m\"\u001b[39mtell her you guys should hang out w… 2017-12-25 \u001b[90m18:54:13\u001b[39m\n",
            "\u001b[90m 4\u001b[39m Glu7enFree          \u001b[90m\"\u001b[39mAutism is a high honor in the tech … 2017-12-25 \u001b[90m07:48:17\u001b[39m\n",
            "\u001b[90m 5\u001b[39m Theotheogreato      \u001b[90m\"\u001b[39mYou thought a cat was your son?! \u001b[90m\"\u001b[39m   2017-12-25 \u001b[90m20:58:08\u001b[39m\n",
            "\u001b[90m 6\u001b[39m Shadrac121          \u001b[90m\"\u001b[39mHopfully she takes wat people say i… 2017-12-25 \u001b[90m22:27:31\u001b[39m\n",
            "\u001b[90m 7\u001b[39m 1fzUjhemoSB1QV7zI7  \u001b[90m\"\u001b[39mSi ce propui sa facem cu toata piel… 2017-12-25 \u001b[90m07:41:31\u001b[39m\n",
            "\u001b[90m 8\u001b[39m MinisterOfEducation \u001b[90m\"\u001b[39mI don't mean to be impolite, but if… 2017-12-25 \u001b[90m19:28:35\u001b[39m\n",
            "\u001b[90m 9\u001b[39m AabidS10            \u001b[90m\"\u001b[39mi dont have a 720p x265 of it, sorr… 2017-12-25 \u001b[90m13:20:32\u001b[39m\n",
            "\u001b[90m10\u001b[39m S3RG10              \u001b[90m\"\u001b[39mI'm dying to try Guatemalan sandals… 2017-12-25 \u001b[90m00:48:46\u001b[39m\n",
            "\u001b[90m# ℹ 99,990 more rows\u001b[39m\n"
          ]
        }
      ],
      "source": [
        "load(url('https://datasets.stats306.org/reddit_xmas_2017.RData'))\n",
        "reddit %>% print"
      ]
    },
    {
      "cell_type": "markdown",
      "metadata": {
        "id": "YZErB86_KDNK",
        "nbgrader": {
          "grade": false,
          "grade_id": "cell-d055c5ffc0dc61ba",
          "locked": true,
          "schema_version": 3,
          "solution": false
        }
      },
      "source": [
        "Comment 174 wishes everyone a happy holidays:"
      ]
    },
    {
      "cell_type": "code",
      "execution_count": null,
      "metadata": {
        "colab": {
          "base_uri": "https://localhost:8080/",
          "height": 129
        },
        "id": "fvlU2g-fKDNK",
        "nbgrader": {
          "grade": false,
          "grade_id": "cell-f56b4f43b6f4cafa",
          "locked": true,
          "schema_version": 3,
          "solution": false,
          "task": false
        },
        "outputId": "1fe2145e-63fe-40e1-d401-9a0f81a082bf",
        "vscode": {
          "languageId": "r"
        }
      },
      "outputs": [
        {
          "output_type": "display_data",
          "data": {
            "text/html": [
              "<table class=\"dataframe\">\n",
              "<caption>A tibble: 1 × 3</caption>\n",
              "<thead>\n",
              "\t<tr><th scope=col>author</th><th scope=col>body</th><th scope=col>created_utc</th></tr>\n",
              "\t<tr><th scope=col>&lt;chr&gt;</th><th scope=col>&lt;chr&gt;</th><th scope=col>&lt;dttm&gt;</th></tr>\n",
              "</thead>\n",
              "<tbody>\n",
              "\t<tr><td>Bareilles</td><td>Thank you. Happy holidays everyone!</td><td>2017-12-25 01:33:50</td></tr>\n",
              "</tbody>\n",
              "</table>\n"
            ],
            "text/markdown": "\nA tibble: 1 × 3\n\n| author &lt;chr&gt; | body &lt;chr&gt; | created_utc &lt;dttm&gt; |\n|---|---|---|\n| Bareilles | Thank you. Happy holidays everyone! | 2017-12-25 01:33:50 |\n\n",
            "text/latex": "A tibble: 1 × 3\n\\begin{tabular}{lll}\n author & body & created\\_utc\\\\\n <chr> & <chr> & <dttm>\\\\\n\\hline\n\t Bareilles & Thank you. Happy holidays everyone! & 2017-12-25 01:33:50\\\\\n\\end{tabular}\n",
            "text/plain": [
              "  author    body                                created_utc        \n",
              "1 Bareilles Thank you. Happy holidays everyone! 2017-12-25 01:33:50"
            ]
          },
          "metadata": {}
        }
      ],
      "source": [
        "reddit %>% slice(174)"
      ]
    },
    {
      "cell_type": "markdown",
      "metadata": {
        "id": "jWuZAcnAKDNK",
        "nbgrader": {
          "grade": false,
          "grade_id": "cell-ce3d459d5d49dde1",
          "locked": true,
          "schema_version": 3,
          "solution": false
        }
      },
      "source": [
        "**2(a)**  What are other people wishing? Count the first occurrence of the string \"Happy `<word>`\" or \"Merry `<word>`\" in the comment body, if any, count the matches. To keep things interesting, do *not* include phrases matching `(happy|merry) (to|with|for|about|and|that|if|i|you|when)`. \n",
        "\n",
        "Print a table containing the top 10 matches; a few of the rows are:\n",
        "\n",
        "<table>\n",
        "<thead>\n",
        "    <tr><th scope=\"col\">greeting</th><th scope=\"col\">n</th></tr>\n",
        "    <tr><th scope=\"col\">&lt;chr&gt;</th><th scope=\"col\">&lt;int&gt;</th></tr>\n",
        "</thead>\n",
        "<tbody>\n",
        "    <tr><td>merry christmas</td><td>2040</td></tr>\n",
        "    <tr><td>happy holidays </td><td> &mdash;</td></tr>\n",
        "    <tr><td>&mdash;        </td><td> &mdash;</td></tr>\n",
        "    <tr><td>&mdash;        </td><td> &mdash;</td></tr>\n",
        "    <tr><td>&mdash;        </td><td> &mdash;</td></tr>\n",
        "    <tr><td>&mdash;        </td><td> &mdash;</td></tr>\n",
        "    <tr><td>&mdash;        </td><td> &mdash;</td></tr>\n",
        "    <tr><td>&mdash;        </td><td> &mdash;</td></tr>\n",
        "    <tr><td>&mdash;        </td><td>   7</td></tr>\n",
        "    <tr><td>happy cakeday  </td><td>   6</td></tr>\n",
        "</tbody>\n",
        "</table>\n",
        "\n",
        "Your numbers may vary slightly depending on how you performed the match."
      ]
    },
    {
      "cell_type": "code",
      "execution_count": 14,
      "metadata": {
        "id": "ih_LFXpgKDNL",
        "nbgrader": {
          "grade": true,
          "grade_id": "problem7",
          "locked": false,
          "points": 0,
          "schema_version": 3,
          "solution": true,
          "task": false
        },
        "vscode": {
          "languageId": "r"
        },
        "colab": {
          "base_uri": "https://localhost:8080/",
          "height": 412
        },
        "outputId": "0408e469-10e2-40ad-cbbd-341931f632f6"
      },
      "outputs": [
        {
          "output_type": "display_data",
          "data": {
            "text/html": [
              "<table class=\"dataframe\">\n",
              "<caption>A tibble: 10 × 2</caption>\n",
              "<thead>\n",
              "\t<tr><th scope=col>greeting</th><th scope=col>n</th></tr>\n",
              "\t<tr><th scope=col>&lt;chr&gt;</th><th scope=col>&lt;int&gt;</th></tr>\n",
              "</thead>\n",
              "<tbody>\n",
              "\t<tr><td>merry christmas</td><td>2040</td></tr>\n",
              "\t<tr><td>happy holidays </td><td> 477</td></tr>\n",
              "\t<tr><td>merry xmas     </td><td>  93</td></tr>\n",
              "\t<tr><td>happy christmas</td><td>  44</td></tr>\n",
              "\t<tr><td>happy cake     </td><td>  28</td></tr>\n",
              "\t<tr><td>happy birthday </td><td>  23</td></tr>\n",
              "\t<tr><td>happy new      </td><td>  15</td></tr>\n",
              "\t<tr><td>happy holiday  </td><td>  13</td></tr>\n",
              "\t<tr><td>merry x        </td><td>   7</td></tr>\n",
              "\t<tr><td>happy cakeday  </td><td>   6</td></tr>\n",
              "</tbody>\n",
              "</table>\n"
            ],
            "text/markdown": "\nA tibble: 10 × 2\n\n| greeting &lt;chr&gt; | n &lt;int&gt; |\n|---|---|\n| merry christmas | 2040 |\n| happy holidays  |  477 |\n| merry xmas      |   93 |\n| happy christmas |   44 |\n| happy cake      |   28 |\n| happy birthday  |   23 |\n| happy new       |   15 |\n| happy holiday   |   13 |\n| merry x         |    7 |\n| happy cakeday   |    6 |\n\n",
            "text/latex": "A tibble: 10 × 2\n\\begin{tabular}{ll}\n greeting & n\\\\\n <chr> & <int>\\\\\n\\hline\n\t merry christmas & 2040\\\\\n\t happy holidays  &  477\\\\\n\t merry xmas      &   93\\\\\n\t happy christmas &   44\\\\\n\t happy cake      &   28\\\\\n\t happy birthday  &   23\\\\\n\t happy new       &   15\\\\\n\t happy holiday   &   13\\\\\n\t merry x         &    7\\\\\n\t happy cakeday   &    6\\\\\n\\end{tabular}\n",
            "text/plain": [
              "   greeting        n   \n",
              "1  merry christmas 2040\n",
              "2  happy holidays   477\n",
              "3  merry xmas        93\n",
              "4  happy christmas   44\n",
              "5  happy cake        28\n",
              "6  happy birthday    23\n",
              "7  happy new         15\n",
              "8  happy holiday     13\n",
              "9  merry x            7\n",
              "10 happy cakeday      6"
            ]
          },
          "metadata": {}
        }
      ],
      "source": [
        "### YOUR SOLUTION HERE\n",
        "#x <- \"(happy |merry )\\\\w+\"\n",
        "#greetings <- reddit %>%  mutate(lowercase = str_to_lower(body)) %>%\n",
        " #   mutate(greeting = str_extract(lowercase, x)) %>% filter(greeting != TRUE) %>%\n",
        "  #  group_by(greeting) %>% summarize(n = n()) %>% arrange(desc(n))\n",
        "#greetings %>% top_n(10)\n",
        "reddit %>% mutate(greeting = str_extract(str_to_lower(body), \n",
        "\"(happy|merry) \\\\w+\")) %>%\n",
        "  filter(!is.na(greeting)) %>% count(greeting) %>%\n",
        "  filter(!str_detect(greeting, '(happy|merry) (to|with|for|about|and|that|if|i|you|when)')) %>%\n",
        "  arrange(-n) %>% slice(1:10)"
      ]
    },
    {
      "cell_type": "markdown",
      "metadata": {
        "deletable": false,
        "editable": false,
        "id": "nStN0Jb5KDNL",
        "nbgrader": {
          "grade": false,
          "grade_id": "cell-0868e4922137bd0e",
          "locked": true,
          "schema_version": 3,
          "solution": false
        },
        "run_control": {
          "frozen": true
        }
      },
      "source": [
        "**2(b)** Find the number of times `christmas`or `xmas` mentioned each hour. Similarly, find the number of mentions per hour of `snow` or `flakes`. Draw a plot comparing these two time series. (1 point)"
      ]
    },
    {
      "cell_type": "code",
      "execution_count": 16,
      "metadata": {
        "id": "nuzuglV-KDNL",
        "nbgrader": {
          "grade": true,
          "grade_id": "cell-2eb072f24d1e2cad",
          "locked": false,
          "points": 2,
          "schema_version": 3,
          "solution": true
        },
        "vscode": {
          "languageId": "r"
        },
        "colab": {
          "base_uri": "https://localhost:8080/",
          "height": 358
        },
        "outputId": "44e5cca2-ff42-46ee-93a7-91545166df10"
      },
      "outputs": [
        {
          "output_type": "stream",
          "name": "stderr",
          "text": [
            "\n",
            "Attaching package: ‘lubridate’\n",
            "\n",
            "\n",
            "The following objects are masked from ‘package:base’:\n",
            "\n",
            "    date, intersect, setdiff, union\n",
            "\n",
            "\n"
          ]
        },
        {
          "output_type": "display_data",
          "data": {
            "text/plain": [
              "plot without title"
            ],
            "image/png": "[encoded data removed]"
          },
          "metadata": {
            "image/png": {
              "width": 240,
              "height": 180
            }
          }
        }
      ],
      "source": [
        "### YOUR SOLUTION HERE\n",
        "#reddit %>% mutate(lowercase = str_to_lower(body)) %>% \n",
        "  #  mutate(word = str_extract(lowercase, x)) %>% mutate(hour = lubridate::hour(created_utc)) %>%\n",
        "  #  filter(word != TRUE) %>%\n",
        "  #  group_by(hour) %>% summarize(count = n()) %>% ggplot() + \n",
        "  #  geom_col(mapping = aes(x = hour, y = count))\n",
        "#x <- \"(snow|flakes)\\\\b\"\n",
        "#reddit %>% mutate(lowercase = str_to_lower(body)) %>% \n",
        " #   mutate(word = str_extract(lowercase, x)) %>% mutate(hour = lubridate::hour(created_utc)) %>%\n",
        "  #  filter(word != TRUE) %>%\n",
        "  #  group_by(hour) %>% summarize(count = n()) %>% ggplot() + \n",
        "  #  geom_col(mapping = aes(x = hour, y = count))\n",
        "library(lubridate)\n",
        "options(repr.plot.width=4, repr.plot.height=3)\n",
        "reddit %>% mutate(hour=hour(created_utc)) %>%\n",
        "  mutate(xmas = str_detect(body, regex(\"christmas|xmas\", ignore_case=T))) %>%\n",
        "  mutate(snow = str_detect(body, regex(\"snow|flakes\", ignore_case=T))) %>%\n",
        "  group_by(hour) %>%\n",
        "  summarize(xmas = sum(xmas), snow = sum(snow)) %>%\n",
        "  pivot_longer(!hour, names_to=\"xmas_snow\", values_to=\"count\") %>%\n",
        "  ggplot(aes(x=hour, y=count, color=xmas_snow)) + geom_line() + theme_bw() +\n",
        "  scale_y_continuous(trans='log10')"
      ]
    },
    {
      "cell_type": "markdown",
      "metadata": {
        "deletable": false,
        "editable": false,
        "id": "Bl53I2qzKDNM",
        "nbgrader": {
          "grade": false,
          "grade_id": "cell-7674a04533f8934b",
          "locked": true,
          "schema_version": 3,
          "solution": false
        },
        "run_control": {
          "frozen": true
        }
      },
      "source": [
        "**2(c)** On Christmas Day, the word `christmas` occurs 4264 times. What is the next most common word after Christmas, and how many times does it appear? (1 point)"
      ]
    },
    {
      "cell_type": "markdown",
      "source": [
        "Only is the most common word after Christmas and it appears 4155 times."
      ],
      "metadata": {
        "id": "3M3lsABuLhrb"
      }
    },
    {
      "cell_type": "code",
      "execution_count": 17,
      "metadata": {
        "id": "SceqDZbwKDNM",
        "nbgrader": {
          "grade": true,
          "grade_id": "problem9",
          "locked": false,
          "points": 0,
          "schema_version": 3,
          "solution": true,
          "task": false
        },
        "vscode": {
          "languageId": "r"
        },
        "colab": {
          "base_uri": "https://localhost:8080/",
          "height": 295
        },
        "outputId": "a920c5e8-7459-48b0-f933-c60703072947"
      },
      "outputs": [
        {
          "output_type": "stream",
          "name": "stderr",
          "text": [
            "Warning message:\n",
            "“\u001b[1m\u001b[22m`cols` is now required when using `unnest()`.\n",
            "\u001b[36mℹ\u001b[39m Please use `cols = c(words)`.”\n"
          ]
        },
        {
          "output_type": "display_data",
          "data": {
            "text/html": [
              "<table class=\"dataframe\">\n",
              "<caption>A tibble: 1 × 3</caption>\n",
              "<thead>\n",
              "\t<tr><th scope=col>words</th><th scope=col>n</th><th scope=col>k</th></tr>\n",
              "\t<tr><th scope=col>&lt;chr&gt;</th><th scope=col>&lt;int&gt;</th><th scope=col>&lt;int&gt;</th></tr>\n",
              "</thead>\n",
              "<tbody>\n",
              "\t<tr><td>christmas</td><td>4264</td><td>76</td></tr>\n",
              "</tbody>\n",
              "</table>\n"
            ],
            "text/markdown": "\nA tibble: 1 × 3\n\n| words &lt;chr&gt; | n &lt;int&gt; | k &lt;int&gt; |\n|---|---|---|\n| christmas | 4264 | 76 |\n\n",
            "text/latex": "A tibble: 1 × 3\n\\begin{tabular}{lll}\n words & n & k\\\\\n <chr> & <int> & <int>\\\\\n\\hline\n\t christmas & 4264 & 76\\\\\n\\end{tabular}\n",
            "text/plain": [
              "  words     n    k \n",
              "1 christmas 4264 76"
            ]
          },
          "metadata": {}
        },
        {
          "output_type": "display_data",
          "data": {
            "text/html": [
              "<table class=\"dataframe\">\n",
              "<caption>A tibble: 1 × 3</caption>\n",
              "<thead>\n",
              "\t<tr><th scope=col>words</th><th scope=col>n</th><th scope=col>k</th></tr>\n",
              "\t<tr><th scope=col>&lt;chr&gt;</th><th scope=col>&lt;int&gt;</th><th scope=col>&lt;int&gt;</th></tr>\n",
              "</thead>\n",
              "<tbody>\n",
              "\t<tr><td>only</td><td>4151</td><td>77</td></tr>\n",
              "</tbody>\n",
              "</table>\n"
            ],
            "text/markdown": "\nA tibble: 1 × 3\n\n| words &lt;chr&gt; | n &lt;int&gt; | k &lt;int&gt; |\n|---|---|---|\n| only | 4151 | 77 |\n\n",
            "text/latex": "A tibble: 1 × 3\n\\begin{tabular}{lll}\n words & n & k\\\\\n <chr> & <int> & <int>\\\\\n\\hline\n\t only & 4151 & 77\\\\\n\\end{tabular}\n",
            "text/plain": [
              "  words n    k \n",
              "1 only  4151 77"
            ]
          },
          "metadata": {}
        }
      ],
      "source": [
        "### YOUR SOLUTION HERE\n",
        "#tbl <- reddit %>% mutate(word = str_extract_all(str_to_lower(body), \"[a-z]+\")) %>% unnest(word) %>% group_by(word) %>% summarize(n = n()) %>%\n",
        "  #arrange(desc(n))\n",
        "#tbl[50:100,]\n",
        "ds <- reddit %>% mutate(words=str_extract_all(body, regex(\"\\\\b[a-z']+\\\\b\", ignore_case=T))) %>%\n",
        "  unnest %>% mutate(words = str_to_lower(words)) %>% count(words) %>%\n",
        "  arrange(desc(n)) %>% mutate(k=row_number())\n",
        "filter(ds, words == \"christmas\")\n",
        "filter(ds, k == 77)"
      ]
    },
    {
      "cell_type": "markdown",
      "metadata": {
        "deletable": false,
        "editable": false,
        "id": "lr2DRmGZvcXQ",
        "run_control": {
          "frozen": true
        }
      },
      "source": [
        "**2(d)** Using `afinn` dataset, calculate the average sentiment scores of reddit comments for each hour. When is the most positive time in Christmas Day? (1 point)"
      ]
    },
    {
      "cell_type": "markdown",
      "source": [
        "Hour 4 of Christmas Day is the most positive time."
      ],
      "metadata": {
        "id": "A9gA8pgTNhoO"
      }
    },
    {
      "cell_type": "code",
      "execution_count": 19,
      "metadata": {
        "id": "BcjSBHwl0Dtr",
        "vscode": {
          "languageId": "r"
        },
        "colab": {
          "base_uri": "https://localhost:8080/",
          "height": 129
        },
        "outputId": "0cf63824-76cd-4884-d35d-efde55fa49cc"
      },
      "outputs": [
        {
          "output_type": "display_data",
          "data": {
            "text/html": [
              "<table class=\"dataframe\">\n",
              "<caption>A tibble: 1 × 2</caption>\n",
              "<thead>\n",
              "\t<tr><th scope=col>hour</th><th scope=col>avg_score</th></tr>\n",
              "\t<tr><th scope=col>&lt;int&gt;</th><th scope=col>&lt;dbl&gt;</th></tr>\n",
              "</thead>\n",
              "<tbody>\n",
              "\t<tr><td>4</td><td>0.989179</td></tr>\n",
              "</tbody>\n",
              "</table>\n"
            ],
            "text/markdown": "\nA tibble: 1 × 2\n\n| hour &lt;int&gt; | avg_score &lt;dbl&gt; |\n|---|---|\n| 4 | 0.989179 |\n\n",
            "text/latex": "A tibble: 1 × 2\n\\begin{tabular}{ll}\n hour & avg\\_score\\\\\n <int> & <dbl>\\\\\n\\hline\n\t 4 & 0.989179\\\\\n\\end{tabular}\n",
            "text/plain": [
              "  hour avg_score\n",
              "1 4    0.989179 "
            ]
          },
          "metadata": {}
        }
      ],
      "source": [
        "### YOUR SOLUTION HERE\n",
        "#reddit %>% mutate(lowercase = str_to_lower(body)) %>% \n",
        "  #  mutate(word = str_extract_all(lowercase, \"[a-z]+\")) %>% unnest(word) %>% left_join(afinn) %>% \n",
        "   #   mutate(hour = lubridate::hour(created_utc)) %>%\n",
        "  # group_by(hour) %>% summarize(avg_score = mean(value)) %>% ggplot(aes(x = hour, y = avg_score)) + \n",
        "  #  geom_col()\n",
        "reddit %>% mutate(hour=hour(created_utc)) %>%\n",
        "  unnest_tokens(input=body, output=word) %>%\n",
        "  inner_join(afinn, by=\"word\") %>%\n",
        "  group_by(hour) %>%\n",
        "  summarize(avg_score = mean(value)) %>%\n",
        "  top_n(1, avg_score)"
      ]
    },
    {
      "cell_type": "markdown",
      "metadata": {
        "id": "_DTj2_MG0dDA"
      },
      "source": [
        "## Challenge Problem: Text Ranking (2 points)\n",
        "Not all terms/words are equally important, and some carry more information about contents. But how do we measure the importance? One popular method is using TF-IDF (term frequency–inverse document frequency). TF-IDF is a numerical statistic that is intended to reflect how important a word is to a document in a collection. Term Frequency measures the relative frequency of term within document. Inverse Document Frequency measures of how much information the word provides for the collection. \n",
        "\n",
        "We defined TF-IDF as:\n",
        "$$\\text{TF-IDF} = \\operatorname{TF}(t,d) \\times \\operatorname{IDF}(t)$$\n",
        "$$\\operatorname{TF}(t, d) = \\log(1+c(t,d))$$\n",
        "$$\\operatorname{IDF}(t) = 1 + \\log(N/k)$$\n",
        "where $c(t,d)$ is the frequency count of term $t$ in document $d$, $N$ is the total number of documents in the collection, $k$ is the number\n",
        "of documents containing term $t$\n"
      ]
    },
    {
      "cell_type": "markdown",
      "metadata": {
        "deletable": false,
        "editable": false,
        "id": "hZu4hDN843rC",
        "run_control": {
          "frozen": true
        }
      },
      "source": [
        "**(a)** Consider the Harry Potter series as a collection of documents(books), find top 5 words in each book ranked by TF-IDF. Comment on your finding. (1 point) \n",
        "\n",
        "_Hint_: You can either compute this by hand, using the definitions shown above, or employ built-in functions in the `tidytext` package."
      ]
    },
    {
      "cell_type": "code",
      "execution_count": 20,
      "metadata": {
        "id": "l6Pl8fTY1jQo",
        "vscode": {
          "languageId": "r"
        },
        "colab": {
          "base_uri": "https://localhost:8080/",
          "height": 1000
        },
        "outputId": "e7e5c38b-238c-4f68-8460-6956e93bcf58"
      },
      "outputs": [
        {
          "output_type": "display_data",
          "data": {
            "text/html": [
              "<table class=\"dataframe\">\n",
              "<caption>A grouped_df: 35 × 6</caption>\n",
              "<thead>\n",
              "\t<tr><th scope=col>book</th><th scope=col>chapter</th><th scope=col>word</th><th scope=col>tf</th><th scope=col>idf</th><th scope=col>tf_idf</th></tr>\n",
              "\t<tr><th scope=col>&lt;fct&gt;</th><th scope=col>&lt;int&gt;</th><th scope=col>&lt;chr&gt;</th><th scope=col>&lt;dbl&gt;</th><th scope=col>&lt;dbl&gt;</th><th scope=col>&lt;dbl&gt;</th></tr>\n",
              "</thead>\n",
              "<tbody>\n",
              "\t<tr><td>philosophers_stone  </td><td> 4</td><td>mom        </td><td>2.890372</td><td>2.945910</td><td> 8.514775</td></tr>\n",
              "\t<tr><td>philosophers_stone  </td><td> 1</td><td>the        </td><td>8.196988</td><td>1.000000</td><td> 8.196988</td></tr>\n",
              "\t<tr><td>philosophers_stone  </td><td> 1</td><td>and        </td><td>7.562162</td><td>1.000000</td><td> 7.562162</td></tr>\n",
              "\t<tr><td>philosophers_stone  </td><td> 1</td><td>to         </td><td>7.529406</td><td>1.000000</td><td> 7.529406</td></tr>\n",
              "\t<tr><td>philosophers_stone  </td><td> 1</td><td>a          </td><td>7.433667</td><td>1.000000</td><td> 7.433667</td></tr>\n",
              "\t<tr><td>chamber_of_secrets  </td><td> 1</td><td>the        </td><td>8.315566</td><td>1.000000</td><td> 8.315566</td></tr>\n",
              "\t<tr><td>chamber_of_secrets  </td><td> 3</td><td>gilderoy   </td><td>3.663562</td><td>2.252763</td><td> 8.253136</td></tr>\n",
              "\t<tr><td>chamber_of_secrets  </td><td> 3</td><td>lockhart   </td><td>5.288267</td><td>1.559616</td><td> 8.247665</td></tr>\n",
              "\t<tr><td>chamber_of_secrets  </td><td> 1</td><td>and        </td><td>7.681099</td><td>1.000000</td><td> 7.681099</td></tr>\n",
              "\t<tr><td>chamber_of_secrets  </td><td> 1</td><td>to         </td><td>7.612831</td><td>1.000000</td><td> 7.612831</td></tr>\n",
              "\t<tr><td>prisoner_of_azkaban </td><td> 1</td><td>the        </td><td>8.515392</td><td>1.000000</td><td> 8.515392</td></tr>\n",
              "\t<tr><td>prisoner_of_azkaban </td><td>10</td><td>pettigrew  </td><td>4.488636</td><td>1.847298</td><td> 8.291848</td></tr>\n",
              "\t<tr><td>prisoner_of_azkaban </td><td> 5</td><td>lupin      </td><td>5.913503</td><td>1.336472</td><td> 7.903233</td></tr>\n",
              "\t<tr><td>prisoner_of_azkaban </td><td> 1</td><td>and        </td><td>7.870930</td><td>1.000000</td><td> 7.870930</td></tr>\n",
              "\t<tr><td>prisoner_of_azkaban </td><td> 1</td><td>to         </td><td>7.845808</td><td>1.000000</td><td> 7.845808</td></tr>\n",
              "\t<tr><td>goblet_of_fire      </td><td>12</td><td>champions  </td><td>4.442651</td><td>2.945910</td><td>13.087651</td></tr>\n",
              "\t<tr><td>goblet_of_fire      </td><td> 5</td><td>ludo       </td><td>4.276666</td><td>2.945910</td><td>12.598674</td></tr>\n",
              "\t<tr><td>goblet_of_fire      </td><td> 5</td><td>bagman     </td><td>5.342334</td><td>2.252763</td><td>12.035013</td></tr>\n",
              "\t<tr><td>goblet_of_fire      </td><td> 8</td><td>winky      </td><td>4.983607</td><td>2.252763</td><td>11.226884</td></tr>\n",
              "\t<tr><td>goblet_of_fire      </td><td> 1</td><td>bertha     </td><td>3.663562</td><td>2.945910</td><td>10.792523</td></tr>\n",
              "\t<tr><td>half_blood_prince   </td><td> 4</td><td>slughorn   </td><td>5.817111</td><td>2.252763</td><td>13.104573</td></tr>\n",
              "\t<tr><td>half_blood_prince   </td><td> 7</td><td>mclaggen   </td><td>4.189655</td><td>2.945910</td><td>12.342346</td></tr>\n",
              "\t<tr><td>half_blood_prince   </td><td>10</td><td>morfin     </td><td>4.060443</td><td>2.945910</td><td>11.961700</td></tr>\n",
              "\t<tr><td>half_blood_prince   </td><td> 4</td><td>slughorn's </td><td>3.988984</td><td>2.945910</td><td>11.751189</td></tr>\n",
              "\t<tr><td>half_blood_prince   </td><td> 5</td><td>quot       </td><td>3.784190</td><td>2.945910</td><td>11.147883</td></tr>\n",
              "\t<tr><td>order_of_the_phoenix</td><td> 8</td><td>defence    </td><td>4.204693</td><td>2.945910</td><td>12.386647</td></tr>\n",
              "\t<tr><td>order_of_the_phoenix</td><td> 8</td><td>umbridge   </td><td>6.208590</td><td>1.847298</td><td>11.469115</td></tr>\n",
              "\t<tr><td>order_of_the_phoenix</td><td>12</td><td>umbridge's </td><td>4.304065</td><td>2.252763</td><td> 9.696038</td></tr>\n",
              "\t<tr><td>order_of_the_phoenix</td><td> 1</td><td>the        </td><td>9.370842</td><td>1.000000</td><td> 9.370842</td></tr>\n",
              "\t<tr><td>order_of_the_phoenix</td><td>15</td><td>inquisitor </td><td>3.178054</td><td>2.945910</td><td> 9.362261</td></tr>\n",
              "\t<tr><td>deathly_hallows     </td><td> 8</td><td>xenophilius</td><td>4.382027</td><td>2.945910</td><td>12.909057</td></tr>\n",
              "\t<tr><td>deathly_hallows     </td><td>20</td><td>hallows    </td><td>4.219508</td><td>2.945910</td><td>12.430291</td></tr>\n",
              "\t<tr><td>deathly_hallows     </td><td>25</td><td>diadem     </td><td>3.761200</td><td>2.945910</td><td>11.080158</td></tr>\n",
              "\t<tr><td>deathly_hallows     </td><td> 2</td><td>ariana     </td><td>3.737670</td><td>2.945910</td><td>11.010839</td></tr>\n",
              "\t<tr><td>deathly_hallows     </td><td>12</td><td>cattermole </td><td>3.737670</td><td>2.945910</td><td>11.010839</td></tr>\n",
              "</tbody>\n",
              "</table>\n"
            ],
            "text/markdown": "\nA grouped_df: 35 × 6\n\n| book &lt;fct&gt; | chapter &lt;int&gt; | word &lt;chr&gt; | tf &lt;dbl&gt; | idf &lt;dbl&gt; | tf_idf &lt;dbl&gt; |\n|---|---|---|---|---|---|\n| philosophers_stone   |  4 | mom         | 2.890372 | 2.945910 |  8.514775 |\n| philosophers_stone   |  1 | the         | 8.196988 | 1.000000 |  8.196988 |\n| philosophers_stone   |  1 | and         | 7.562162 | 1.000000 |  7.562162 |\n| philosophers_stone   |  1 | to          | 7.529406 | 1.000000 |  7.529406 |\n| philosophers_stone   |  1 | a           | 7.433667 | 1.000000 |  7.433667 |\n| chamber_of_secrets   |  1 | the         | 8.315566 | 1.000000 |  8.315566 |\n| chamber_of_secrets   |  3 | gilderoy    | 3.663562 | 2.252763 |  8.253136 |\n| chamber_of_secrets   |  3 | lockhart    | 5.288267 | 1.559616 |  8.247665 |\n| chamber_of_secrets   |  1 | and         | 7.681099 | 1.000000 |  7.681099 |\n| chamber_of_secrets   |  1 | to          | 7.612831 | 1.000000 |  7.612831 |\n| prisoner_of_azkaban  |  1 | the         | 8.515392 | 1.000000 |  8.515392 |\n| prisoner_of_azkaban  | 10 | pettigrew   | 4.488636 | 1.847298 |  8.291848 |\n| prisoner_of_azkaban  |  5 | lupin       | 5.913503 | 1.336472 |  7.903233 |\n| prisoner_of_azkaban  |  1 | and         | 7.870930 | 1.000000 |  7.870930 |\n| prisoner_of_azkaban  |  1 | to          | 7.845808 | 1.000000 |  7.845808 |\n| goblet_of_fire       | 12 | champions   | 4.442651 | 2.945910 | 13.087651 |\n| goblet_of_fire       |  5 | ludo        | 4.276666 | 2.945910 | 12.598674 |\n| goblet_of_fire       |  5 | bagman      | 5.342334 | 2.252763 | 12.035013 |\n| goblet_of_fire       |  8 | winky       | 4.983607 | 2.252763 | 11.226884 |\n| goblet_of_fire       |  1 | bertha      | 3.663562 | 2.945910 | 10.792523 |\n| half_blood_prince    |  4 | slughorn    | 5.817111 | 2.252763 | 13.104573 |\n| half_blood_prince    |  7 | mclaggen    | 4.189655 | 2.945910 | 12.342346 |\n| half_blood_prince    | 10 | morfin      | 4.060443 | 2.945910 | 11.961700 |\n| half_blood_prince    |  4 | slughorn's  | 3.988984 | 2.945910 | 11.751189 |\n| half_blood_prince    |  5 | quot        | 3.784190 | 2.945910 | 11.147883 |\n| order_of_the_phoenix |  8 | defence     | 4.204693 | 2.945910 | 12.386647 |\n| order_of_the_phoenix |  8 | umbridge    | 6.208590 | 1.847298 | 11.469115 |\n| order_of_the_phoenix | 12 | umbridge's  | 4.304065 | 2.252763 |  9.696038 |\n| order_of_the_phoenix |  1 | the         | 9.370842 | 1.000000 |  9.370842 |\n| order_of_the_phoenix | 15 | inquisitor  | 3.178054 | 2.945910 |  9.362261 |\n| deathly_hallows      |  8 | xenophilius | 4.382027 | 2.945910 | 12.909057 |\n| deathly_hallows      | 20 | hallows     | 4.219508 | 2.945910 | 12.430291 |\n| deathly_hallows      | 25 | diadem      | 3.761200 | 2.945910 | 11.080158 |\n| deathly_hallows      |  2 | ariana      | 3.737670 | 2.945910 | 11.010839 |\n| deathly_hallows      | 12 | cattermole  | 3.737670 | 2.945910 | 11.010839 |\n\n",
            "text/latex": "A grouped\\_df: 35 × 6\n\\begin{tabular}{llllll}\n book & chapter & word & tf & idf & tf\\_idf\\\\\n <fct> & <int> & <chr> & <dbl> & <dbl> & <dbl>\\\\\n\\hline\n\t philosophers\\_stone   &  4 & mom         & 2.890372 & 2.945910 &  8.514775\\\\\n\t philosophers\\_stone   &  1 & the         & 8.196988 & 1.000000 &  8.196988\\\\\n\t philosophers\\_stone   &  1 & and         & 7.562162 & 1.000000 &  7.562162\\\\\n\t philosophers\\_stone   &  1 & to          & 7.529406 & 1.000000 &  7.529406\\\\\n\t philosophers\\_stone   &  1 & a           & 7.433667 & 1.000000 &  7.433667\\\\\n\t chamber\\_of\\_secrets   &  1 & the         & 8.315566 & 1.000000 &  8.315566\\\\\n\t chamber\\_of\\_secrets   &  3 & gilderoy    & 3.663562 & 2.252763 &  8.253136\\\\\n\t chamber\\_of\\_secrets   &  3 & lockhart    & 5.288267 & 1.559616 &  8.247665\\\\\n\t chamber\\_of\\_secrets   &  1 & and         & 7.681099 & 1.000000 &  7.681099\\\\\n\t chamber\\_of\\_secrets   &  1 & to          & 7.612831 & 1.000000 &  7.612831\\\\\n\t prisoner\\_of\\_azkaban  &  1 & the         & 8.515392 & 1.000000 &  8.515392\\\\\n\t prisoner\\_of\\_azkaban  & 10 & pettigrew   & 4.488636 & 1.847298 &  8.291848\\\\\n\t prisoner\\_of\\_azkaban  &  5 & lupin       & 5.913503 & 1.336472 &  7.903233\\\\\n\t prisoner\\_of\\_azkaban  &  1 & and         & 7.870930 & 1.000000 &  7.870930\\\\\n\t prisoner\\_of\\_azkaban  &  1 & to          & 7.845808 & 1.000000 &  7.845808\\\\\n\t goblet\\_of\\_fire       & 12 & champions   & 4.442651 & 2.945910 & 13.087651\\\\\n\t goblet\\_of\\_fire       &  5 & ludo        & 4.276666 & 2.945910 & 12.598674\\\\\n\t goblet\\_of\\_fire       &  5 & bagman      & 5.342334 & 2.252763 & 12.035013\\\\\n\t goblet\\_of\\_fire       &  8 & winky       & 4.983607 & 2.252763 & 11.226884\\\\\n\t goblet\\_of\\_fire       &  1 & bertha      & 3.663562 & 2.945910 & 10.792523\\\\\n\t half\\_blood\\_prince    &  4 & slughorn    & 5.817111 & 2.252763 & 13.104573\\\\\n\t half\\_blood\\_prince    &  7 & mclaggen    & 4.189655 & 2.945910 & 12.342346\\\\\n\t half\\_blood\\_prince    & 10 & morfin      & 4.060443 & 2.945910 & 11.961700\\\\\n\t half\\_blood\\_prince    &  4 & slughorn's  & 3.988984 & 2.945910 & 11.751189\\\\\n\t half\\_blood\\_prince    &  5 & quot        & 3.784190 & 2.945910 & 11.147883\\\\\n\t order\\_of\\_the\\_phoenix &  8 & defence     & 4.204693 & 2.945910 & 12.386647\\\\\n\t order\\_of\\_the\\_phoenix &  8 & umbridge    & 6.208590 & 1.847298 & 11.469115\\\\\n\t order\\_of\\_the\\_phoenix & 12 & umbridge's  & 4.304065 & 2.252763 &  9.696038\\\\\n\t order\\_of\\_the\\_phoenix &  1 & the         & 9.370842 & 1.000000 &  9.370842\\\\\n\t order\\_of\\_the\\_phoenix & 15 & inquisitor  & 3.178054 & 2.945910 &  9.362261\\\\\n\t deathly\\_hallows      &  8 & xenophilius & 4.382027 & 2.945910 & 12.909057\\\\\n\t deathly\\_hallows      & 20 & hallows     & 4.219508 & 2.945910 & 12.430291\\\\\n\t deathly\\_hallows      & 25 & diadem      & 3.761200 & 2.945910 & 11.080158\\\\\n\t deathly\\_hallows      &  2 & ariana      & 3.737670 & 2.945910 & 11.010839\\\\\n\t deathly\\_hallows      & 12 & cattermole  & 3.737670 & 2.945910 & 11.010839\\\\\n\\end{tabular}\n",
            "text/plain": [
              "   book                 chapter word        tf       idf      tf_idf   \n",
              "1  philosophers_stone    4      mom         2.890372 2.945910  8.514775\n",
              "2  philosophers_stone    1      the         8.196988 1.000000  8.196988\n",
              "3  philosophers_stone    1      and         7.562162 1.000000  7.562162\n",
              "4  philosophers_stone    1      to          7.529406 1.000000  7.529406\n",
              "5  philosophers_stone    1      a           7.433667 1.000000  7.433667\n",
              "6  chamber_of_secrets    1      the         8.315566 1.000000  8.315566\n",
              "7  chamber_of_secrets    3      gilderoy    3.663562 2.252763  8.253136\n",
              "8  chamber_of_secrets    3      lockhart    5.288267 1.559616  8.247665\n",
              "9  chamber_of_secrets    1      and         7.681099 1.000000  7.681099\n",
              "10 chamber_of_secrets    1      to          7.612831 1.000000  7.612831\n",
              "11 prisoner_of_azkaban   1      the         8.515392 1.000000  8.515392\n",
              "12 prisoner_of_azkaban  10      pettigrew   4.488636 1.847298  8.291848\n",
              "13 prisoner_of_azkaban   5      lupin       5.913503 1.336472  7.903233\n",
              "14 prisoner_of_azkaban   1      and         7.870930 1.000000  7.870930\n",
              "15 prisoner_of_azkaban   1      to          7.845808 1.000000  7.845808\n",
              "16 goblet_of_fire       12      champions   4.442651 2.945910 13.087651\n",
              "17 goblet_of_fire        5      ludo        4.276666 2.945910 12.598674\n",
              "18 goblet_of_fire        5      bagman      5.342334 2.252763 12.035013\n",
              "19 goblet_of_fire        8      winky       4.983607 2.252763 11.226884\n",
              "20 goblet_of_fire        1      bertha      3.663562 2.945910 10.792523\n",
              "21 half_blood_prince     4      slughorn    5.817111 2.252763 13.104573\n",
              "22 half_blood_prince     7      mclaggen    4.189655 2.945910 12.342346\n",
              "23 half_blood_prince    10      morfin      4.060443 2.945910 11.961700\n",
              "24 half_blood_prince     4      slughorn's  3.988984 2.945910 11.751189\n",
              "25 half_blood_prince     5      quot        3.784190 2.945910 11.147883\n",
              "26 order_of_the_phoenix  8      defence     4.204693 2.945910 12.386647\n",
              "27 order_of_the_phoenix  8      umbridge    6.208590 1.847298 11.469115\n",
              "28 order_of_the_phoenix 12      umbridge's  4.304065 2.252763  9.696038\n",
              "29 order_of_the_phoenix  1      the         9.370842 1.000000  9.370842\n",
              "30 order_of_the_phoenix 15      inquisitor  3.178054 2.945910  9.362261\n",
              "31 deathly_hallows       8      xenophilius 4.382027 2.945910 12.909057\n",
              "32 deathly_hallows      20      hallows     4.219508 2.945910 12.430291\n",
              "33 deathly_hallows      25      diadem      3.761200 2.945910 11.080158\n",
              "34 deathly_hallows       2      ariana      3.737670 2.945910 11.010839\n",
              "35 deathly_hallows      12      cattermole  3.737670 2.945910 11.010839"
            ]
          },
          "metadata": {}
        }
      ],
      "source": [
        "### YOUR SOLUTION HERE\n",
        "df3a <- map_dfr(books, ~tibble(book=., chapter=seq_along(get(.)), text=get(.))) %>%\n",
        "  unnest_tokens(input=text, output=word, drop=T) %>%\n",
        "  group_by(book, word) %>% mutate(tf = log(n() + 1)) %>%\n",
        "  group_by(word) %>% mutate(idf = 1 + log(7/n_distinct(book)), tf_idf=tf * idf) %>%\n",
        "  distinct(book, word, .keep_all = TRUE) %>%\n",
        "  mutate(book = factor(book, levels=books)) %>% arrange(desc(book)) %>%\n",
        "  group_by(book) %>% arrange(desc(tf_idf), .by_group=T) %>%\n",
        "  slice(1:5)\n",
        "df3a"
      ]
    },
    {
      "cell_type": "markdown",
      "metadata": {
        "deletable": false,
        "editable": false,
        "id": "wK3R5ekO50Lj",
        "run_control": {
          "frozen": true
        }
      },
      "source": [
        "**(b)** Stop words are a set of commonly used words in a language like \"the\", \"of\", \"and\", \"to\", \"a\". The `stop_words` table contains a list of such words. If you ignore all the words in `stop_words`, what are the top 10 words (again ranked by TF-IDF) in each Harry Potter book? (1 point)\n",
        "\n",
        "_Hint_: use `anti_join` to exclude words in `stop_words`."
      ]
    },
    {
      "cell_type": "code",
      "execution_count": null,
      "metadata": {
        "id": "_sni-_AHxh0q",
        "vscode": {
          "languageId": "r"
        }
      },
      "outputs": [],
      "source": [
        "### YOUR SOLUTION HERE\n"
      ]
    }
  ],
  "metadata": {
    "celltoolbar": "Create Assignment",
    "colab": {
      "provenance": []
    },
    "kernelspec": {
      "display_name": "R",
      "language": "R",
      "name": "ir"
    },
    "language_info": {
      "codemirror_mode": "r",
      "file_extension": ".r",
      "mimetype": "text/x-r-source",
      "name": "R",
      "pygments_lexer": "r",
      "version": "4.2.1"
    }
  },
  "nbformat": 4,
  "nbformat_minor": 0
}